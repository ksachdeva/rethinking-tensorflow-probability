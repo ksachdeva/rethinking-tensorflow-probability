{
 "cells": [
  {
   "cell_type": "markdown",
   "metadata": {},
   "source": [
    "[![Open In Colab](https://colab.research.google.com/assets/colab-badge.svg)](https://colab.research.google.com/github/ksachdeva/rethinking-tensorflow-probability/blob/master/notebooks/06_the_haunted_dag_and_the_causal_terror.ipynb)"
   ]
  },
  {
   "cell_type": "markdown",
   "metadata": {},
   "source": [
    "# 6. The Haunted DAG and The Causal Terror"
   ]
  },
  {
   "cell_type": "code",
   "execution_count": 1,
   "metadata": {},
   "outputs": [],
   "source": [
    "# Install packages that are not installed in colab\n",
    "try:\n",
    "  import google.colab\n",
    "  !pip install --upgrade -q daft\n",
    "  !pip install -q causalgraphicalmodels\n",
    "  !pip install -q watermark\n",
    "  !pip install git+https://github.com/ksachdeva/rethinking-tensorflow-probability.git\n",
    "except:\n",
    "  pass"
   ]
  },
  {
   "cell_type": "code",
   "execution_count": 2,
   "metadata": {},
   "outputs": [],
   "source": [
    "%load_ext watermark"
   ]
  },
  {
   "cell_type": "code",
   "execution_count": 3,
   "metadata": {},
   "outputs": [],
   "source": [
    "# Core\n",
    "import numpy as np\n",
    "import arviz as az\n",
    "import pandas as pd\n",
    "import tensorflow as tf\n",
    "import tensorflow_probability as tfp\n",
    "from statsmodels.regression import linear_model\n",
    "\n",
    "# visualization \n",
    "import matplotlib.pyplot as plt\n",
    "\n",
    "import daft\n",
    "from causalgraphicalmodels import CausalGraphicalModel\n",
    "\n",
    "from rethinking.data import RethinkingDataset\n",
    "from rethinking.data import dataframe_to_tensors\n",
    "from rethinking.mcmc import sample_posterior\n",
    "\n",
    "# aliases\n",
    "tfd = tfp.distributions\n",
    "tfb = tfp.bijectors\n",
    "Root = tfd.JointDistributionCoroutine.Root"
   ]
  },
  {
   "cell_type": "code",
   "execution_count": 4,
   "metadata": {},
   "outputs": [
    {
     "name": "stdout",
     "output_type": "stream",
     "text": [
      "numpy                 : 1.21.5\n",
      "tensorflow            : 2.7.0\n",
      "tensorflow_probability: 0.15.0\n",
      "arviz                 : 0.11.4\n",
      "scipy                 : 1.7.3\n",
      "pandas                : 1.3.5\n",
      "statsmodels           : 0.13.1\n",
      "daft                  : 0.1.2\n",
      "causalgraphicalmodels : 0.0.4\n",
      "rethinking            : 0.1.0\n",
      "\n"
     ]
    }
   ],
   "source": [
    "%watermark -p numpy,tensorflow,tensorflow_probability,arviz,scipy,pandas,statsmodels,daft,causalgraphicalmodels,rethinking"
   ]
  },
  {
   "cell_type": "code",
   "execution_count": 5,
   "metadata": {},
   "outputs": [],
   "source": [
    "# config of various plotting libraries\n",
    "%config InlineBackend.figure_format = 'retina'"
   ]
  },
  {
   "cell_type": "markdown",
   "metadata": {},
   "source": [
    "\n",
    "\n",
    "**Berkson's paradox** - A *false* observation of a *negative* coorelation between 2 positive traits.\n",
    "\n",
    "Members of a population which have some positive trait tend to lack a second even though -:\n",
    "\n",
    "* The traits may be unrelated\n",
    "\n",
    "* Or, they may be even positively related.\n",
    "\n",
    "e.g Resturants at good location have bad food even though location & food have no correlation\n",
    "\n",
    "**Berkon's paradox** is also called **selection-distortion effect**.\n",
    "\n",
    "The gist of the idea here is that when a sample is selected on a combination of 2 (or more) variables, the relationship between those 2 variables is different after selection than it was before. \n",
    "\n",
    "Because of above, we should always be cautious of adding more predictor variables to our regression as it may introduce statistical selection with in the model. The phenomenon has a name and it is called **COLLIDER BIAS**.\n",
    "\n",
    "There are actually 3 types of hazards when we add more predictor variables -\n",
    "\n",
    "* Multicollinearity \n",
    "* Post treatment bias\n",
    "* Collider bias\n",
    "\n",
    "Collider - a beam in which two particles are made to collide (collision)\n",
    "\n"
   ]
  },
  {
   "cell_type": "markdown",
   "metadata": {},
   "source": [
    "### Overthinking : Simulated Science Distorion\n",
    "\n",
    "\n",
    "\n"
   ]
  },
  {
   "cell_type": "markdown",
   "metadata": {},
   "source": [
    "##### Code 6.1\n",
    "\n",
    "A simulated example to demonstrate selection-distortion effect. It has been observed that newsworthiness and trustworthiness of papers accepted by journal are factors in getting the funding.\n",
    "\n",
    "Below code shows how they correlated with each other."
   ]
  },
  {
   "cell_type": "code",
   "execution_count": 6,
   "metadata": {},
   "outputs": [
    {
     "data": {
      "text/plain": [
       "-0.828225254885134"
      ]
     },
     "execution_count": 6,
     "metadata": {},
     "output_type": "execute_result"
    }
   ],
   "source": [
    "# A simulated example to demonstrate selection-disortion \n",
    "#\n",
    "# Here\n",
    "\n",
    "_SEED = 1914\n",
    "\n",
    "N = 200\n",
    "p = 0.1  # proportion to select\n",
    "\n",
    "# uncorrelated newsworthiness & trustworthiness\n",
    "seed = tfp.util.SeedStream(_SEED, salt=\"\")\n",
    "nw = tfd.Normal(loc=0., scale=1.).sample(N, seed=seed()).numpy()\n",
    "seed = tfp.util.SeedStream(_SEED, salt=\"\")\n",
    "tw = tfd.Normal(loc=0., scale=1.).sample(N, seed=seed()).numpy()\n",
    "\n",
    "# select top 10% of combined scores\n",
    "s = nw + tw  # total score\n",
    "q = np.quantile(s, 1 - p)  # top 10% threshold\n",
    "\n",
    "selected = np.where(s >= q, True, False)\n",
    "\n",
    "np.corrcoef(tw[selected], nw[selected])[0, 1]"
   ]
  },
  {
   "cell_type": "markdown",
   "metadata": {},
   "source": [
    "This shows that nw (newsworthiness) & tw (trustworthiness) are **heavily negivately correlated**."
   ]
  },
  {
   "cell_type": "markdown",
   "metadata": {},
   "source": [
    "## 6.1 Multicollinearity\n",
    "\n",
    "**Multicollinearity** happens when the predictor variables are stronly correlated.\n",
    "\n",
    "When this happens the posterior distribution will seem to suggest that none of the variables is reliably associated with the outcome. \n",
    "\n",
    "Model will still infer correct results but it would be difficult to understand it."
   ]
  },
  {
   "cell_type": "markdown",
   "metadata": {},
   "source": [
    "### 6.1.1 Multicollinear legs\n",
    "\n",
    "Here we create an artifical dataset about height & its relation to the length of the legs as predictor variables.\n",
    "\n",
    "The two legs are more or less of same length so they are correlated with each other. Including both of the legs as the predictors result in multicollinearity"
   ]
  },
  {
   "cell_type": "markdown",
   "metadata": {},
   "source": [
    "##### Code 6.2\n",
    "\n"
   ]
  },
  {
   "cell_type": "code",
   "execution_count": 7,
   "metadata": {},
   "outputs": [
    {
     "data": {
      "text/html": [
       "<div>\n",
       "<style scoped>\n",
       "    .dataframe tbody tr th:only-of-type {\n",
       "        vertical-align: middle;\n",
       "    }\n",
       "\n",
       "    .dataframe tbody tr th {\n",
       "        vertical-align: top;\n",
       "    }\n",
       "\n",
       "    .dataframe thead th {\n",
       "        text-align: right;\n",
       "    }\n",
       "</style>\n",
       "<table border=\"1\" class=\"dataframe\">\n",
       "  <thead>\n",
       "    <tr style=\"text-align: right;\">\n",
       "      <th></th>\n",
       "      <th>height</th>\n",
       "      <th>leg_left</th>\n",
       "      <th>leg_right</th>\n",
       "    </tr>\n",
       "  </thead>\n",
       "  <tbody>\n",
       "    <tr>\n",
       "      <th>count</th>\n",
       "      <td>100.000000</td>\n",
       "      <td>100.000000</td>\n",
       "      <td>100.000000</td>\n",
       "    </tr>\n",
       "    <tr>\n",
       "      <th>mean</th>\n",
       "      <td>10.244188</td>\n",
       "      <td>4.586804</td>\n",
       "      <td>4.589090</td>\n",
       "    </tr>\n",
       "    <tr>\n",
       "      <th>std</th>\n",
       "      <td>1.971723</td>\n",
       "      <td>0.856999</td>\n",
       "      <td>0.857432</td>\n",
       "    </tr>\n",
       "    <tr>\n",
       "      <th>min</th>\n",
       "      <td>6.569585</td>\n",
       "      <td>2.711091</td>\n",
       "      <td>2.734310</td>\n",
       "    </tr>\n",
       "    <tr>\n",
       "      <th>25%</th>\n",
       "      <td>8.705090</td>\n",
       "      <td>3.959075</td>\n",
       "      <td>3.970327</td>\n",
       "    </tr>\n",
       "    <tr>\n",
       "      <th>50%</th>\n",
       "      <td>10.478082</td>\n",
       "      <td>4.628943</td>\n",
       "      <td>4.644671</td>\n",
       "    </tr>\n",
       "    <tr>\n",
       "      <th>75%</th>\n",
       "      <td>11.372977</td>\n",
       "      <td>5.143220</td>\n",
       "      <td>5.147640</td>\n",
       "    </tr>\n",
       "    <tr>\n",
       "      <th>max</th>\n",
       "      <td>15.219750</td>\n",
       "      <td>7.189007</td>\n",
       "      <td>7.178730</td>\n",
       "    </tr>\n",
       "  </tbody>\n",
       "</table>\n",
       "</div>"
      ],
      "text/plain": [
       "           height    leg_left   leg_right\n",
       "count  100.000000  100.000000  100.000000\n",
       "mean    10.244188    4.586804    4.589090\n",
       "std      1.971723    0.856999    0.857432\n",
       "min      6.569585    2.711091    2.734310\n",
       "25%      8.705090    3.959075    3.970327\n",
       "50%     10.478082    4.628943    4.644671\n",
       "75%     11.372977    5.143220    5.147640\n",
       "max     15.219750    7.189007    7.178730"
      ]
     },
     "execution_count": 7,
     "metadata": {},
     "output_type": "execute_result"
    }
   ],
   "source": [
    "_SEED = 909\n",
    "\n",
    "N = 100\n",
    "\n",
    "def generate_height_leg_data():\n",
    "    seed = tfp.util.SeedStream(_SEED, salt=\"leg_exp\")\n",
    "    height = tfd.Normal(loc=10., scale=2.).sample(N, seed=seed()).numpy()\n",
    "    leg_prop = tfd.Uniform(low=0.4, high=0.5).sample(N, seed=seed()).numpy()\n",
    "\n",
    "    # left & right leg as proportion + error\n",
    "    leg_left = leg_prop * height + tfd.Normal(loc=0, scale=0.02).sample(N, seed=seed()).numpy()\n",
    "\n",
    "    leg_right = leg_prop * height + tfd.Normal(loc=0, scale=0.02).sample(N, seed=seed()).numpy()\n",
    "\n",
    "    # build a dataframe using above\n",
    "    d = pd.DataFrame({\n",
    "        \"height\" : height,\n",
    "        \"leg_left\" : leg_left,\n",
    "        \"leg_right\" : leg_right\n",
    "    })\n",
    "\n",
    "    return d\n",
    "\n",
    "d = generate_height_leg_data()\n",
    "\n",
    "d.describe()"
   ]
  },
  {
   "cell_type": "markdown",
   "metadata": {},
   "source": [
    "##### Code 6.3 \n",
    "\n",
    "Very vague and bad priors are used in the model here so that we can be sure that priors are not responsible for what we are about to observe"
   ]
  },
  {
   "cell_type": "code",
   "execution_count": 8,
   "metadata": {},
   "outputs": [],
   "source": [
    "tdf = dataframe_to_tensors('SimulatedHeight', d, ['leg_left', 'leg_right', 'height'])\n",
    "\n",
    "def model_6_1(leg_left_data, leg_right_data):\n",
    "    def _generator():\n",
    "      alpha = yield Root(tfd.Sample(tfd.Normal(loc=10., scale=100., name=\"alpha\"), sample_shape=1))\n",
    "      betaL = yield Root(tfd.Sample(tfd.Normal(loc=2., scale=10., name=\"betaL\"), sample_shape=1))\n",
    "      betaR = yield Root(tfd.Sample(tfd.Normal(loc=2., scale=10., name=\"betaR\"), sample_shape=1))\n",
    "      sigma = yield Root(tfd.Sample(tfd.Exponential(rate=1., name=\"sigma\"), sample_shape=1))\n",
    "\n",
    "      mu = tf.squeeze(\n",
    "          alpha[...,tf.newaxis] + \\\n",
    "          betaL[...,tf.newaxis] * leg_left_data + \\\n",
    "          betaR[...,tf.newaxis] * leg_right_data\n",
    "      )\n",
    "        \n",
    "      scale = sigma[...,tf.newaxis]\n",
    "        \n",
    "      height = yield tfd.Independent(\n",
    "                      tfd.Normal(loc=mu, scale=scale, name=\"height\"), \n",
    "                      reinterpreted_batch_ndims=1)\n",
    "\n",
    "    return tfd.JointDistributionCoroutine(_generator, validate_args=False)    \n",
    "    \n",
    "jdc_6_1 = model_6_1(tdf.leg_left, tdf.leg_right)"
   ]
  },
  {
   "cell_type": "code",
   "execution_count": 9,
   "metadata": {},
   "outputs": [
    {
     "data": {
      "text/html": [
       "<div>\n",
       "<style scoped>\n",
       "    .dataframe tbody tr th:only-of-type {\n",
       "        vertical-align: middle;\n",
       "    }\n",
       "\n",
       "    .dataframe tbody tr th {\n",
       "        vertical-align: top;\n",
       "    }\n",
       "\n",
       "    .dataframe thead th {\n",
       "        text-align: right;\n",
       "    }\n",
       "</style>\n",
       "<table border=\"1\" class=\"dataframe\">\n",
       "  <thead>\n",
       "    <tr style=\"text-align: right;\">\n",
       "      <th></th>\n",
       "      <th>mean</th>\n",
       "      <th>sd</th>\n",
       "      <th>hdi_5.5%</th>\n",
       "      <th>hdi_94.5%</th>\n",
       "      <th>mcse_mean</th>\n",
       "      <th>mcse_sd</th>\n",
       "      <th>ess_bulk</th>\n",
       "      <th>ess_tail</th>\n",
       "      <th>r_hat</th>\n",
       "    </tr>\n",
       "  </thead>\n",
       "  <tbody>\n",
       "    <tr>\n",
       "      <th>alpha</th>\n",
       "      <td>0.309</td>\n",
       "      <td>0.339</td>\n",
       "      <td>-0.230</td>\n",
       "      <td>0.842</td>\n",
       "      <td>0.040</td>\n",
       "      <td>0.028</td>\n",
       "      <td>73.0</td>\n",
       "      <td>127.0</td>\n",
       "      <td>1.05</td>\n",
       "    </tr>\n",
       "    <tr>\n",
       "      <th>betaL</th>\n",
       "      <td>0.901</td>\n",
       "      <td>0.692</td>\n",
       "      <td>-0.096</td>\n",
       "      <td>2.032</td>\n",
       "      <td>0.352</td>\n",
       "      <td>0.271</td>\n",
       "      <td>4.0</td>\n",
       "      <td>22.0</td>\n",
       "      <td>1.46</td>\n",
       "    </tr>\n",
       "    <tr>\n",
       "      <th>betaR</th>\n",
       "      <td>1.265</td>\n",
       "      <td>0.707</td>\n",
       "      <td>0.149</td>\n",
       "      <td>2.360</td>\n",
       "      <td>0.366</td>\n",
       "      <td>0.289</td>\n",
       "      <td>4.0</td>\n",
       "      <td>22.0</td>\n",
       "      <td>1.48</td>\n",
       "    </tr>\n",
       "    <tr>\n",
       "      <th>sigma</th>\n",
       "      <td>0.660</td>\n",
       "      <td>0.047</td>\n",
       "      <td>0.581</td>\n",
       "      <td>0.729</td>\n",
       "      <td>0.001</td>\n",
       "      <td>0.001</td>\n",
       "      <td>1185.0</td>\n",
       "      <td>821.0</td>\n",
       "      <td>1.00</td>\n",
       "    </tr>\n",
       "  </tbody>\n",
       "</table>\n",
       "</div>"
      ],
      "text/plain": [
       "        mean     sd  hdi_5.5%  hdi_94.5%  mcse_mean  mcse_sd  ess_bulk  \\\n",
       "alpha  0.309  0.339    -0.230      0.842      0.040    0.028      73.0   \n",
       "betaL  0.901  0.692    -0.096      2.032      0.352    0.271       4.0   \n",
       "betaR  1.265  0.707     0.149      2.360      0.366    0.289       4.0   \n",
       "sigma  0.660  0.047     0.581      0.729      0.001    0.001    1185.0   \n",
       "\n",
       "       ess_tail  r_hat  \n",
       "alpha     127.0   1.05  \n",
       "betaL      22.0   1.46  \n",
       "betaR      22.0   1.48  \n",
       "sigma     821.0   1.00  "
      ]
     },
     "execution_count": 9,
     "metadata": {},
     "output_type": "execute_result"
    }
   ],
   "source": [
    "NUM_CHAINS_FOR_6_1 = 2\n",
    "\n",
    "# Note - \n",
    "# I got somewhat ok looking results with this init values\n",
    "init_state = [\n",
    "    tf.ones([NUM_CHAINS_FOR_6_1]),\n",
    "    tf.ones([NUM_CHAINS_FOR_6_1]),\n",
    "    tf.ones([NUM_CHAINS_FOR_6_1]),\n",
    "    tf.ones([NUM_CHAINS_FOR_6_1])    \n",
    "]\n",
    "\n",
    "bijectors = [\n",
    "    tfb.Identity(),\n",
    "    tfb.Identity(),\n",
    "    tfb.Identity(),\n",
    "    tfb.Exp()\n",
    "]\n",
    "\n",
    "observed_data = (tdf.height, )\n",
    "\n",
    "posterior_6_1, trace_6_1 = sample_posterior(\n",
    "                                jdc_6_1, \n",
    "                                observed_data=observed_data, \n",
    "                                num_chains=NUM_CHAINS_FOR_6_1,\n",
    "                                init_state = init_state,\n",
    "                                bijectors = bijectors,\n",
    "                                num_samples=4000,\n",
    "                                burnin=500,\n",
    "                                params=['alpha', 'betaL', 'betaR', 'sigma'])\n",
    "\n",
    "az.summary(trace_6_1, hdi_prob=0.89)"
   ]
  },
  {
   "cell_type": "markdown",
   "metadata": {},
   "source": [
    "Notice betaL and betaR values. How can they be so different ? Afterall we know that the legs are more or less of same lenght so their effects should be both equal. This is confusing indeed !"
   ]
  },
  {
   "cell_type": "code",
   "execution_count": 10,
   "metadata": {},
   "outputs": [
    {
     "data": {
      "image/png": "[encoded data removed]",
      "text/plain": [
       "<Figure size 432x532.8 with 1 Axes>"
      ]
     },
     "metadata": {
      "image/png": {
       "height": 455,
       "width": 398
      },
      "needs_background": "light"
     },
     "output_type": "display_data"
    }
   ],
   "source": [
    "az.plot_forest(trace_6_1, hdi_prob=0.89, combined=True);"
   ]
  },
  {
   "cell_type": "markdown",
   "metadata": {},
   "source": [
    "##### Code 6.5 \n",
    "\n",
    "Looking at the bivariate posterior distribution for betaR & betaL.\n",
    "\n",
    "Since both variables contain identical information, the posterior is a narrow ridge of negatively correlated values."
   ]
  },
  {
   "cell_type": "code",
   "execution_count": 11,
   "metadata": {},
   "outputs": [
    {
     "data": {
      "image/png": "[encoded data removed]",
      "text/plain": [
       "<Figure size 504x216 with 1 Axes>"
      ]
     },
     "metadata": {
      "image/png": {
       "height": 207,
       "width": 443
      },
      "needs_background": "light"
     },
     "output_type": "display_data"
    }
   ],
   "source": [
    "fig, ax = plt.subplots(1, 1, figsize=[7, 3])\n",
    "\n",
    "plt.scatter(posterior_6_1['betaR'], posterior_6_1['betaL'], alpha=0.05, s=20)\n",
    "ax.set_xlabel(\"br\")\n",
    "ax.set_ylabel(\"bl\");"
   ]
  },
  {
   "cell_type": "markdown",
   "metadata": {},
   "source": [
    "##### Code 6.6 \n",
    "\n",
    "Below plot shows that the posterior distribution of sum of the two parameters is centered on the proper association of either leg with height"
   ]
  },
  {
   "cell_type": "code",
   "execution_count": 12,
   "metadata": {},
   "outputs": [
    {
     "data": {
      "image/png": "[encoded data removed]",
      "text/plain": [
       "<Figure size 432x288 with 1 Axes>"
      ]
     },
     "metadata": {
      "image/png": {
       "height": 252,
       "width": 366
      },
      "needs_background": "light"
     },
     "output_type": "display_data"
    }
   ],
   "source": [
    "sum_blbr = posterior_6_1[\"betaL\"] + posterior_6_1[\"betaR\"]\n",
    "az.plot_kde(sum_blbr.numpy(), label=\"sum of bl and br\");"
   ]
  },
  {
   "cell_type": "markdown",
   "metadata": {},
   "source": [
    "##### Code 6.7\n",
    "\n",
    "We will now do the regression using only one leg and the posterior mean will be approximately the same.\n",
    "\n",
    "Building the model using only left leg."
   ]
  },
  {
   "cell_type": "code",
   "execution_count": 13,
   "metadata": {},
   "outputs": [],
   "source": [
    "def model_6_2(leg_left_data):\n",
    "    def _generator():\n",
    "      alpha = yield Root(tfd.Sample(tfd.Normal(loc=10., scale=100., name=\"alpha\"), sample_shape=1))\n",
    "      betaL = yield Root(tfd.Sample(tfd.Normal(loc=2., scale=10., name=\"betaL\"), sample_shape=1))\n",
    "      sigma = yield Root(tfd.Sample(tfd.Exponential(rate=1., name=\"sigma\"), sample_shape=1))\n",
    "\n",
    "      mu = tf.squeeze(\n",
    "          alpha[...,tf.newaxis] + \\\n",
    "          betaL[...,tf.newaxis] * leg_left_data\n",
    "      )\n",
    "        \n",
    "      scale = sigma[...,tf.newaxis]\n",
    "        \n",
    "      height = yield tfd.Independent(\n",
    "                      tfd.Normal(loc=mu, scale=scale, name=\"height\"), \n",
    "                      reinterpreted_batch_ndims=1)\n",
    "\n",
    "    return tfd.JointDistributionCoroutine(_generator, validate_args=False)    \n",
    "    \n",
    "jdc_6_2 = model_6_2(tdf.leg_left)"
   ]
  },
  {
   "cell_type": "code",
   "execution_count": 14,
   "metadata": {},
   "outputs": [
    {
     "data": {
      "text/html": [
       "<div>\n",
       "<style scoped>\n",
       "    .dataframe tbody tr th:only-of-type {\n",
       "        vertical-align: middle;\n",
       "    }\n",
       "\n",
       "    .dataframe tbody tr th {\n",
       "        vertical-align: top;\n",
       "    }\n",
       "\n",
       "    .dataframe thead th {\n",
       "        text-align: right;\n",
       "    }\n",
       "</style>\n",
       "<table border=\"1\" class=\"dataframe\">\n",
       "  <thead>\n",
       "    <tr style=\"text-align: right;\">\n",
       "      <th></th>\n",
       "      <th>mean</th>\n",
       "      <th>sd</th>\n",
       "      <th>hdi_5.5%</th>\n",
       "      <th>hdi_94.5%</th>\n",
       "      <th>mcse_mean</th>\n",
       "      <th>mcse_sd</th>\n",
       "      <th>ess_bulk</th>\n",
       "      <th>ess_tail</th>\n",
       "      <th>r_hat</th>\n",
       "    </tr>\n",
       "  </thead>\n",
       "  <tbody>\n",
       "    <tr>\n",
       "      <th>alpha</th>\n",
       "      <td>0.300</td>\n",
       "      <td>0.388</td>\n",
       "      <td>-0.331</td>\n",
       "      <td>0.936</td>\n",
       "      <td>0.053</td>\n",
       "      <td>0.038</td>\n",
       "      <td>54.0</td>\n",
       "      <td>135.0</td>\n",
       "      <td>1.02</td>\n",
       "    </tr>\n",
       "    <tr>\n",
       "      <th>betaL</th>\n",
       "      <td>2.168</td>\n",
       "      <td>0.083</td>\n",
       "      <td>2.033</td>\n",
       "      <td>2.304</td>\n",
       "      <td>0.011</td>\n",
       "      <td>0.008</td>\n",
       "      <td>55.0</td>\n",
       "      <td>132.0</td>\n",
       "      <td>1.02</td>\n",
       "    </tr>\n",
       "    <tr>\n",
       "      <th>sigma</th>\n",
       "      <td>0.664</td>\n",
       "      <td>0.049</td>\n",
       "      <td>0.585</td>\n",
       "      <td>0.741</td>\n",
       "      <td>0.001</td>\n",
       "      <td>0.001</td>\n",
       "      <td>1459.0</td>\n",
       "      <td>2293.0</td>\n",
       "      <td>1.00</td>\n",
       "    </tr>\n",
       "  </tbody>\n",
       "</table>\n",
       "</div>"
      ],
      "text/plain": [
       "        mean     sd  hdi_5.5%  hdi_94.5%  mcse_mean  mcse_sd  ess_bulk  \\\n",
       "alpha  0.300  0.388    -0.331      0.936      0.053    0.038      54.0   \n",
       "betaL  2.168  0.083     2.033      2.304      0.011    0.008      55.0   \n",
       "sigma  0.664  0.049     0.585      0.741      0.001    0.001    1459.0   \n",
       "\n",
       "       ess_tail  r_hat  \n",
       "alpha     135.0   1.02  \n",
       "betaL     132.0   1.02  \n",
       "sigma    2293.0   1.00  "
      ]
     },
     "execution_count": 14,
     "metadata": {},
     "output_type": "execute_result"
    }
   ],
   "source": [
    "NUM_CHAINS_FOR_6_2 = 2\n",
    "\n",
    "# Note - \n",
    "# I got somewhat ok looking results with this init values\n",
    "init_state = [\n",
    "    tf.ones([NUM_CHAINS_FOR_6_2]),\n",
    "    tf.ones([NUM_CHAINS_FOR_6_2]),\n",
    "    tf.ones([NUM_CHAINS_FOR_6_1])    \n",
    "]\n",
    "\n",
    "bijectors = [\n",
    "    tfb.Identity(),\n",
    "    tfb.Identity(),\n",
    "    tfb.Exp()\n",
    "]\n",
    "\n",
    "observed_data = (tdf.height, )\n",
    "\n",
    "posterior_6_2, trace_6_2 = sample_posterior(\n",
    "                                jdc_6_2, \n",
    "                                observed_data=observed_data, \n",
    "                                num_chains=NUM_CHAINS_FOR_6_2,\n",
    "                                init_state = init_state,\n",
    "                                bijectors = bijectors,\n",
    "                                num_samples=4000,\n",
    "                                burnin=500,\n",
    "                                params=['alpha', 'betaL','sigma'])\n",
    "\n",
    "az.summary(trace_6_2, hdi_prob=0.89)"
   ]
  },
  {
   "cell_type": "markdown",
   "metadata": {},
   "source": [
    "The value of `betaL` is now identical to `sum of betaL & betaL` (see the chart from Code 6.6) from previous models"
   ]
  },
  {
   "cell_type": "markdown",
   "metadata": {},
   "source": [
    "### 6.1.2 Multicollinear milk\n",
    "\n",
    "In real datasets, it may be difficult to identify the highly correlated predictors. This has the consequence of coming to a conclusion that none of the predictor is significant.\n",
    "\n",
    "Here the primate milk dataset is used as another example for multicollinearity challenge."
   ]
  },
  {
   "cell_type": "markdown",
   "metadata": {},
   "source": [
    "##### Code 6.8\n",
    "\n",
    "Loading the dataset and creating new standardized (centered) columns"
   ]
  },
  {
   "cell_type": "code",
   "execution_count": 15,
   "metadata": {},
   "outputs": [],
   "source": [
    "d = RethinkingDataset.Milk.get_dataset()\n",
    "\n",
    "d[\"K\"] = d[\"kcal.per.g\"].pipe(lambda x: (x - x.mean()) / x.std())\n",
    "d[\"F\"] = d[\"perc.fat\"].pipe(lambda x: (x - x.mean()) / x.std())\n",
    "d[\"L\"] = d[\"perc.lactose\"].pipe(lambda x: (x - x.mean()) / x.std())"
   ]
  },
  {
   "cell_type": "code",
   "execution_count": 16,
   "metadata": {},
   "outputs": [],
   "source": [
    "tdf = dataframe_to_tensors(\"Milk\", d, ['K', 'F', 'L'])"
   ]
  },
  {
   "cell_type": "markdown",
   "metadata": {},
   "source": [
    "##### Code 6.9\n",
    "\n",
    "We are building 2 models here.\n",
    "\n",
    "* KCal regressed on perc.fat\n",
    "* KCal regressed on perc.lactose"
   ]
  },
  {
   "cell_type": "code",
   "execution_count": 17,
   "metadata": {},
   "outputs": [],
   "source": [
    "# KCal is regressed on perc.fat\n",
    "\n",
    "\n",
    "\n",
    "def model_6_3(per_fat):\n",
    "    def _generator():\n",
    "      alpha = yield Root(tfd.Sample(tfd.Normal(loc=0., scale=0.2, name=\"alpha\"), sample_shape=1))\n",
    "      betaF = yield Root(tfd.Sample(tfd.Normal(loc=0., scale=0.5, name=\"betaF\"), sample_shape=1))      \n",
    "      sigma = yield Root(tfd.Sample(tfd.Exponential(rate=1., name=\"sigma\"), sample_shape=1))    \n",
    "\n",
    "      mu =  alpha[...,tf.newaxis] + betaF[...,tf.newaxis] * tf.transpose(per_fat[...,tf.newaxis])\n",
    "      scale = sigma[..., tf.newaxis]  \n",
    "        \n",
    "      K = yield tfd.Independent(tfd.Normal(loc=mu, scale=scale, name=\"K\"), reinterpreted_batch_ndims=1)\n",
    "\n",
    "    return tfd.JointDistributionCoroutine(_generator, validate_args=False)    \n",
    "    \n",
    "jdc_6_3 = model_6_3(tdf.F)"
   ]
  },
  {
   "cell_type": "code",
   "execution_count": 18,
   "metadata": {},
   "outputs": [],
   "source": [
    "NUM_CHAINS_FOR_6_3 = 2\n",
    "\n",
    "init_state = [\n",
    "    tf.zeros([NUM_CHAINS_FOR_6_3]),\n",
    "    tf.zeros([NUM_CHAINS_FOR_6_3]),\n",
    "    tf.ones([NUM_CHAINS_FOR_6_3]),    \n",
    "]\n",
    "\n",
    "bijectors = [\n",
    "    tfb.Identity(),\n",
    "    tfb.Identity(),    \n",
    "    tfb.Exp()\n",
    "]\n",
    "\n",
    "posterior_6_3, trace_6_3 = sample_posterior(\n",
    "                            jdc_6_3, \n",
    "                            observed_data=(tdf.K,),\n",
    "                            init_state = init_state,\n",
    "                            bijectors = bijectors,\n",
    "                            params=['alpha', 'betaF', 'sigma'])"
   ]
  },
  {
   "cell_type": "code",
   "execution_count": 19,
   "metadata": {},
   "outputs": [],
   "source": [
    "# KCal is regressed on perc.lactose\n",
    "\n",
    "def model_6_4(per_lac):\n",
    "    def _generator():\n",
    "      alpha = yield Root(tfd.Sample(tfd.Normal(loc=0., scale=0.2, name=\"alpha\"), sample_shape=1))\n",
    "      betaL = yield Root(tfd.Sample(tfd.Normal(loc=0., scale=0.5, name=\"betaL\"), sample_shape=1))      \n",
    "      sigma = yield Root(tfd.Sample(tfd.Exponential(rate=1., name=\"sigma\"), sample_shape=1))\n",
    "    \n",
    "      mu =  alpha[...,tf.newaxis] + betaL[...,tf.newaxis] * tf.transpose(per_lac[...,tf.newaxis])\n",
    "      scale = sigma[..., tf.newaxis]  \n",
    "        \n",
    "      K = yield tfd.Independent(tfd.Normal(loc=mu, scale=scale, name=\"K\"), reinterpreted_batch_ndims=1)\n",
    "\n",
    "    return tfd.JointDistributionCoroutine(_generator, validate_args=False)    \n",
    "    \n",
    "jdc_6_4 = model_6_4(tdf.L)"
   ]
  },
  {
   "cell_type": "code",
   "execution_count": 20,
   "metadata": {},
   "outputs": [],
   "source": [
    "NUM_CHAINS_FOR_6_4 = 2\n",
    "\n",
    "init_state = [\n",
    "    tf.zeros([NUM_CHAINS_FOR_6_4]),\n",
    "    tf.zeros([NUM_CHAINS_FOR_6_4]),\n",
    "    tf.ones([NUM_CHAINS_FOR_6_4]),    \n",
    "]\n",
    "\n",
    "bijectors = [\n",
    "    tfb.Identity(),\n",
    "    tfb.Identity(),    \n",
    "    tfb.Exp()\n",
    "]\n",
    "\n",
    "posterior_6_4, trace_6_4 = sample_posterior(\n",
    "                                jdc_6_4, \n",
    "                                observed_data=(tdf.K,),\n",
    "                                init_state = init_state,\n",
    "                                bijectors = bijectors,\n",
    "                                params=['alpha', 'betaL', 'sigma'])"
   ]
  },
  {
   "cell_type": "code",
   "execution_count": 21,
   "metadata": {},
   "outputs": [
    {
     "data": {
      "text/html": [
       "<div>\n",
       "<style scoped>\n",
       "    .dataframe tbody tr th:only-of-type {\n",
       "        vertical-align: middle;\n",
       "    }\n",
       "\n",
       "    .dataframe tbody tr th {\n",
       "        vertical-align: top;\n",
       "    }\n",
       "\n",
       "    .dataframe thead th {\n",
       "        text-align: right;\n",
       "    }\n",
       "</style>\n",
       "<table border=\"1\" class=\"dataframe\">\n",
       "  <thead>\n",
       "    <tr style=\"text-align: right;\">\n",
       "      <th></th>\n",
       "      <th>mean</th>\n",
       "      <th>sd</th>\n",
       "      <th>hdi_5.5%</th>\n",
       "      <th>hdi_94.5%</th>\n",
       "      <th>mcse_mean</th>\n",
       "      <th>mcse_sd</th>\n",
       "      <th>ess_bulk</th>\n",
       "      <th>ess_tail</th>\n",
       "      <th>r_hat</th>\n",
       "    </tr>\n",
       "  </thead>\n",
       "  <tbody>\n",
       "    <tr>\n",
       "      <th>alpha</th>\n",
       "      <td>0.001</td>\n",
       "      <td>0.073</td>\n",
       "      <td>-0.099</td>\n",
       "      <td>0.129</td>\n",
       "      <td>0.006</td>\n",
       "      <td>0.005</td>\n",
       "      <td>126.0</td>\n",
       "      <td>138.0</td>\n",
       "      <td>1.01</td>\n",
       "    </tr>\n",
       "    <tr>\n",
       "      <th>betaF</th>\n",
       "      <td>0.860</td>\n",
       "      <td>0.083</td>\n",
       "      <td>0.719</td>\n",
       "      <td>0.970</td>\n",
       "      <td>0.007</td>\n",
       "      <td>0.005</td>\n",
       "      <td>153.0</td>\n",
       "      <td>317.0</td>\n",
       "      <td>1.03</td>\n",
       "    </tr>\n",
       "    <tr>\n",
       "      <th>sigma</th>\n",
       "      <td>0.481</td>\n",
       "      <td>0.064</td>\n",
       "      <td>0.384</td>\n",
       "      <td>0.575</td>\n",
       "      <td>0.002</td>\n",
       "      <td>0.002</td>\n",
       "      <td>617.0</td>\n",
       "      <td>136.0</td>\n",
       "      <td>1.02</td>\n",
       "    </tr>\n",
       "  </tbody>\n",
       "</table>\n",
       "</div>"
      ],
      "text/plain": [
       "        mean     sd  hdi_5.5%  hdi_94.5%  mcse_mean  mcse_sd  ess_bulk  \\\n",
       "alpha  0.001  0.073    -0.099      0.129      0.006    0.005     126.0   \n",
       "betaF  0.860  0.083     0.719      0.970      0.007    0.005     153.0   \n",
       "sigma  0.481  0.064     0.384      0.575      0.002    0.002     617.0   \n",
       "\n",
       "       ess_tail  r_hat  \n",
       "alpha     138.0   1.01  \n",
       "betaF     317.0   1.03  \n",
       "sigma     136.0   1.02  "
      ]
     },
     "execution_count": 21,
     "metadata": {},
     "output_type": "execute_result"
    }
   ],
   "source": [
    "az.summary(trace_6_3, hdi_prob=0.89)"
   ]
  },
  {
   "cell_type": "code",
   "execution_count": 22,
   "metadata": {},
   "outputs": [
    {
     "data": {
      "text/html": [
       "<div>\n",
       "<style scoped>\n",
       "    .dataframe tbody tr th:only-of-type {\n",
       "        vertical-align: middle;\n",
       "    }\n",
       "\n",
       "    .dataframe tbody tr th {\n",
       "        vertical-align: top;\n",
       "    }\n",
       "\n",
       "    .dataframe thead th {\n",
       "        text-align: right;\n",
       "    }\n",
       "</style>\n",
       "<table border=\"1\" class=\"dataframe\">\n",
       "  <thead>\n",
       "    <tr style=\"text-align: right;\">\n",
       "      <th></th>\n",
       "      <th>mean</th>\n",
       "      <th>sd</th>\n",
       "      <th>hdi_5.5%</th>\n",
       "      <th>hdi_94.5%</th>\n",
       "      <th>mcse_mean</th>\n",
       "      <th>mcse_sd</th>\n",
       "      <th>ess_bulk</th>\n",
       "      <th>ess_tail</th>\n",
       "      <th>r_hat</th>\n",
       "    </tr>\n",
       "  </thead>\n",
       "  <tbody>\n",
       "    <tr>\n",
       "      <th>alpha</th>\n",
       "      <td>-0.003</td>\n",
       "      <td>0.068</td>\n",
       "      <td>-0.109</td>\n",
       "      <td>0.107</td>\n",
       "      <td>0.010</td>\n",
       "      <td>0.007</td>\n",
       "      <td>47.0</td>\n",
       "      <td>131.0</td>\n",
       "      <td>1.06</td>\n",
       "    </tr>\n",
       "    <tr>\n",
       "      <th>betaL</th>\n",
       "      <td>-0.901</td>\n",
       "      <td>0.077</td>\n",
       "      <td>-1.008</td>\n",
       "      <td>-0.777</td>\n",
       "      <td>0.006</td>\n",
       "      <td>0.004</td>\n",
       "      <td>171.0</td>\n",
       "      <td>326.0</td>\n",
       "      <td>1.01</td>\n",
       "    </tr>\n",
       "    <tr>\n",
       "      <th>sigma</th>\n",
       "      <td>0.412</td>\n",
       "      <td>0.059</td>\n",
       "      <td>0.320</td>\n",
       "      <td>0.501</td>\n",
       "      <td>0.002</td>\n",
       "      <td>0.002</td>\n",
       "      <td>827.0</td>\n",
       "      <td>163.0</td>\n",
       "      <td>1.01</td>\n",
       "    </tr>\n",
       "  </tbody>\n",
       "</table>\n",
       "</div>"
      ],
      "text/plain": [
       "        mean     sd  hdi_5.5%  hdi_94.5%  mcse_mean  mcse_sd  ess_bulk  \\\n",
       "alpha -0.003  0.068    -0.109      0.107      0.010    0.007      47.0   \n",
       "betaL -0.901  0.077    -1.008     -0.777      0.006    0.004     171.0   \n",
       "sigma  0.412  0.059     0.320      0.501      0.002    0.002     827.0   \n",
       "\n",
       "       ess_tail  r_hat  \n",
       "alpha     131.0   1.06  \n",
       "betaL     326.0   1.01  \n",
       "sigma     163.0   1.01  "
      ]
     },
     "execution_count": 22,
     "metadata": {},
     "output_type": "execute_result"
    }
   ],
   "source": [
    "az.summary(trace_6_4, hdi_prob=0.89)"
   ]
  },
  {
   "cell_type": "markdown",
   "metadata": {},
   "source": [
    "Posterior for betaF & betaL are mirror images of each other.\n",
    "\n",
    "This seems to imply that both predictors have strong association with the outcome. Notice the `sd` of both the predictors; they are quite low.\n",
    "\n",
    "In next section we will see what happens when we combine both of them in the regression model"
   ]
  },
  {
   "cell_type": "markdown",
   "metadata": {},
   "source": [
    "##### Code 6.10\n",
    "\n",
    "We build a model where we include both of the predictors (per_fat & per_lac)"
   ]
  },
  {
   "cell_type": "code",
   "execution_count": 23,
   "metadata": {},
   "outputs": [],
   "source": [
    "def model_6_5(per_fat, per_lac):\n",
    "    def _generator():\n",
    "      alpha = yield Root(tfd.Sample(tfd.Normal(loc=0., scale=0.2, name=\"alpha\"), sample_shape=1))\n",
    "      betaF = yield Root(tfd.Sample(tfd.Normal(loc=0., scale=0.5, name=\"betaF\"), sample_shape=1))      \n",
    "      betaL = yield Root(tfd.Sample(tfd.Normal(loc=0., scale=0.5, name=\"betaL\"), sample_shape=1))      \n",
    "      sigma = yield Root(tfd.Sample(tfd.Exponential(rate=1., name=\"sigma\"), sample_shape=1))\n",
    "    \n",
    "      mu =  alpha[...,tf.newaxis] + \\\n",
    "                    betaF[...,tf.newaxis] * tf.transpose(per_fat[...,tf.newaxis]) + \\\n",
    "                    betaL[...,tf.newaxis] * tf.transpose(per_lac[...,tf.newaxis])\n",
    "    \n",
    "      scale = sigma[..., tf.newaxis]  \n",
    "        \n",
    "      K = yield tfd.Independent(tfd.Normal(loc=mu, scale=scale, name=\"K\"), reinterpreted_batch_ndims=1)\n",
    "\n",
    "    return tfd.JointDistributionCoroutine(_generator, validate_args=False)    \n",
    "    \n",
    "jdc_6_5 = model_6_5(tdf.F, tdf.L)"
   ]
  },
  {
   "cell_type": "code",
   "execution_count": 24,
   "metadata": {},
   "outputs": [
    {
     "name": "stdout",
     "output_type": "stream",
     "text": [
      "WARNING:tensorflow:5 out of the last 5 calls to <function run_hmc_chain at 0x14c24f560> triggered tf.function retracing. Tracing is expensive and the excessive number of tracings could be due to (1) creating @tf.function repeatedly in a loop, (2) passing tensors with different shapes, (3) passing Python objects instead of tensors. For (1), please define your @tf.function outside of the loop. For (2), @tf.function has experimental_relax_shapes=True option that relaxes argument shapes that can avoid unnecessary retracing. For (3), please refer to https://www.tensorflow.org/guide/function#controlling_retracing and https://www.tensorflow.org/api_docs/python/tf/function for  more details.\n"
     ]
    },
    {
     "data": {
      "text/html": [
       "<div>\n",
       "<style scoped>\n",
       "    .dataframe tbody tr th:only-of-type {\n",
       "        vertical-align: middle;\n",
       "    }\n",
       "\n",
       "    .dataframe tbody tr th {\n",
       "        vertical-align: top;\n",
       "    }\n",
       "\n",
       "    .dataframe thead th {\n",
       "        text-align: right;\n",
       "    }\n",
       "</style>\n",
       "<table border=\"1\" class=\"dataframe\">\n",
       "  <thead>\n",
       "    <tr style=\"text-align: right;\">\n",
       "      <th></th>\n",
       "      <th>mean</th>\n",
       "      <th>sd</th>\n",
       "      <th>hdi_5.5%</th>\n",
       "      <th>hdi_94.5%</th>\n",
       "      <th>mcse_mean</th>\n",
       "      <th>mcse_sd</th>\n",
       "      <th>ess_bulk</th>\n",
       "      <th>ess_tail</th>\n",
       "      <th>r_hat</th>\n",
       "    </tr>\n",
       "  </thead>\n",
       "  <tbody>\n",
       "    <tr>\n",
       "      <th>alpha</th>\n",
       "      <td>-0.001</td>\n",
       "      <td>0.065</td>\n",
       "      <td>-0.106</td>\n",
       "      <td>0.089</td>\n",
       "      <td>0.004</td>\n",
       "      <td>0.003</td>\n",
       "      <td>219.0</td>\n",
       "      <td>236.0</td>\n",
       "      <td>1.01</td>\n",
       "    </tr>\n",
       "    <tr>\n",
       "      <th>betaF</th>\n",
       "      <td>0.254</td>\n",
       "      <td>0.192</td>\n",
       "      <td>-0.062</td>\n",
       "      <td>0.541</td>\n",
       "      <td>0.012</td>\n",
       "      <td>0.009</td>\n",
       "      <td>239.0</td>\n",
       "      <td>97.0</td>\n",
       "      <td>1.01</td>\n",
       "    </tr>\n",
       "    <tr>\n",
       "      <th>betaL</th>\n",
       "      <td>-0.657</td>\n",
       "      <td>0.194</td>\n",
       "      <td>-0.933</td>\n",
       "      <td>-0.332</td>\n",
       "      <td>0.013</td>\n",
       "      <td>0.009</td>\n",
       "      <td>229.0</td>\n",
       "      <td>231.0</td>\n",
       "      <td>1.02</td>\n",
       "    </tr>\n",
       "    <tr>\n",
       "      <th>sigma</th>\n",
       "      <td>0.412</td>\n",
       "      <td>0.057</td>\n",
       "      <td>0.322</td>\n",
       "      <td>0.496</td>\n",
       "      <td>0.003</td>\n",
       "      <td>0.002</td>\n",
       "      <td>473.0</td>\n",
       "      <td>140.0</td>\n",
       "      <td>1.01</td>\n",
       "    </tr>\n",
       "  </tbody>\n",
       "</table>\n",
       "</div>"
      ],
      "text/plain": [
       "        mean     sd  hdi_5.5%  hdi_94.5%  mcse_mean  mcse_sd  ess_bulk  \\\n",
       "alpha -0.001  0.065    -0.106      0.089      0.004    0.003     219.0   \n",
       "betaF  0.254  0.192    -0.062      0.541      0.012    0.009     239.0   \n",
       "betaL -0.657  0.194    -0.933     -0.332      0.013    0.009     229.0   \n",
       "sigma  0.412  0.057     0.322      0.496      0.003    0.002     473.0   \n",
       "\n",
       "       ess_tail  r_hat  \n",
       "alpha     236.0   1.01  \n",
       "betaF      97.0   1.01  \n",
       "betaL     231.0   1.02  \n",
       "sigma     140.0   1.01  "
      ]
     },
     "execution_count": 24,
     "metadata": {},
     "output_type": "execute_result"
    }
   ],
   "source": [
    "NUM_CHAINS_FOR_6_5 = 2\n",
    "\n",
    "init_state = [\n",
    "    tf.zeros([NUM_CHAINS_FOR_6_5]),\n",
    "    tf.zeros([NUM_CHAINS_FOR_6_5]),\n",
    "    tf.zeros([NUM_CHAINS_FOR_6_5]),\n",
    "    tf.ones([NUM_CHAINS_FOR_6_5])    \n",
    "]\n",
    "\n",
    "bijectors = [\n",
    "    tfb.Identity(),\n",
    "    tfb.Identity(),\n",
    "    tfb.Identity(),\n",
    "    tfb.Exp()\n",
    "]\n",
    "\n",
    "posterior_6_5, trace_6_5 = sample_posterior(\n",
    "                    jdc_6_5, \n",
    "                    observed_data=(tdf.K,), \n",
    "                    num_chains=NUM_CHAINS_FOR_6_5,\n",
    "                    init_state=init_state,\n",
    "                    bijectors=bijectors,\n",
    "                    params=['alpha', 'betaF', 'betaL', 'sigma'])\n",
    "\n",
    "az.summary(trace_6_5, hdi_prob=0.89)"
   ]
  },
  {
   "cell_type": "markdown",
   "metadata": {},
   "source": [
    "Notice how the standard deviations of the posterior for betaF & betaL has jumped up significantly.\n",
    "\n",
    "per_fat & per_lac both contain much of the same information and can be substitued for each other. Therefore, the model has not choice but to describe a long ridge of combination of betaF & betaL that are equally plaussible."
   ]
  },
  {
   "cell_type": "markdown",
   "metadata": {},
   "source": [
    "##### Code 6.11\n",
    "\n",
    "We plot again like in the legs example to visualize the relationship"
   ]
  },
  {
   "cell_type": "code",
   "execution_count": 25,
   "metadata": {},
   "outputs": [
    {
     "data": {
      "image/png": "[encoded data removed]",
      "text/plain": [
       "<Figure size 993.6x662.4 with 3 Axes>"
      ]
     },
     "metadata": {
      "image/png": {
       "height": 554,
       "width": 827
      },
      "needs_background": "light"
     },
     "output_type": "display_data"
    }
   ],
   "source": [
    "az.plot_pair(d[[\"kcal.per.g\", \"perc.fat\", \"perc.lactose\"]].to_dict(\"list\"));"
   ]
  },
  {
   "cell_type": "markdown",
   "metadata": {},
   "source": [
    "* perc.fat is positively related to outcome\n",
    "\n",
    "* perc.lac is negatively related to outcome\n",
    "\n",
    "* perc.fat & perc.lac are negatively coorelated to each other\n",
    "\n",
    "Either of them helps in predicting KCal but neither helps much once we already know the other."
   ]
  },
  {
   "cell_type": "markdown",
   "metadata": {},
   "source": [
    "### Overthinking : Simulating collinearity\n",
    "\n",
    "Simulating collinearity using Milk dataset"
   ]
  },
  {
   "cell_type": "markdown",
   "metadata": {},
   "source": [
    "##### Code 6.12\n",
    "\n"
   ]
  },
  {
   "cell_type": "code",
   "execution_count": 26,
   "metadata": {},
   "outputs": [
    {
     "data": {
      "image/png": "[encoded data removed]",
      "text/plain": [
       "<Figure size 432x288 with 1 Axes>"
      ]
     },
     "metadata": {
      "image/png": {
       "height": 269,
       "width": 403
      },
      "needs_background": "light"
     },
     "output_type": "display_data"
    }
   ],
   "source": [
    "d = RethinkingDataset.Milk.get_dataset()\n",
    "\n",
    "def simcoll(r = 0.9):\n",
    "    \n",
    "    mean = r * d[\"perc.fat\"].values\n",
    "    sd = np.sqrt((1 - r ** 2) * np.var(d[\"perc.fat\"].values))\n",
    "    \n",
    "    x = tfd.Normal(loc=mean, scale=sd).sample()\n",
    "    \n",
    "    X = np.column_stack((d['perc.fat'], x))\n",
    "    m = linear_model.OLS(d['kcal.per.g'], X).fit()\n",
    "    cov = m.cov_params()\n",
    "    return (np.diag(cov)[1])**0.5\n",
    "    \n",
    "def repsimcoll(r= 0.9, N = 100):\n",
    "    stddev = [simcoll(r) for _ in range(N)]\n",
    "    return np.mean(stddev)\n",
    "\n",
    "lista = []\n",
    "for i in np.arange(start = 0, stop = 0.99, step = 0.01):   \n",
    "    lista.append(repsimcoll (r= i, N = 100))\n",
    "\n",
    "plt.plot(np.arange(start = 0, stop = 0.99, step = 0.01), lista)\n",
    "plt.xlabel('correlation', fontsize=14)\n",
    "plt.ylabel('stddev', fontsize=14);"
   ]
  },
  {
   "cell_type": "markdown",
   "metadata": {},
   "source": [
    "## 6.2 Post-treatment bias\n",
    "\n",
    "**Omitted Variable bias** - Problems that arise because of **not** including predictior variables\n",
    "\n",
    "**Post-treatment bias** - Problems that arise becuase of including **improper** predictor variables"
   ]
  },
  {
   "cell_type": "markdown",
   "metadata": {},
   "source": [
    "##### Code 6.13\n",
    "\n",
    "Simulate data to see what goes wrong when we include a **post-treatment** variable"
   ]
  },
  {
   "cell_type": "code",
   "execution_count": 27,
   "metadata": {},
   "outputs": [
    {
     "data": {
      "text/html": [
       "<div>\n",
       "<style scoped>\n",
       "    .dataframe tbody tr th:only-of-type {\n",
       "        vertical-align: middle;\n",
       "    }\n",
       "\n",
       "    .dataframe tbody tr th {\n",
       "        vertical-align: top;\n",
       "    }\n",
       "\n",
       "    .dataframe thead th {\n",
       "        text-align: right;\n",
       "    }\n",
       "</style>\n",
       "<table border=\"1\" class=\"dataframe\">\n",
       "  <thead>\n",
       "    <tr style=\"text-align: right;\">\n",
       "      <th></th>\n",
       "      <th>mean</th>\n",
       "      <th>sd</th>\n",
       "      <th>hdi_5.5%</th>\n",
       "      <th>hdi_94.5%</th>\n",
       "    </tr>\n",
       "  </thead>\n",
       "  <tbody>\n",
       "    <tr>\n",
       "      <th>h0</th>\n",
       "      <td>9.894</td>\n",
       "      <td>2.143</td>\n",
       "      <td>6.421</td>\n",
       "      <td>12.93</td>\n",
       "    </tr>\n",
       "    <tr>\n",
       "      <th>h1</th>\n",
       "      <td>13.609</td>\n",
       "      <td>2.696</td>\n",
       "      <td>8.782</td>\n",
       "      <td>17.34</td>\n",
       "    </tr>\n",
       "    <tr>\n",
       "      <th>treatment</th>\n",
       "      <td>0.500</td>\n",
       "      <td>0.503</td>\n",
       "      <td>0.000</td>\n",
       "      <td>1.00</td>\n",
       "    </tr>\n",
       "    <tr>\n",
       "      <th>fungus</th>\n",
       "      <td>0.350</td>\n",
       "      <td>0.479</td>\n",
       "      <td>0.000</td>\n",
       "      <td>1.00</td>\n",
       "    </tr>\n",
       "  </tbody>\n",
       "</table>\n",
       "</div>"
      ],
      "text/plain": [
       "             mean     sd  hdi_5.5%  hdi_94.5%\n",
       "h0          9.894  2.143     6.421      12.93\n",
       "h1         13.609  2.696     8.782      17.34\n",
       "treatment   0.500  0.503     0.000       1.00\n",
       "fungus      0.350  0.479     0.000       1.00"
      ]
     },
     "execution_count": 27,
     "metadata": {},
     "output_type": "execute_result"
    }
   ],
   "source": [
    "_SEED = 71\n",
    "\n",
    "# Note - even after providing SeedStream and generated seeds\n",
    "# it still does not respect it\n",
    "def simulate():\n",
    "    seed = tfp.util.SeedStream(_SEED, salt=\"sim_heights\")\n",
    "\n",
    "    # number of plants\n",
    "    N = 100\n",
    "\n",
    "    # simulate initial heights\n",
    "    h0 = tfd.Normal(loc=10., scale=2.).sample(N, seed=seed())\n",
    "\n",
    "    # assign treatments and simulate fungus and growth\n",
    "    treatment = tf.repeat([0., 1.], repeats=N // 2)\n",
    "    \n",
    "    fungus = tfd.Binomial(total_count=1., probs=(0.5 - treatment * 0.4)).sample(seed=seed())\n",
    "    \n",
    "    h1 = h0 + tfd.Normal(loc=5. - 3. * fungus, scale=1.).sample(seed=seed())\n",
    "\n",
    "    # compose a clean data frame\n",
    "    d = {\"h0\":h0, \"h1\":h1, \"treatment\":treatment, \"fungus\":fungus}\n",
    "    \n",
    "    return d\n",
    "    \n",
    "d_dict = simulate()\n",
    "\n",
    "az.summary(d_dict, kind=\"stats\", hdi_prob=0.89)"
   ]
  },
  {
   "cell_type": "code",
   "execution_count": 28,
   "metadata": {},
   "outputs": [],
   "source": [
    "d = pd.DataFrame.from_dict(d_dict)"
   ]
  },
  {
   "cell_type": "code",
   "execution_count": 29,
   "metadata": {},
   "outputs": [],
   "source": [
    "tdf = dataframe_to_tensors('SimulatedTreatment', d, ['h0', 'h1', 'treatment', 'fungus'])"
   ]
  },
  {
   "cell_type": "markdown",
   "metadata": {},
   "source": [
    "### 6.2.1 A prior is born\n",
    "\n",
    "We will use a prior (see Code 6.14) that expects anything from 40% shrinkage up to 50% growth"
   ]
  },
  {
   "cell_type": "markdown",
   "metadata": {},
   "source": [
    "##### Code 6.14"
   ]
  },
  {
   "cell_type": "code",
   "execution_count": 30,
   "metadata": {},
   "outputs": [
    {
     "data": {
      "text/html": [
       "<div>\n",
       "<style scoped>\n",
       "    .dataframe tbody tr th:only-of-type {\n",
       "        vertical-align: middle;\n",
       "    }\n",
       "\n",
       "    .dataframe tbody tr th {\n",
       "        vertical-align: top;\n",
       "    }\n",
       "\n",
       "    .dataframe thead th {\n",
       "        text-align: right;\n",
       "    }\n",
       "</style>\n",
       "<table border=\"1\" class=\"dataframe\">\n",
       "  <thead>\n",
       "    <tr style=\"text-align: right;\">\n",
       "      <th></th>\n",
       "      <th>mean</th>\n",
       "      <th>sd</th>\n",
       "      <th>hdi_5.5%</th>\n",
       "      <th>hdi_94.5%</th>\n",
       "    </tr>\n",
       "  </thead>\n",
       "  <tbody>\n",
       "    <tr>\n",
       "      <th>sim_p</th>\n",
       "      <td>1.034</td>\n",
       "      <td>0.264</td>\n",
       "      <td>0.627</td>\n",
       "      <td>1.423</td>\n",
       "    </tr>\n",
       "  </tbody>\n",
       "</table>\n",
       "</div>"
      ],
      "text/plain": [
       "        mean     sd  hdi_5.5%  hdi_94.5%\n",
       "sim_p  1.034  0.264     0.627      1.423"
      ]
     },
     "execution_count": 30,
     "metadata": {},
     "output_type": "execute_result"
    }
   ],
   "source": [
    "sim_p = tfd.LogNormal(loc=0., scale=0.25).sample((int(1e4),))\n",
    "az.summary({\"sim_p\" : sim_p}, kind=\"stats\", hdi_prob=0.89)"
   ]
  },
  {
   "cell_type": "markdown",
   "metadata": {},
   "source": [
    "##### Code 6.15\n",
    "\n",
    "In this model only height (h0) as the predictor is included"
   ]
  },
  {
   "cell_type": "code",
   "execution_count": 31,
   "metadata": {},
   "outputs": [],
   "source": [
    "def model_6_6(h0):\n",
    "    def _generator():\n",
    "      p = yield Root(tfd.Sample(tfd.LogNormal(loc=0., scale=0.25, name=\"p\"), sample_shape=1))      \n",
    "      sigma = yield Root(tfd.Sample(tfd.Exponential(rate=1., name=\"sigma\"), sample_shape=1))\n",
    "        \n",
    "      mu = tf.squeeze(h0[tf.newaxis,...] * p[...,tf.newaxis])\n",
    "      scale = sigma[..., tf.newaxis]  \n",
    "        \n",
    "      h1 = yield tfd.Independent(tfd.Normal(loc=mu, scale=scale, name=\"h1\"), reinterpreted_batch_ndims=1)\n",
    "\n",
    "    return tfd.JointDistributionCoroutine(_generator, validate_args=False)    \n",
    "    \n",
    "jdc_6_6 = model_6_6(tdf.h0)"
   ]
  },
  {
   "cell_type": "code",
   "execution_count": 32,
   "metadata": {},
   "outputs": [
    {
     "name": "stdout",
     "output_type": "stream",
     "text": [
      "WARNING:tensorflow:6 out of the last 6 calls to <function run_hmc_chain at 0x14c24f560> triggered tf.function retracing. Tracing is expensive and the excessive number of tracings could be due to (1) creating @tf.function repeatedly in a loop, (2) passing tensors with different shapes, (3) passing Python objects instead of tensors. For (1), please define your @tf.function outside of the loop. For (2), @tf.function has experimental_relax_shapes=True option that relaxes argument shapes that can avoid unnecessary retracing. For (3), please refer to https://www.tensorflow.org/guide/function#controlling_retracing and https://www.tensorflow.org/api_docs/python/tf/function for  more details.\n"
     ]
    },
    {
     "data": {
      "text/html": [
       "<div>\n",
       "<style scoped>\n",
       "    .dataframe tbody tr th:only-of-type {\n",
       "        vertical-align: middle;\n",
       "    }\n",
       "\n",
       "    .dataframe tbody tr th {\n",
       "        vertical-align: top;\n",
       "    }\n",
       "\n",
       "    .dataframe thead th {\n",
       "        text-align: right;\n",
       "    }\n",
       "</style>\n",
       "<table border=\"1\" class=\"dataframe\">\n",
       "  <thead>\n",
       "    <tr style=\"text-align: right;\">\n",
       "      <th></th>\n",
       "      <th>mean</th>\n",
       "      <th>sd</th>\n",
       "      <th>hdi_5.5%</th>\n",
       "      <th>hdi_94.5%</th>\n",
       "      <th>mcse_mean</th>\n",
       "      <th>mcse_sd</th>\n",
       "      <th>ess_bulk</th>\n",
       "      <th>ess_tail</th>\n",
       "      <th>r_hat</th>\n",
       "    </tr>\n",
       "  </thead>\n",
       "  <tbody>\n",
       "    <tr>\n",
       "      <th>p</th>\n",
       "      <td>1.356</td>\n",
       "      <td>0.019</td>\n",
       "      <td>1.325</td>\n",
       "      <td>1.385</td>\n",
       "      <td>0.000</td>\n",
       "      <td>0.000</td>\n",
       "      <td>2410.0</td>\n",
       "      <td>1606.0</td>\n",
       "      <td>1.0</td>\n",
       "    </tr>\n",
       "    <tr>\n",
       "      <th>sigma</th>\n",
       "      <td>1.899</td>\n",
       "      <td>0.137</td>\n",
       "      <td>1.678</td>\n",
       "      <td>2.107</td>\n",
       "      <td>0.004</td>\n",
       "      <td>0.003</td>\n",
       "      <td>968.0</td>\n",
       "      <td>931.0</td>\n",
       "      <td>1.0</td>\n",
       "    </tr>\n",
       "  </tbody>\n",
       "</table>\n",
       "</div>"
      ],
      "text/plain": [
       "        mean     sd  hdi_5.5%  hdi_94.5%  mcse_mean  mcse_sd  ess_bulk  \\\n",
       "p      1.356  0.019     1.325      1.385      0.000    0.000    2410.0   \n",
       "sigma  1.899  0.137     1.678      2.107      0.004    0.003     968.0   \n",
       "\n",
       "       ess_tail  r_hat  \n",
       "p        1606.0    1.0  \n",
       "sigma     931.0    1.0  "
      ]
     },
     "execution_count": 32,
     "metadata": {},
     "output_type": "execute_result"
    }
   ],
   "source": [
    "NUM_CHAINS_FOR_6_6 = 2\n",
    "\n",
    "init_state = [\n",
    "    tf.ones([NUM_CHAINS_FOR_6_6]),\n",
    "    tf.ones([NUM_CHAINS_FOR_6_6])    \n",
    "]\n",
    "\n",
    "bijectors = [\n",
    "    tfb.Exp(),\n",
    "    tfb.Exp()\n",
    "]\n",
    "\n",
    "posterior_6_6, trace_6_6 = sample_posterior(\n",
    "                    jdc_6_6, \n",
    "                    observed_data=(tdf.h1,), \n",
    "                    num_chains=NUM_CHAINS_FOR_6_6,\n",
    "                    init_state=init_state,\n",
    "                    bijectors=bijectors,\n",
    "                    num_samples=2000, \n",
    "                    burnin=1000,\n",
    "                    params=['p', 'sigma'])\n",
    "\n",
    "az.summary(trace_6_6, hdi_prob=0.89)"
   ]
  },
  {
   "cell_type": "markdown",
   "metadata": {},
   "source": [
    "The result shows that with height as the only predictor variable in the model there is about 40% growth on average."
   ]
  },
  {
   "cell_type": "markdown",
   "metadata": {},
   "source": [
    "##### Code 6.16\n",
    "\n",
    "In this model we include treatment & fungus variables as well"
   ]
  },
  {
   "cell_type": "code",
   "execution_count": 33,
   "metadata": {},
   "outputs": [],
   "source": [
    "def model_6_7(h0, treatment, fungus):\n",
    "    def _generator():\n",
    "      a = yield Root(tfd.Sample(tfd.LogNormal(loc=0., scale=0.2, name=\"a\"), sample_shape=1))      \n",
    "      bt = yield Root(tfd.Sample(tfd.Normal(loc=0., scale=0.5, name=\"bt\"), sample_shape=1))    \n",
    "      bf = yield Root(tfd.Sample(tfd.Normal(loc=0., scale=0.5, name=\"bf\"), sample_shape=1))    \n",
    "      sigma = yield Root(tfd.Sample(tfd.Exponential(rate=1., name=\"sigma\"), sample_shape=1))\n",
    "        \n",
    "      p = a[...,tf.newaxis] + bt[...,tf.newaxis] * treatment + bf[...,tf.newaxis] * fungus\n",
    "        \n",
    "      mu = h0 * p\n",
    "      scale = sigma[..., tf.newaxis]  \n",
    "        \n",
    "      h1 = yield tfd.Independent(tfd.Normal(loc=mu, scale=scale, name=\"h1\"), reinterpreted_batch_ndims=1)\n",
    "\n",
    "    return tfd.JointDistributionCoroutine(_generator, validate_args=False)    \n",
    "    \n",
    "jdc_6_7 = model_6_7(tdf.h0, tdf.treatment, tdf.fungus)"
   ]
  },
  {
   "cell_type": "code",
   "execution_count": 34,
   "metadata": {},
   "outputs": [
    {
     "data": {
      "text/html": [
       "<div>\n",
       "<style scoped>\n",
       "    .dataframe tbody tr th:only-of-type {\n",
       "        vertical-align: middle;\n",
       "    }\n",
       "\n",
       "    .dataframe tbody tr th {\n",
       "        vertical-align: top;\n",
       "    }\n",
       "\n",
       "    .dataframe thead th {\n",
       "        text-align: right;\n",
       "    }\n",
       "</style>\n",
       "<table border=\"1\" class=\"dataframe\">\n",
       "  <thead>\n",
       "    <tr style=\"text-align: right;\">\n",
       "      <th></th>\n",
       "      <th>mean</th>\n",
       "      <th>sd</th>\n",
       "      <th>hdi_5.5%</th>\n",
       "      <th>hdi_94.5%</th>\n",
       "      <th>mcse_mean</th>\n",
       "      <th>mcse_sd</th>\n",
       "      <th>ess_bulk</th>\n",
       "      <th>ess_tail</th>\n",
       "      <th>r_hat</th>\n",
       "    </tr>\n",
       "  </thead>\n",
       "  <tbody>\n",
       "    <tr>\n",
       "      <th>a</th>\n",
       "      <td>1.455</td>\n",
       "      <td>0.030</td>\n",
       "      <td>1.408</td>\n",
       "      <td>1.502</td>\n",
       "      <td>0.001</td>\n",
       "      <td>0.001</td>\n",
       "      <td>905.0</td>\n",
       "      <td>1083.0</td>\n",
       "      <td>1.0</td>\n",
       "    </tr>\n",
       "    <tr>\n",
       "      <th>bt</th>\n",
       "      <td>-0.012</td>\n",
       "      <td>0.033</td>\n",
       "      <td>-0.067</td>\n",
       "      <td>0.040</td>\n",
       "      <td>0.001</td>\n",
       "      <td>0.001</td>\n",
       "      <td>917.0</td>\n",
       "      <td>596.0</td>\n",
       "      <td>1.0</td>\n",
       "    </tr>\n",
       "    <tr>\n",
       "      <th>bf</th>\n",
       "      <td>-0.277</td>\n",
       "      <td>0.035</td>\n",
       "      <td>-0.333</td>\n",
       "      <td>-0.223</td>\n",
       "      <td>0.001</td>\n",
       "      <td>0.001</td>\n",
       "      <td>934.0</td>\n",
       "      <td>1264.0</td>\n",
       "      <td>1.0</td>\n",
       "    </tr>\n",
       "    <tr>\n",
       "      <th>sigma</th>\n",
       "      <td>1.393</td>\n",
       "      <td>0.097</td>\n",
       "      <td>1.247</td>\n",
       "      <td>1.540</td>\n",
       "      <td>0.005</td>\n",
       "      <td>0.004</td>\n",
       "      <td>339.0</td>\n",
       "      <td>237.0</td>\n",
       "      <td>1.0</td>\n",
       "    </tr>\n",
       "  </tbody>\n",
       "</table>\n",
       "</div>"
      ],
      "text/plain": [
       "        mean     sd  hdi_5.5%  hdi_94.5%  mcse_mean  mcse_sd  ess_bulk  \\\n",
       "a      1.455  0.030     1.408      1.502      0.001    0.001     905.0   \n",
       "bt    -0.012  0.033    -0.067      0.040      0.001    0.001     917.0   \n",
       "bf    -0.277  0.035    -0.333     -0.223      0.001    0.001     934.0   \n",
       "sigma  1.393  0.097     1.247      1.540      0.005    0.004     339.0   \n",
       "\n",
       "       ess_tail  r_hat  \n",
       "a        1083.0    1.0  \n",
       "bt        596.0    1.0  \n",
       "bf       1264.0    1.0  \n",
       "sigma     237.0    1.0  "
      ]
     },
     "execution_count": 34,
     "metadata": {},
     "output_type": "execute_result"
    }
   ],
   "source": [
    "NUM_CHAINS_FOR_6_7 = 2\n",
    "\n",
    "init_state = [\n",
    "    tf.ones([NUM_CHAINS_FOR_6_7]),\n",
    "    tf.zeros([NUM_CHAINS_FOR_6_7]),\n",
    "    tf.zeros([NUM_CHAINS_FOR_6_7]),\n",
    "    tf.ones([NUM_CHAINS_FOR_6_7])    \n",
    "]\n",
    "\n",
    "bijectors = [\n",
    "    tfb.Exp(),\n",
    "    tfb.Identity(),\n",
    "    tfb.Identity(),\n",
    "    tfb.Exp()\n",
    "]\n",
    "\n",
    "posterior_6_7, trace_6_7 = sample_posterior(\n",
    "                    jdc_6_7, \n",
    "                    observed_data=(tdf.h1,), \n",
    "                    num_chains=NUM_CHAINS_FOR_6_7,\n",
    "                    init_state=init_state,\n",
    "                    bijectors=bijectors,\n",
    "                    num_samples=2000, \n",
    "                    burnin=1000,\n",
    "                    params=['a', 'bt', 'bf', 'sigma'])\n",
    "\n",
    "az.summary(trace_6_7, hdi_prob=0.89)"
   ]
  },
  {
   "cell_type": "markdown",
   "metadata": {},
   "source": [
    "Note that `a` is same as `p` in the previous model i.e. about 40% growth on average\n",
    "\n",
    "Marginal posterior for `bt` (effect of treatment) is about 0 with a tight interval. This implies treatment is not associated with the growth.\n",
    "\n",
    "Fungus (`bf`) seems to actually hurt the growth. \n",
    "\n",
    "Clearly this does not makes us happy because we know that the treatment does matter. Next section tries to find the answers."
   ]
  },
  {
   "cell_type": "markdown",
   "metadata": {},
   "source": [
    "### 6.2.2 Blocked by consequence\n",
    "\n",
    "Fungus is a consequence of treatment i.e. fungus is a **post-treatment** variable.\n",
    "\n",
    "When we include Fungus variable, the model tries to find whether a plat developed fungus or not. However, what we really want to understand is the impact of treatment on growth. \n",
    "\n",
    "This can be done by omitting the post-treatment variable *fungus*"
   ]
  },
  {
   "cell_type": "markdown",
   "metadata": {},
   "source": [
    "##### Code 6.17\n",
    "\n",
    "In this model, fungus predictor is not included"
   ]
  },
  {
   "cell_type": "code",
   "execution_count": 35,
   "metadata": {},
   "outputs": [],
   "source": [
    "def model_6_8(h0, treatment):\n",
    "    def _generator():\n",
    "      a = yield Root(tfd.Sample(tfd.LogNormal(loc=0., scale=0.2, name=\"a\"), sample_shape=1))      \n",
    "      bt = yield Root(tfd.Sample(tfd.Normal(loc=0., scale=0.5, name=\"bt\"), sample_shape=1))    \n",
    "      sigma = yield Root(tfd.Sample(tfd.Exponential(rate=1., name=\"sigma\"), sample_shape=1))\n",
    "        \n",
    "      p = a[...,tf.newaxis] + bt[...,tf.newaxis] * treatment \n",
    "        \n",
    "      mu = h0 * p\n",
    "      scale = sigma[..., tf.newaxis]  \n",
    "        \n",
    "      h1 = yield tfd.Independent(tfd.Normal(loc=mu, scale=scale, name=\"h1\"), reinterpreted_batch_ndims=1)\n",
    "\n",
    "    return tfd.JointDistributionCoroutine(_generator, validate_args=False)    \n",
    "    \n",
    "jdc_6_8 = model_6_8(tdf.h0, tdf.treatment)"
   ]
  },
  {
   "cell_type": "code",
   "execution_count": 36,
   "metadata": {},
   "outputs": [
    {
     "data": {
      "text/html": [
       "<div>\n",
       "<style scoped>\n",
       "    .dataframe tbody tr th:only-of-type {\n",
       "        vertical-align: middle;\n",
       "    }\n",
       "\n",
       "    .dataframe tbody tr th {\n",
       "        vertical-align: top;\n",
       "    }\n",
       "\n",
       "    .dataframe thead th {\n",
       "        text-align: right;\n",
       "    }\n",
       "</style>\n",
       "<table border=\"1\" class=\"dataframe\">\n",
       "  <thead>\n",
       "    <tr style=\"text-align: right;\">\n",
       "      <th></th>\n",
       "      <th>mean</th>\n",
       "      <th>sd</th>\n",
       "      <th>hdi_5.5%</th>\n",
       "      <th>hdi_94.5%</th>\n",
       "      <th>mcse_mean</th>\n",
       "      <th>mcse_sd</th>\n",
       "      <th>ess_bulk</th>\n",
       "      <th>ess_tail</th>\n",
       "      <th>r_hat</th>\n",
       "    </tr>\n",
       "  </thead>\n",
       "  <tbody>\n",
       "    <tr>\n",
       "      <th>a</th>\n",
       "      <td>1.287</td>\n",
       "      <td>0.025</td>\n",
       "      <td>1.250</td>\n",
       "      <td>1.331</td>\n",
       "      <td>0.001</td>\n",
       "      <td>0.000</td>\n",
       "      <td>1722.0</td>\n",
       "      <td>1519.0</td>\n",
       "      <td>1.0</td>\n",
       "    </tr>\n",
       "    <tr>\n",
       "      <th>bt</th>\n",
       "      <td>0.134</td>\n",
       "      <td>0.035</td>\n",
       "      <td>0.077</td>\n",
       "      <td>0.187</td>\n",
       "      <td>0.001</td>\n",
       "      <td>0.000</td>\n",
       "      <td>3498.0</td>\n",
       "      <td>1571.0</td>\n",
       "      <td>1.0</td>\n",
       "    </tr>\n",
       "    <tr>\n",
       "      <th>sigma</th>\n",
       "      <td>1.791</td>\n",
       "      <td>0.128</td>\n",
       "      <td>1.602</td>\n",
       "      <td>1.999</td>\n",
       "      <td>0.004</td>\n",
       "      <td>0.003</td>\n",
       "      <td>980.0</td>\n",
       "      <td>1645.0</td>\n",
       "      <td>1.0</td>\n",
       "    </tr>\n",
       "  </tbody>\n",
       "</table>\n",
       "</div>"
      ],
      "text/plain": [
       "        mean     sd  hdi_5.5%  hdi_94.5%  mcse_mean  mcse_sd  ess_bulk  \\\n",
       "a      1.287  0.025     1.250      1.331      0.001    0.000    1722.0   \n",
       "bt     0.134  0.035     0.077      0.187      0.001    0.000    3498.0   \n",
       "sigma  1.791  0.128     1.602      1.999      0.004    0.003     980.0   \n",
       "\n",
       "       ess_tail  r_hat  \n",
       "a        1519.0    1.0  \n",
       "bt       1571.0    1.0  \n",
       "sigma    1645.0    1.0  "
      ]
     },
     "execution_count": 36,
     "metadata": {},
     "output_type": "execute_result"
    }
   ],
   "source": [
    "NUM_CHAINS_FOR_6_8 = 2\n",
    "\n",
    "init_state = [\n",
    "    tf.ones([NUM_CHAINS_FOR_6_8]),\n",
    "    tf.zeros([NUM_CHAINS_FOR_6_8]),\n",
    "    tf.ones([NUM_CHAINS_FOR_6_8])    \n",
    "]\n",
    "\n",
    "bijectors = [\n",
    "    tfb.Exp(),\n",
    "    tfb.Identity(),\n",
    "    tfb.Exp()\n",
    "]\n",
    "\n",
    "posterior_6_8, trace_6_8 = sample_posterior(\n",
    "                    jdc_6_8, \n",
    "                    observed_data=(tdf.h1,), \n",
    "                    num_chains=NUM_CHAINS_FOR_6_8,\n",
    "                    init_state=init_state,\n",
    "                    bijectors=bijectors,\n",
    "                    num_samples=2000, \n",
    "                    burnin=1000,\n",
    "                    params=['a', 'bt', 'sigma'])\n",
    "\n",
    "az.summary(trace_6_8, hdi_prob=0.89)"
   ]
  },
  {
   "cell_type": "markdown",
   "metadata": {},
   "source": [
    "We can now see that `bt` (effect of treatment) has a positive impact on the model."
   ]
  },
  {
   "cell_type": "markdown",
   "metadata": {},
   "source": [
    "### 6.2.3 Fungus and d-separation\n",
    "\n",
    "Above we built models by including and excluding various potential predictors. However, it helps to represent these relations graphically with the help of DAG."
   ]
  },
  {
   "cell_type": "markdown",
   "metadata": {},
   "source": [
    "##### Code 6.18\n",
    "\n",
    "Here we are using `causalgraphicalmodel` package"
   ]
  },
  {
   "cell_type": "code",
   "execution_count": 37,
   "metadata": {},
   "outputs": [
    {
     "data": {
      "image/png": "[encoded data removed]",
      "text/plain": [
       "<Figure size 266.457x39.685 with 1 Axes>"
      ]
     },
     "metadata": {
      "image/png": {
       "height": 54,
       "width": 280
      }
     },
     "output_type": "display_data"
    }
   ],
   "source": [
    "plant_dag = CausalGraphicalModel(\n",
    "    nodes=[\"H0\", \"H1\", \"F\", \"T\"],\n",
    "    edges=[(\"H0\", \"H1\"),\n",
    "           (\"F\", \"H1\"),\n",
    "           (\"T\", \"F\")])\n",
    "pgm = daft.PGM()\n",
    "coordinates = {\"H0\": (0, 0), \"T\": (4, 0), \"F\": (3, 0), \"H1\": (2, 0)}\n",
    "for node in plant_dag.dag.nodes:\n",
    "    pgm.add_node(node, node, *coordinates[node])\n",
    "for edge in plant_dag.dag.edges:\n",
    "    pgm.add_edge(*edge)\n",
    "pgm.render()\n",
    "plt.gca().invert_yaxis()"
   ]
  },
  {
   "cell_type": "markdown",
   "metadata": {},
   "source": [
    "The graph clearly shows how treatment's (T) impact on height (H1) is **blocked** by fungus (F)\n",
    "\n",
    "Another way to say above is - If we condition on F it induces **D-SEPARATION**. The \"d\" stands for *directional*\n",
    "\n",
    "H1 is conditionally independent of T if we include F (the blocker)\n"
   ]
  },
  {
   "cell_type": "markdown",
   "metadata": {},
   "source": [
    "##### Code 6.19"
   ]
  },
  {
   "cell_type": "code",
   "execution_count": 38,
   "metadata": {},
   "outputs": [
    {
     "name": "stdout",
     "output_type": "stream",
     "text": [
      "('H0', 'F', set())\n",
      "('H0', 'T', set())\n",
      "('T', 'H1', {'F'})\n"
     ]
    }
   ],
   "source": [
    "all_independencies = plant_dag.get_all_independence_relationships()\n",
    "for s in all_independencies:\n",
    "    if all(t[0] != s[0] or t[1] != s[1] or not t[2].issubset(s[2])\n",
    "           for t in all_independencies if t != s):\n",
    "        print(s)"
   ]
  },
  {
   "cell_type": "markdown",
   "metadata": {},
   "source": [
    "Here is how we want to read the above result -\n",
    "\n",
    "* H0 is conditionally independent on T  (note the empty set). In other words, original height H0 should not be associated with T\n",
    "\n",
    "* H0 is conditionally independent on F  (note the empty set). In other words, original height H0 should not be associated with F\n",
    "\n",
    "* H1 is conditionally independent on T if we include F"
   ]
  },
  {
   "cell_type": "markdown",
   "metadata": {},
   "source": [
    "##### Code 6.20\n",
    "\n",
    "A synthetic data generation to modifiy the plant growth simulation so that fungus has no influence on growth, but moisture M influences both H1 and F"
   ]
  },
  {
   "cell_type": "code",
   "execution_count": 39,
   "metadata": {},
   "outputs": [
    {
     "data": {
      "text/html": [
       "<div>\n",
       "<style scoped>\n",
       "    .dataframe tbody tr th:only-of-type {\n",
       "        vertical-align: middle;\n",
       "    }\n",
       "\n",
       "    .dataframe tbody tr th {\n",
       "        vertical-align: top;\n",
       "    }\n",
       "\n",
       "    .dataframe thead th {\n",
       "        text-align: right;\n",
       "    }\n",
       "</style>\n",
       "<table border=\"1\" class=\"dataframe\">\n",
       "  <thead>\n",
       "    <tr style=\"text-align: right;\">\n",
       "      <th></th>\n",
       "      <th>mean</th>\n",
       "      <th>sd</th>\n",
       "      <th>hdi_5.5%</th>\n",
       "      <th>hdi_94.5%</th>\n",
       "    </tr>\n",
       "  </thead>\n",
       "  <tbody>\n",
       "    <tr>\n",
       "      <th>h0</th>\n",
       "      <td>9.994</td>\n",
       "      <td>2.06</td>\n",
       "      <td>6.494</td>\n",
       "      <td>12.935</td>\n",
       "    </tr>\n",
       "    <tr>\n",
       "      <th>h1</th>\n",
       "      <td>16.544</td>\n",
       "      <td>2.80</td>\n",
       "      <td>12.268</td>\n",
       "      <td>20.809</td>\n",
       "    </tr>\n",
       "    <tr>\n",
       "      <th>treatment</th>\n",
       "      <td>0.500</td>\n",
       "      <td>0.50</td>\n",
       "      <td>0.000</td>\n",
       "      <td>1.000</td>\n",
       "    </tr>\n",
       "    <tr>\n",
       "      <th>fungus</th>\n",
       "      <td>0.491</td>\n",
       "      <td>0.50</td>\n",
       "      <td>0.000</td>\n",
       "      <td>1.000</td>\n",
       "    </tr>\n",
       "  </tbody>\n",
       "</table>\n",
       "</div>"
      ],
      "text/plain": [
       "             mean    sd  hdi_5.5%  hdi_94.5%\n",
       "h0          9.994  2.06     6.494     12.935\n",
       "h1         16.544  2.80    12.268     20.809\n",
       "treatment   0.500  0.50     0.000      1.000\n",
       "fungus      0.491  0.50     0.000      1.000"
      ]
     },
     "execution_count": 39,
     "metadata": {},
     "output_type": "execute_result"
    }
   ],
   "source": [
    "_SEED = 71\n",
    "\n",
    "# Note - even after providing SeedStream and generated seeds\n",
    "# it still does not respect it\n",
    "def simulate():\n",
    "    seed = tfp.util.SeedStream(_SEED, salt=\"sim_heights\")\n",
    "\n",
    "    # number of plants\n",
    "    N = 1000\n",
    "\n",
    "    # simulate initial heights\n",
    "    h0 = tfd.Normal(loc=10., scale=2.).sample(N, seed=seed())\n",
    "\n",
    "    # assign treatments and simulate fungus and growth\n",
    "    treatment = tf.repeat([0., 1.], repeats=N // 2)\n",
    "    \n",
    "    M = tf.cast(tfd.Bernoulli(probs=0.5).sample(N, seed=seed()), dtype=tf.float32)\n",
    "    \n",
    "    fungus = tfd.Binomial(total_count=1., probs=(0.5 - treatment * 0.4 + M * 0.4)).sample(seed=seed())\n",
    "    \n",
    "    h1 = h0 + tfd.Normal(loc=5. + 3. * M, scale=1.).sample(seed=seed())\n",
    "\n",
    "    # compose a clean data frame\n",
    "    d = {\"h0\":h0, \"h1\":h1, \"treatment\":treatment, \"fungus\":fungus}\n",
    "    \n",
    "    return d\n",
    "    \n",
    "d = simulate()\n",
    "\n",
    "az.summary(d, kind=\"stats\", hdi_prob=0.89)"
   ]
  },
  {
   "cell_type": "markdown",
   "metadata": {},
   "source": [
    "## 6.3 Collider bias"
   ]
  },
  {
   "cell_type": "markdown",
   "metadata": {},
   "source": [
    "### 6.3.1 Collider of false sorrow\n",
    "\n",
    "\n",
    "Question we consider in this section is how aging influences happiness ?\n",
    "\n",
    "We also know that happiness (H) & age (A) both cause marriage (M). This makes marriage (M) a **collider**\n",
    "\n",
    "H ----> M <----- A\n"
   ]
  },
  {
   "cell_type": "markdown",
   "metadata": {},
   "source": [
    "##### Code 6.21\n",
    "\n",
    "Simulating (synthetic data generation) happiness and its relationship with age & marriage\n",
    "\n",
    "* Each year, 20 people are born with uniformly distributed happiness values\n",
    "* Each year, each person ages one year. Happiness does not change.\n",
    "* At age 18, individuals can be married. The odds of marriage each year are proportional to an individual's happiness\n",
    "* Once married, an individual remains married\n",
    "* After age 65, individuals leave the sample. (They move to Spain)"
   ]
  },
  {
   "cell_type": "code",
   "execution_count": 40,
   "metadata": {},
   "outputs": [],
   "source": [
    "# Port of R code from here https://github.com/rmcelreath/rethinking/blob/master/R/sim_happiness.R\n",
    "def sim_happiness(seed=1977, N_years=1000, max_age=65, N_births=20, aom=18):\n",
    "    # age existing individuals & newborns\n",
    "    A = np.repeat(np.arange(1, N_years + 1), N_births)\n",
    "    # sim happiness trait - never changes\n",
    "    H = np.repeat(np.linspace(-2, 2, N_births)[None, :], N_years, 0).reshape(-1)\n",
    "    # not yet married\n",
    "    M = np.zeros(N_years * N_births, dtype=np.uint8)\n",
    "\n",
    "    def update_M(i, M):\n",
    "        # for each person over 17, chance get married\n",
    "        married = tfd.Bernoulli(logits=(H - 4.)).sample(seed=seed + i).numpy()\n",
    "        return np.where((A >= i) & (M == 0.), married, M)\n",
    "\n",
    "    def fori_loop(lower, upper, body_fun, init_val):\n",
    "        val = init_val\n",
    "        for i in range(lower, upper):\n",
    "            val = body_fun(i, val)\n",
    "        return val\n",
    "    \n",
    "    M = fori_loop(aom, max_age+1, update_M, M)    \n",
    "\n",
    "    # mortality\n",
    "    deaths = A > max_age\n",
    "    A = A[~deaths]\n",
    "    H = H[~deaths]\n",
    "    M = M[~deaths]\n",
    "\n",
    "    d = pd.DataFrame({\"age\": A, \"married\": M, \"happiness\": H})\n",
    "    return d\n",
    "\n",
    "d = sim_happiness(seed=1977, N_years=1000)"
   ]
  },
  {
   "cell_type": "code",
   "execution_count": 41,
   "metadata": {},
   "outputs": [
    {
     "data": {
      "text/html": [
       "<div>\n",
       "<style scoped>\n",
       "    .dataframe tbody tr th:only-of-type {\n",
       "        vertical-align: middle;\n",
       "    }\n",
       "\n",
       "    .dataframe tbody tr th {\n",
       "        vertical-align: top;\n",
       "    }\n",
       "\n",
       "    .dataframe thead th {\n",
       "        text-align: right;\n",
       "    }\n",
       "</style>\n",
       "<table border=\"1\" class=\"dataframe\">\n",
       "  <thead>\n",
       "    <tr style=\"text-align: right;\">\n",
       "      <th></th>\n",
       "      <th>age</th>\n",
       "      <th>married</th>\n",
       "      <th>happiness</th>\n",
       "    </tr>\n",
       "  </thead>\n",
       "  <tbody>\n",
       "    <tr>\n",
       "      <th>count</th>\n",
       "      <td>1300.000000</td>\n",
       "      <td>1300.000000</td>\n",
       "      <td>1.300000e+03</td>\n",
       "    </tr>\n",
       "    <tr>\n",
       "      <th>mean</th>\n",
       "      <td>33.000000</td>\n",
       "      <td>0.292308</td>\n",
       "      <td>-8.335213e-17</td>\n",
       "    </tr>\n",
       "    <tr>\n",
       "      <th>std</th>\n",
       "      <td>18.768883</td>\n",
       "      <td>0.454998</td>\n",
       "      <td>1.214421e+00</td>\n",
       "    </tr>\n",
       "    <tr>\n",
       "      <th>min</th>\n",
       "      <td>1.000000</td>\n",
       "      <td>0.000000</td>\n",
       "      <td>-2.000000e+00</td>\n",
       "    </tr>\n",
       "    <tr>\n",
       "      <th>25%</th>\n",
       "      <td>17.000000</td>\n",
       "      <td>0.000000</td>\n",
       "      <td>-1.000000e+00</td>\n",
       "    </tr>\n",
       "    <tr>\n",
       "      <th>50%</th>\n",
       "      <td>33.000000</td>\n",
       "      <td>0.000000</td>\n",
       "      <td>-1.110223e-16</td>\n",
       "    </tr>\n",
       "    <tr>\n",
       "      <th>75%</th>\n",
       "      <td>49.000000</td>\n",
       "      <td>1.000000</td>\n",
       "      <td>1.000000e+00</td>\n",
       "    </tr>\n",
       "    <tr>\n",
       "      <th>max</th>\n",
       "      <td>65.000000</td>\n",
       "      <td>1.000000</td>\n",
       "      <td>2.000000e+00</td>\n",
       "    </tr>\n",
       "  </tbody>\n",
       "</table>\n",
       "</div>"
      ],
      "text/plain": [
       "               age      married     happiness\n",
       "count  1300.000000  1300.000000  1.300000e+03\n",
       "mean     33.000000     0.292308 -8.335213e-17\n",
       "std      18.768883     0.454998  1.214421e+00\n",
       "min       1.000000     0.000000 -2.000000e+00\n",
       "25%      17.000000     0.000000 -1.000000e+00\n",
       "50%      33.000000     0.000000 -1.110223e-16\n",
       "75%      49.000000     1.000000  1.000000e+00\n",
       "max      65.000000     1.000000  2.000000e+00"
      ]
     },
     "execution_count": 41,
     "metadata": {},
     "output_type": "execute_result"
    }
   ],
   "source": [
    "d.describe()"
   ]
  },
  {
   "cell_type": "markdown",
   "metadata": {},
   "source": [
    "##### Code 6.22\n",
    "\n",
    "Rescaling age so that the range from 18 to 65 is one unit\n",
    "\n",
    "We are adding a new column called \"A\" that ranges from 0 to 1 where 0 is age 18 and 1 is age 65\n",
    "\n",
    "Happiness is on an arbitary scale from -2 to +2 "
   ]
  },
  {
   "cell_type": "code",
   "execution_count": 42,
   "metadata": {},
   "outputs": [],
   "source": [
    "d2 = d[d.age > 17].copy()  # only adults\n",
    "d2[\"A\"] = (d2.age - 18) / (65 - 18)"
   ]
  },
  {
   "cell_type": "markdown",
   "metadata": {},
   "source": [
    "##### Code 6.23\n",
    "\n",
    "Here we are doing multiple regression. The linear model is \n",
    "\n",
    "$\\mu_i$ = $\\alpha_{MID[i]}$ + $\\beta_A$ * $A_i$"
   ]
  },
  {
   "cell_type": "code",
   "execution_count": 43,
   "metadata": {},
   "outputs": [],
   "source": [
    "d2[\"mid\"] = d2.married\n",
    "\n",
    "tdf = dataframe_to_tensors('SimulatedHappiness', d2, {\n",
    "    'mid' : tf.int32,\n",
    "    'A'   : tf.float32,\n",
    "    'happiness' : tf.float32\n",
    "})\n",
    "\n",
    "def model_6_9(mid, A):\n",
    "    def _generator():\n",
    "      a = yield Root(tfd.Sample(tfd.Normal(loc=0., scale=1., name=\"a\"), sample_shape=2))      \n",
    "      bA = yield Root(tfd.Sample(tfd.Normal(loc=0., scale=2., name=\"bA\"), sample_shape=1))    \n",
    "      sigma = yield Root(tfd.Sample(tfd.Exponential(rate=1., name=\"sigma\"), sample_shape=1))\n",
    "        \n",
    "      mu = tf.squeeze(tf.gather(a, mid, axis=-1)) + bA[...,tf.newaxis] * A        \n",
    "      scale = sigma[..., tf.newaxis]  \n",
    "        \n",
    "      h = yield tfd.Independent(tfd.Normal(loc=mu, scale=scale, name=\"h\"), reinterpreted_batch_ndims=1)\n",
    "\n",
    "    return tfd.JointDistributionCoroutine(_generator, validate_args=False)    \n",
    "    \n",
    "jdc_6_9 = model_6_9(mid=tdf.mid, A=tdf.A)"
   ]
  },
  {
   "cell_type": "code",
   "execution_count": 44,
   "metadata": {},
   "outputs": [
    {
     "data": {
      "text/html": [
       "<div>\n",
       "<style scoped>\n",
       "    .dataframe tbody tr th:only-of-type {\n",
       "        vertical-align: middle;\n",
       "    }\n",
       "\n",
       "    .dataframe tbody tr th {\n",
       "        vertical-align: top;\n",
       "    }\n",
       "\n",
       "    .dataframe thead th {\n",
       "        text-align: right;\n",
       "    }\n",
       "</style>\n",
       "<table border=\"1\" class=\"dataframe\">\n",
       "  <thead>\n",
       "    <tr style=\"text-align: right;\">\n",
       "      <th></th>\n",
       "      <th>mean</th>\n",
       "      <th>sd</th>\n",
       "      <th>hdi_5.5%</th>\n",
       "      <th>hdi_94.5%</th>\n",
       "      <th>mcse_mean</th>\n",
       "      <th>mcse_sd</th>\n",
       "      <th>ess_bulk</th>\n",
       "      <th>ess_tail</th>\n",
       "      <th>r_hat</th>\n",
       "    </tr>\n",
       "  </thead>\n",
       "  <tbody>\n",
       "    <tr>\n",
       "      <th>a[0]</th>\n",
       "      <td>-0.189</td>\n",
       "      <td>0.062</td>\n",
       "      <td>-0.284</td>\n",
       "      <td>-0.088</td>\n",
       "      <td>0.002</td>\n",
       "      <td>0.001</td>\n",
       "      <td>1068.0</td>\n",
       "      <td>1254.0</td>\n",
       "      <td>1.0</td>\n",
       "    </tr>\n",
       "    <tr>\n",
       "      <th>a[1]</th>\n",
       "      <td>1.336</td>\n",
       "      <td>0.084</td>\n",
       "      <td>1.213</td>\n",
       "      <td>1.479</td>\n",
       "      <td>0.003</td>\n",
       "      <td>0.002</td>\n",
       "      <td>882.0</td>\n",
       "      <td>1189.0</td>\n",
       "      <td>1.0</td>\n",
       "    </tr>\n",
       "    <tr>\n",
       "      <th>bA</th>\n",
       "      <td>-0.831</td>\n",
       "      <td>0.110</td>\n",
       "      <td>-1.003</td>\n",
       "      <td>-0.651</td>\n",
       "      <td>0.004</td>\n",
       "      <td>0.003</td>\n",
       "      <td>766.0</td>\n",
       "      <td>1120.0</td>\n",
       "      <td>1.0</td>\n",
       "    </tr>\n",
       "    <tr>\n",
       "      <th>sigma</th>\n",
       "      <td>0.988</td>\n",
       "      <td>0.023</td>\n",
       "      <td>0.951</td>\n",
       "      <td>1.025</td>\n",
       "      <td>0.001</td>\n",
       "      <td>0.000</td>\n",
       "      <td>2092.0</td>\n",
       "      <td>2048.0</td>\n",
       "      <td>1.0</td>\n",
       "    </tr>\n",
       "  </tbody>\n",
       "</table>\n",
       "</div>"
      ],
      "text/plain": [
       "        mean     sd  hdi_5.5%  hdi_94.5%  mcse_mean  mcse_sd  ess_bulk  \\\n",
       "a[0]  -0.189  0.062    -0.284     -0.088      0.002    0.001    1068.0   \n",
       "a[1]   1.336  0.084     1.213      1.479      0.003    0.002     882.0   \n",
       "bA    -0.831  0.110    -1.003     -0.651      0.004    0.003     766.0   \n",
       "sigma  0.988  0.023     0.951      1.025      0.001    0.000    2092.0   \n",
       "\n",
       "       ess_tail  r_hat  \n",
       "a[0]     1254.0    1.0  \n",
       "a[1]     1189.0    1.0  \n",
       "bA       1120.0    1.0  \n",
       "sigma    2048.0    1.0  "
      ]
     },
     "execution_count": 44,
     "metadata": {},
     "output_type": "execute_result"
    }
   ],
   "source": [
    "NUM_CHAINS_FOR_6_9 = 2\n",
    "\n",
    "init_state = [\n",
    "    tf.ones([NUM_CHAINS_FOR_6_9, 2]),\n",
    "    tf.zeros([NUM_CHAINS_FOR_6_9]),\n",
    "    tf.ones([NUM_CHAINS_FOR_6_9])    \n",
    "]\n",
    "\n",
    "bijectors = [\n",
    "    tfb.Identity(),\n",
    "    tfb.Identity(),\n",
    "    tfb.Exp()\n",
    "]\n",
    "\n",
    "observed_value = (tdf.happiness,)\n",
    "\n",
    "posterior_6_9, trace_6_9 = sample_posterior(\n",
    "                    jdc_6_9, \n",
    "                    observed_data=observed_value, \n",
    "                    num_chains=NUM_CHAINS_FOR_6_9,\n",
    "                    init_state=init_state,\n",
    "                    bijectors=bijectors,\n",
    "                    num_samples=2000, \n",
    "                    burnin=1000,\n",
    "                    params=['a', 'bA', 'sigma'])\n",
    "\n",
    "az.summary(trace_6_9, hdi_prob=0.89)"
   ]
  },
  {
   "cell_type": "markdown",
   "metadata": {},
   "source": [
    "The model here is quite sure that age is negatively associated with happiness."
   ]
  },
  {
   "cell_type": "markdown",
   "metadata": {},
   "source": [
    "##### Code 6.24\n",
    "\n",
    "What would happen if omit the marriage status ?\n",
    "\n",
    "Note - $a$ is not any more a vector; just a plain intercept"
   ]
  },
  {
   "cell_type": "code",
   "execution_count": 45,
   "metadata": {},
   "outputs": [],
   "source": [
    "def model_6_10(A):\n",
    "    def _generator():\n",
    "      a = yield Root(tfd.Sample(tfd.Normal(loc=0., scale=1., name=\"a\"), sample_shape=1))      \n",
    "      bA = yield Root(tfd.Sample(tfd.Normal(loc=0., scale=2., name=\"bA\"), sample_shape=1))    \n",
    "      sigma = yield Root(tfd.Sample(tfd.Exponential(rate=1., name=\"sigma\"), sample_shape=1))\n",
    "        \n",
    "      mu = a[...,tf.newaxis] + bA[...,tf.newaxis] * A        \n",
    "      scale = sigma[..., tf.newaxis]  \n",
    "        \n",
    "      h = yield tfd.Independent(tfd.Normal(loc=mu, scale=scale, name=\"h\"), reinterpreted_batch_ndims=1)\n",
    "\n",
    "    return tfd.JointDistributionCoroutine(_generator, validate_args=False)    \n",
    "    \n",
    "jdc_6_10 = model_6_10(A=tdf.A)"
   ]
  },
  {
   "cell_type": "code",
   "execution_count": 46,
   "metadata": {},
   "outputs": [
    {
     "data": {
      "text/html": [
       "<div>\n",
       "<style scoped>\n",
       "    .dataframe tbody tr th:only-of-type {\n",
       "        vertical-align: middle;\n",
       "    }\n",
       "\n",
       "    .dataframe tbody tr th {\n",
       "        vertical-align: top;\n",
       "    }\n",
       "\n",
       "    .dataframe thead th {\n",
       "        text-align: right;\n",
       "    }\n",
       "</style>\n",
       "<table border=\"1\" class=\"dataframe\">\n",
       "  <thead>\n",
       "    <tr style=\"text-align: right;\">\n",
       "      <th></th>\n",
       "      <th>mean</th>\n",
       "      <th>sd</th>\n",
       "      <th>hdi_5.5%</th>\n",
       "      <th>hdi_94.5%</th>\n",
       "      <th>mcse_mean</th>\n",
       "      <th>mcse_sd</th>\n",
       "      <th>ess_bulk</th>\n",
       "      <th>ess_tail</th>\n",
       "      <th>r_hat</th>\n",
       "    </tr>\n",
       "  </thead>\n",
       "  <tbody>\n",
       "    <tr>\n",
       "      <th>a</th>\n",
       "      <td>-0.001</td>\n",
       "      <td>0.077</td>\n",
       "      <td>-0.123</td>\n",
       "      <td>0.120</td>\n",
       "      <td>0.002</td>\n",
       "      <td>0.002</td>\n",
       "      <td>1082.0</td>\n",
       "      <td>1775.0</td>\n",
       "      <td>1.0</td>\n",
       "    </tr>\n",
       "    <tr>\n",
       "      <th>bA</th>\n",
       "      <td>0.003</td>\n",
       "      <td>0.129</td>\n",
       "      <td>-0.200</td>\n",
       "      <td>0.214</td>\n",
       "      <td>0.004</td>\n",
       "      <td>0.003</td>\n",
       "      <td>960.0</td>\n",
       "      <td>1479.0</td>\n",
       "      <td>1.0</td>\n",
       "    </tr>\n",
       "    <tr>\n",
       "      <th>sigma</th>\n",
       "      <td>1.214</td>\n",
       "      <td>0.028</td>\n",
       "      <td>1.171</td>\n",
       "      <td>1.258</td>\n",
       "      <td>0.001</td>\n",
       "      <td>0.001</td>\n",
       "      <td>606.0</td>\n",
       "      <td>938.0</td>\n",
       "      <td>1.0</td>\n",
       "    </tr>\n",
       "  </tbody>\n",
       "</table>\n",
       "</div>"
      ],
      "text/plain": [
       "        mean     sd  hdi_5.5%  hdi_94.5%  mcse_mean  mcse_sd  ess_bulk  \\\n",
       "a     -0.001  0.077    -0.123      0.120      0.002    0.002    1082.0   \n",
       "bA     0.003  0.129    -0.200      0.214      0.004    0.003     960.0   \n",
       "sigma  1.214  0.028     1.171      1.258      0.001    0.001     606.0   \n",
       "\n",
       "       ess_tail  r_hat  \n",
       "a        1775.0    1.0  \n",
       "bA       1479.0    1.0  \n",
       "sigma     938.0    1.0  "
      ]
     },
     "execution_count": 46,
     "metadata": {},
     "output_type": "execute_result"
    }
   ],
   "source": [
    "NUM_CHAINS_FOR_6_10 = 2\n",
    "\n",
    "init_state = [\n",
    "    tf.ones([NUM_CHAINS_FOR_6_10]),\n",
    "    tf.zeros([NUM_CHAINS_FOR_6_10]),\n",
    "    tf.ones([NUM_CHAINS_FOR_6_10])    \n",
    "]\n",
    "\n",
    "bijectors = [\n",
    "    tfb.Identity(),\n",
    "    tfb.Identity(),\n",
    "    tfb.Exp()\n",
    "]\n",
    "\n",
    "observed_value = (tdf.happiness,)\n",
    "\n",
    "posterior_6_10, trace_6_10 = sample_posterior(\n",
    "                    jdc_6_10, \n",
    "                    observed_data=observed_value, \n",
    "                    num_chains=NUM_CHAINS_FOR_6_10,\n",
    "                    init_state=init_state,\n",
    "                    bijectors=bijectors,\n",
    "                    num_samples=2000, \n",
    "                    burnin=1000,\n",
    "                    params=['a', 'bA', 'sigma'])\n",
    "\n",
    "az.summary(trace_6_10, hdi_prob=0.89)"
   ]
  },
  {
   "cell_type": "markdown",
   "metadata": {},
   "source": [
    "The value is $a$ is close to zero. This implies that the model finds no association between age and happiness.\n",
    "\n",
    "The pattern above is exactly what we should expect when condition on a **collider**. Here the **collider** is marriage status. It is a common consequence of age and happiness and therefore if we condition on it we are bound to induce a spurious association between the two causes"
   ]
  },
  {
   "cell_type": "markdown",
   "metadata": {},
   "source": [
    "### 6.3.2 The hanted DAG\n",
    "\n",
    "Collider may not be easily avoidable because they may be unmesasured causes. \"Unmeasured\" => Our DAG is haunted \n"
   ]
  },
  {
   "cell_type": "markdown",
   "metadata": {},
   "source": [
    "##### Code 6.25\n",
    "\n",
    "Here we will simulate another dataset using which we will try to infer the direct influene of both parents (P) and grandparents (G) on the educational achievement of childern (C)\n",
    "\n",
    "It should be obvious that G -> P, P->C and G->C "
   ]
  },
  {
   "cell_type": "code",
   "execution_count": 47,
   "metadata": {},
   "outputs": [],
   "source": [
    "N = 200  # number of grandparent-parent-child triads\n",
    "b_GP = 1.  # direct effect of G on P\n",
    "b_GC = 0.  # direct effect of G on C\n",
    "b_PC = 1.  # direct effect of P on C\n",
    "b_U = 2.  # direct effect of U on P and C"
   ]
  },
  {
   "cell_type": "markdown",
   "metadata": {},
   "source": [
    "##### Code 6.26\n",
    "\n",
    "Here is our \"functional\" (relationship) modeling\n",
    "\n",
    "* P is some function of G & U\n",
    "* C is some function of G, P & U\n",
    "* G & U are not functions of any other known variables"
   ]
  },
  {
   "cell_type": "code",
   "execution_count": 48,
   "metadata": {},
   "outputs": [
    {
     "data": {
      "text/html": [
       "<div>\n",
       "<style scoped>\n",
       "    .dataframe tbody tr th:only-of-type {\n",
       "        vertical-align: middle;\n",
       "    }\n",
       "\n",
       "    .dataframe tbody tr th {\n",
       "        vertical-align: top;\n",
       "    }\n",
       "\n",
       "    .dataframe thead th {\n",
       "        text-align: right;\n",
       "    }\n",
       "</style>\n",
       "<table border=\"1\" class=\"dataframe\">\n",
       "  <thead>\n",
       "    <tr style=\"text-align: right;\">\n",
       "      <th></th>\n",
       "      <th>C</th>\n",
       "      <th>P</th>\n",
       "      <th>G</th>\n",
       "      <th>U</th>\n",
       "    </tr>\n",
       "  </thead>\n",
       "  <tbody>\n",
       "    <tr>\n",
       "      <th>0</th>\n",
       "      <td>3.512862</td>\n",
       "      <td>1.650976</td>\n",
       "      <td>-1.042326</td>\n",
       "      <td>1</td>\n",
       "    </tr>\n",
       "    <tr>\n",
       "      <th>1</th>\n",
       "      <td>-4.590997</td>\n",
       "      <td>-1.555232</td>\n",
       "      <td>0.232263</td>\n",
       "      <td>-1</td>\n",
       "    </tr>\n",
       "    <tr>\n",
       "      <th>2</th>\n",
       "      <td>4.886199</td>\n",
       "      <td>3.082321</td>\n",
       "      <td>1.986989</td>\n",
       "      <td>1</td>\n",
       "    </tr>\n",
       "    <tr>\n",
       "      <th>3</th>\n",
       "      <td>1.636396</td>\n",
       "      <td>1.243976</td>\n",
       "      <td>-1.034003</td>\n",
       "      <td>1</td>\n",
       "    </tr>\n",
       "    <tr>\n",
       "      <th>4</th>\n",
       "      <td>-8.797684</td>\n",
       "      <td>-5.349887</td>\n",
       "      <td>-3.269576</td>\n",
       "      <td>-1</td>\n",
       "    </tr>\n",
       "    <tr>\n",
       "      <th>...</th>\n",
       "      <td>...</td>\n",
       "      <td>...</td>\n",
       "      <td>...</td>\n",
       "      <td>...</td>\n",
       "    </tr>\n",
       "    <tr>\n",
       "      <th>195</th>\n",
       "      <td>3.745021</td>\n",
       "      <td>0.391891</td>\n",
       "      <td>0.254253</td>\n",
       "      <td>1</td>\n",
       "    </tr>\n",
       "    <tr>\n",
       "      <th>196</th>\n",
       "      <td>-4.513893</td>\n",
       "      <td>-2.212740</td>\n",
       "      <td>-1.100699</td>\n",
       "      <td>-1</td>\n",
       "    </tr>\n",
       "    <tr>\n",
       "      <th>197</th>\n",
       "      <td>-3.206512</td>\n",
       "      <td>-0.455612</td>\n",
       "      <td>0.602985</td>\n",
       "      <td>-1</td>\n",
       "    </tr>\n",
       "    <tr>\n",
       "      <th>198</th>\n",
       "      <td>1.082468</td>\n",
       "      <td>-0.115803</td>\n",
       "      <td>0.106212</td>\n",
       "      <td>1</td>\n",
       "    </tr>\n",
       "    <tr>\n",
       "      <th>199</th>\n",
       "      <td>-2.545109</td>\n",
       "      <td>0.838045</td>\n",
       "      <td>2.178708</td>\n",
       "      <td>-1</td>\n",
       "    </tr>\n",
       "  </tbody>\n",
       "</table>\n",
       "<p>200 rows × 4 columns</p>\n",
       "</div>"
      ],
      "text/plain": [
       "            C         P         G  U\n",
       "0    3.512862  1.650976 -1.042326  1\n",
       "1   -4.590997 -1.555232  0.232263 -1\n",
       "2    4.886199  3.082321  1.986989  1\n",
       "3    1.636396  1.243976 -1.034003  1\n",
       "4   -8.797684 -5.349887 -3.269576 -1\n",
       "..        ...       ...       ... ..\n",
       "195  3.745021  0.391891  0.254253  1\n",
       "196 -4.513893 -2.212740 -1.100699 -1\n",
       "197 -3.206512 -0.455612  0.602985 -1\n",
       "198  1.082468 -0.115803  0.106212  1\n",
       "199 -2.545109  0.838045  2.178708 -1\n",
       "\n",
       "[200 rows x 4 columns]"
      ]
     },
     "execution_count": 48,
     "metadata": {},
     "output_type": "execute_result"
    }
   ],
   "source": [
    "def grand_parent_sim():\n",
    "    seed = tfp.util.SeedStream(1, salt=\"sim_grand_parent\")\n",
    "    U = 2 * tfd.Bernoulli(probs=0.5).sample(seed=seed(), sample_shape=N) - 1\n",
    "    G = tfd.Normal(loc=0.,scale=1.).sample(seed=seed(), sample_shape=N)    \n",
    "    temp = b_GP * G + b_U * tf.cast(U, dtype=tf.float32)    \n",
    "    P = tfd.Normal(loc=temp,scale=1.).sample(seed=seed())    \n",
    "    temp2 = b_PC * P + b_GC * G + b_U * tf.cast(U, dtype=tf.float32)  \n",
    "    C = tfd.Normal(loc=temp2,scale=1.).sample(seed=seed())\n",
    "\n",
    "    d = pd.DataFrame({\"C\": C.numpy(), \"P\": P.numpy(), \"G\": G.numpy(), \"U\": U.numpy()})\n",
    "    \n",
    "    return d\n",
    "\n",
    "d = grand_parent_sim()\n",
    "\n",
    "d"
   ]
  },
  {
   "cell_type": "code",
   "execution_count": 49,
   "metadata": {},
   "outputs": [],
   "source": [
    "tdf = dataframe_to_tensors('SimulatedEducation', d, ['P', 'G', 'C', 'U'])"
   ]
  },
  {
   "cell_type": "markdown",
   "metadata": {},
   "source": [
    "##### Code 6.27\n",
    "\n",
    "Simple regression of C on P & G"
   ]
  },
  {
   "cell_type": "code",
   "execution_count": 50,
   "metadata": {},
   "outputs": [],
   "source": [
    "def model_6_11(P, G):\n",
    "    def _generator():\n",
    "      a = yield Root(tfd.Sample(tfd.Normal(loc=0., scale=1., name=\"a\"), sample_shape=1))      \n",
    "      b_PC = yield Root(tfd.Sample(tfd.Normal(loc=0., scale=1., name=\"b_PC\"), sample_shape=1))      \n",
    "      b_GC = yield Root(tfd.Sample(tfd.Normal(loc=0., scale=1., name=\"b_GC\"), sample_shape=1))      \n",
    "      sigma = yield Root(tfd.Sample(tfd.Exponential(rate=1., name=\"sigma\"), sample_shape=1))\n",
    "       \n",
    "      mu = a[...,tf.newaxis] + b_PC[...,tf.newaxis] * P + b_GC[...,tf.newaxis] * G    \n",
    "      scale = sigma[..., tf.newaxis]  \n",
    "        \n",
    "      h = yield tfd.Independent(tfd.Normal(loc=mu, scale=scale, name=\"h\"), reinterpreted_batch_ndims=1)\n",
    "\n",
    "    return tfd.JointDistributionCoroutine(_generator, validate_args=False)    \n",
    "    \n",
    "jdc_6_11 = model_6_11(P=tdf.P, G=tdf.G)"
   ]
  },
  {
   "cell_type": "code",
   "execution_count": 51,
   "metadata": {},
   "outputs": [
    {
     "data": {
      "text/html": [
       "<div>\n",
       "<style scoped>\n",
       "    .dataframe tbody tr th:only-of-type {\n",
       "        vertical-align: middle;\n",
       "    }\n",
       "\n",
       "    .dataframe tbody tr th {\n",
       "        vertical-align: top;\n",
       "    }\n",
       "\n",
       "    .dataframe thead th {\n",
       "        text-align: right;\n",
       "    }\n",
       "</style>\n",
       "<table border=\"1\" class=\"dataframe\">\n",
       "  <thead>\n",
       "    <tr style=\"text-align: right;\">\n",
       "      <th></th>\n",
       "      <th>mean</th>\n",
       "      <th>sd</th>\n",
       "      <th>hdi_5.5%</th>\n",
       "      <th>hdi_94.5%</th>\n",
       "      <th>mcse_mean</th>\n",
       "      <th>mcse_sd</th>\n",
       "      <th>ess_bulk</th>\n",
       "      <th>ess_tail</th>\n",
       "      <th>r_hat</th>\n",
       "    </tr>\n",
       "  </thead>\n",
       "  <tbody>\n",
       "    <tr>\n",
       "      <th>a</th>\n",
       "      <td>0.056</td>\n",
       "      <td>0.093</td>\n",
       "      <td>-0.093</td>\n",
       "      <td>0.205</td>\n",
       "      <td>0.001</td>\n",
       "      <td>0.002</td>\n",
       "      <td>6845.0</td>\n",
       "      <td>1396.0</td>\n",
       "      <td>1.0</td>\n",
       "    </tr>\n",
       "    <tr>\n",
       "      <th>bPC</th>\n",
       "      <td>1.817</td>\n",
       "      <td>0.045</td>\n",
       "      <td>1.745</td>\n",
       "      <td>1.889</td>\n",
       "      <td>0.001</td>\n",
       "      <td>0.001</td>\n",
       "      <td>3796.0</td>\n",
       "      <td>3582.0</td>\n",
       "      <td>1.0</td>\n",
       "    </tr>\n",
       "    <tr>\n",
       "      <th>bGC</th>\n",
       "      <td>-0.898</td>\n",
       "      <td>0.101</td>\n",
       "      <td>-1.042</td>\n",
       "      <td>-0.723</td>\n",
       "      <td>0.001</td>\n",
       "      <td>0.001</td>\n",
       "      <td>5393.0</td>\n",
       "      <td>1647.0</td>\n",
       "      <td>1.0</td>\n",
       "    </tr>\n",
       "    <tr>\n",
       "      <th>sigma</th>\n",
       "      <td>1.382</td>\n",
       "      <td>0.070</td>\n",
       "      <td>1.265</td>\n",
       "      <td>1.486</td>\n",
       "      <td>0.002</td>\n",
       "      <td>0.002</td>\n",
       "      <td>848.0</td>\n",
       "      <td>1351.0</td>\n",
       "      <td>1.0</td>\n",
       "    </tr>\n",
       "  </tbody>\n",
       "</table>\n",
       "</div>"
      ],
      "text/plain": [
       "        mean     sd  hdi_5.5%  hdi_94.5%  mcse_mean  mcse_sd  ess_bulk  \\\n",
       "a      0.056  0.093    -0.093      0.205      0.001    0.002    6845.0   \n",
       "bPC    1.817  0.045     1.745      1.889      0.001    0.001    3796.0   \n",
       "bGC   -0.898  0.101    -1.042     -0.723      0.001    0.001    5393.0   \n",
       "sigma  1.382  0.070     1.265      1.486      0.002    0.002     848.0   \n",
       "\n",
       "       ess_tail  r_hat  \n",
       "a        1396.0    1.0  \n",
       "bPC      3582.0    1.0  \n",
       "bGC      1647.0    1.0  \n",
       "sigma    1351.0    1.0  "
      ]
     },
     "execution_count": 51,
     "metadata": {},
     "output_type": "execute_result"
    }
   ],
   "source": [
    "NUM_CHAINS_FOR_6_11 = 2\n",
    "\n",
    "init_state = [\n",
    "    tf.zeros([NUM_CHAINS_FOR_6_11]),\n",
    "    tf.ones([NUM_CHAINS_FOR_6_11]),\n",
    "    tf.ones([NUM_CHAINS_FOR_6_11]),\n",
    "    tf.ones([NUM_CHAINS_FOR_6_11])    \n",
    "]\n",
    "\n",
    "bijectors = [\n",
    "    tfb.Identity(),\n",
    "    tfb.Identity(),\n",
    "    tfb.Identity(),\n",
    "    tfb.Exp()\n",
    "]\n",
    "\n",
    "observed_value = (tdf.C,)\n",
    "\n",
    "posterior_6_11, trace_6_11 = sample_posterior(\n",
    "                    jdc_6_11, \n",
    "                    observed_data=observed_value, \n",
    "                    num_chains=NUM_CHAINS_FOR_6_11,\n",
    "                    init_state=init_state,\n",
    "                    bijectors=bijectors,\n",
    "                    num_samples=4000, \n",
    "                    burnin=1000,\n",
    "                    params=['a', 'bPC', 'bGC', 'sigma'])\n",
    "\n",
    "az.summary(trace_6_11, hdi_prob=0.89)"
   ]
  },
  {
   "cell_type": "markdown",
   "metadata": {},
   "source": [
    "The inferred effect of parents looks too big, almost twice as large as it should be i.e. 1 vs 1.8\n",
    "\n",
    "Some correlation between P & C is due to U and that's a simple confound.\n",
    "\n",
    "Interestingly model is confident (bGC) that the direct effect of grandparents is to hurt their grandkids"
   ]
  },
  {
   "cell_type": "markdown",
   "metadata": {},
   "source": [
    "##### Code 6.28\n",
    "\n",
    "Regression that conditions on U as well"
   ]
  },
  {
   "cell_type": "code",
   "execution_count": 52,
   "metadata": {},
   "outputs": [],
   "source": [
    "def model_6_12(P, G, U):\n",
    "    def _generator():\n",
    "      a = yield Root(tfd.Sample(tfd.Normal(loc=0., scale=1., name=\"a\"), sample_shape=1))      \n",
    "      b_PC = yield Root(tfd.Sample(tfd.Normal(loc=0., scale=1., name=\"b_PC\"), sample_shape=1))      \n",
    "      b_GC = yield Root(tfd.Sample(tfd.Normal(loc=0., scale=1., name=\"b_GC\"), sample_shape=1))      \n",
    "      b_U = yield Root(tfd.Sample(tfd.Normal(loc=0., scale=1., name=\"b_U\"), sample_shape=1))      \n",
    "      sigma = yield Root(tfd.Sample(tfd.Exponential(rate=1., name=\"sigma\"), sample_shape=1))\n",
    "       \n",
    "      mu = a[...,tf.newaxis] + \\\n",
    "            b_PC[...,tf.newaxis] * P + \\\n",
    "            b_GC[...,tf.newaxis] * G + \\\n",
    "            b_U[...,tf.newaxis] * U\n",
    "    \n",
    "      scale = sigma[..., tf.newaxis]  \n",
    "        \n",
    "      h = yield tfd.Independent(tfd.Normal(loc=mu, scale=scale, name=\"h\"), reinterpreted_batch_ndims=1)\n",
    "\n",
    "    return tfd.JointDistributionCoroutine(_generator, validate_args=False)    \n",
    "    \n",
    "jdc_6_12 = model_6_12(P=tdf.P, G=tdf.G, U=tdf.U)"
   ]
  },
  {
   "cell_type": "code",
   "execution_count": 53,
   "metadata": {},
   "outputs": [
    {
     "data": {
      "text/html": [
       "<div>\n",
       "<style scoped>\n",
       "    .dataframe tbody tr th:only-of-type {\n",
       "        vertical-align: middle;\n",
       "    }\n",
       "\n",
       "    .dataframe tbody tr th {\n",
       "        vertical-align: top;\n",
       "    }\n",
       "\n",
       "    .dataframe thead th {\n",
       "        text-align: right;\n",
       "    }\n",
       "</style>\n",
       "<table border=\"1\" class=\"dataframe\">\n",
       "  <thead>\n",
       "    <tr style=\"text-align: right;\">\n",
       "      <th></th>\n",
       "      <th>mean</th>\n",
       "      <th>sd</th>\n",
       "      <th>hdi_5.5%</th>\n",
       "      <th>hdi_94.5%</th>\n",
       "      <th>mcse_mean</th>\n",
       "      <th>mcse_sd</th>\n",
       "      <th>ess_bulk</th>\n",
       "      <th>ess_tail</th>\n",
       "      <th>r_hat</th>\n",
       "    </tr>\n",
       "  </thead>\n",
       "  <tbody>\n",
       "    <tr>\n",
       "      <th>a</th>\n",
       "      <td>-0.059</td>\n",
       "      <td>0.073</td>\n",
       "      <td>-0.179</td>\n",
       "      <td>0.052</td>\n",
       "      <td>0.001</td>\n",
       "      <td>0.001</td>\n",
       "      <td>9064.0</td>\n",
       "      <td>2793.0</td>\n",
       "      <td>1.0</td>\n",
       "    </tr>\n",
       "    <tr>\n",
       "      <th>bPC</th>\n",
       "      <td>0.929</td>\n",
       "      <td>0.079</td>\n",
       "      <td>0.800</td>\n",
       "      <td>1.051</td>\n",
       "      <td>0.003</td>\n",
       "      <td>0.002</td>\n",
       "      <td>956.0</td>\n",
       "      <td>1911.0</td>\n",
       "      <td>1.0</td>\n",
       "    </tr>\n",
       "    <tr>\n",
       "      <th>bGC</th>\n",
       "      <td>0.076</td>\n",
       "      <td>0.110</td>\n",
       "      <td>-0.091</td>\n",
       "      <td>0.255</td>\n",
       "      <td>0.003</td>\n",
       "      <td>0.002</td>\n",
       "      <td>1181.0</td>\n",
       "      <td>2294.0</td>\n",
       "      <td>1.0</td>\n",
       "    </tr>\n",
       "    <tr>\n",
       "      <th>bU</th>\n",
       "      <td>2.139</td>\n",
       "      <td>0.174</td>\n",
       "      <td>1.864</td>\n",
       "      <td>2.421</td>\n",
       "      <td>0.006</td>\n",
       "      <td>0.004</td>\n",
       "      <td>867.0</td>\n",
       "      <td>1563.0</td>\n",
       "      <td>1.0</td>\n",
       "    </tr>\n",
       "    <tr>\n",
       "      <th>sigma</th>\n",
       "      <td>1.030</td>\n",
       "      <td>0.051</td>\n",
       "      <td>0.947</td>\n",
       "      <td>1.107</td>\n",
       "      <td>0.001</td>\n",
       "      <td>0.000</td>\n",
       "      <td>9414.0</td>\n",
       "      <td>2402.0</td>\n",
       "      <td>1.0</td>\n",
       "    </tr>\n",
       "  </tbody>\n",
       "</table>\n",
       "</div>"
      ],
      "text/plain": [
       "        mean     sd  hdi_5.5%  hdi_94.5%  mcse_mean  mcse_sd  ess_bulk  \\\n",
       "a     -0.059  0.073    -0.179      0.052      0.001    0.001    9064.0   \n",
       "bPC    0.929  0.079     0.800      1.051      0.003    0.002     956.0   \n",
       "bGC    0.076  0.110    -0.091      0.255      0.003    0.002    1181.0   \n",
       "bU     2.139  0.174     1.864      2.421      0.006    0.004     867.0   \n",
       "sigma  1.030  0.051     0.947      1.107      0.001    0.000    9414.0   \n",
       "\n",
       "       ess_tail  r_hat  \n",
       "a        2793.0    1.0  \n",
       "bPC      1911.0    1.0  \n",
       "bGC      2294.0    1.0  \n",
       "bU       1563.0    1.0  \n",
       "sigma    2402.0    1.0  "
      ]
     },
     "execution_count": 53,
     "metadata": {},
     "output_type": "execute_result"
    }
   ],
   "source": [
    "NUM_CHAINS_FOR_6_12 = 2\n",
    "\n",
    "init_state = [\n",
    "    tf.zeros([NUM_CHAINS_FOR_6_12]),\n",
    "    tf.zeros([NUM_CHAINS_FOR_6_12]),\n",
    "    tf.zeros([NUM_CHAINS_FOR_6_12]),\n",
    "    tf.ones([NUM_CHAINS_FOR_6_12]),  # <-- note 1 instead of zero here. Necessary !!\n",
    "    tf.ones([NUM_CHAINS_FOR_6_12])    \n",
    "]\n",
    "\n",
    "bijectors = [\n",
    "    tfb.Identity(),\n",
    "    tfb.Identity(),\n",
    "    tfb.Identity(),\n",
    "    tfb.Identity(),\n",
    "    tfb.Exp()\n",
    "]\n",
    "\n",
    "observed_value = (tdf.C,)\n",
    "\n",
    "posterior_6_12, trace_6_12 = sample_posterior(\n",
    "                    jdc_6_12, \n",
    "                    observed_data=observed_value, \n",
    "                    num_chains=NUM_CHAINS_FOR_6_12,\n",
    "                    init_state=init_state,\n",
    "                    bijectors=bijectors,\n",
    "                    num_samples=4000, \n",
    "                    burnin=1000,\n",
    "                    params=['a', 'bPC', 'bGC', 'bU', 'sigma'])\n",
    "\n",
    "az.summary(trace_6_12, hdi_prob=0.89)"
   ]
  },
  {
   "cell_type": "markdown",
   "metadata": {},
   "source": [
    "These are similar to the slopes we used to simulate (compare to the constants in Code 6.25)\n",
    "\n",
    "This is an example of **SIMPSON's PARADOX**. Usually Simpson's paradox is presented in cases where adding the new predictor helps use. But in this case it misleads us. "
   ]
  },
  {
   "cell_type": "markdown",
   "metadata": {},
   "source": [
    "## 6.4 Confronting confounding\n",
    "\n",
    "We have now seen that in multiple regression if we control for wrong variables they can ruin the inference "
   ]
  },
  {
   "cell_type": "markdown",
   "metadata": {},
   "source": [
    "### 6.4.1 Shutting the backdoor\n",
    "\n",
    "\n",
    "Blocking all confounding paths between some predictor X & some outcome Y is known as shutting the **BACKDOOR**\n",
    "\n",
    "In simple words, we do not want any spurrious corrleation sneaking in through a non-causal path\n"
   ]
  },
  {
   "cell_type": "markdown",
   "metadata": {},
   "source": [
    "We will create the graphs for 4 elemental confounds. \n",
    "\n",
    "**Note that there is no corresponding code section in the book for drawing and hence these section are not marked with Codde 6.X heading**"
   ]
  },
  {
   "cell_type": "markdown",
   "metadata": {},
   "source": [
    "**The Fork**  "
   ]
  },
  {
   "cell_type": "code",
   "execution_count": 54,
   "metadata": {},
   "outputs": [
    {
     "data": {
      "image/png": "[encoded data removed]",
      "text/plain": [
       "<Figure size 153.071x96.378 with 1 Axes>"
      ]
     },
     "metadata": {
      "image/png": {
       "height": 110,
       "width": 167
      }
     },
     "output_type": "display_data"
    }
   ],
   "source": [
    "dag_the_fork = CausalGraphicalModel(\n",
    "    nodes=[\"X\", \"Y\", \"Z\"],\n",
    "    edges=[(\"Z\", \"X\"), (\"Z\", \"Y\")])\n",
    "\n",
    "pgm = daft.PGM()\n",
    "coordinates = {\"X\": (0, 0), \"Y\" : (2,0), \"Z\": (1, 1)}\n",
    "for node in dag_the_fork.dag.nodes:\n",
    "    pgm.add_node(node, node, *coordinates[node])\n",
    "for edge in dag_the_fork.dag.edges:\n",
    "    pgm.add_edge(*edge)\n",
    "pgm.render();"
   ]
  },
  {
   "cell_type": "markdown",
   "metadata": {},
   "source": [
    "Fork is a classic confounder. Z is common cause of X & Y. Learning X tells us nothing about Y"
   ]
  },
  {
   "cell_type": "markdown",
   "metadata": {},
   "source": [
    "**The Pipe**"
   ]
  },
  {
   "cell_type": "code",
   "execution_count": 55,
   "metadata": {},
   "outputs": [
    {
     "data": {
      "image/png": "[encoded data removed]",
      "text/plain": [
       "<Figure size 153.071x39.685 with 1 Axes>"
      ]
     },
     "metadata": {
      "image/png": {
       "height": 54,
       "width": 167
      }
     },
     "output_type": "display_data"
    }
   ],
   "source": [
    "dag_the_pipe = CausalGraphicalModel(\n",
    "    nodes=[\"X\", \"Y\", \"Z\"],\n",
    "    edges=[(\"X\", \"Z\"), (\"Z\", \"Y\")])\n",
    "\n",
    "pgm = daft.PGM()\n",
    "coordinates = {\"X\": (0, 0), \"Y\" : (2,0), \"Z\": (1, 0)}\n",
    "for node in dag_the_pipe.dag.nodes:\n",
    "    pgm.add_node(node, node, *coordinates[node])\n",
    "for edge in dag_the_pipe.dag.edges:\n",
    "    pgm.add_edge(*edge)\n",
    "pgm.render();"
   ]
  },
  {
   "cell_type": "markdown",
   "metadata": {},
   "source": [
    "If we condition on Z we block the path from X to Y. Recall the treatment & fungus experiment"
   ]
  },
  {
   "cell_type": "markdown",
   "metadata": {},
   "source": [
    "**The Collider**"
   ]
  },
  {
   "cell_type": "code",
   "execution_count": 56,
   "metadata": {},
   "outputs": [
    {
     "data": {
      "image/png": "[encoded data removed]",
      "text/plain": [
       "<Figure size 153.071x39.685 with 1 Axes>"
      ]
     },
     "metadata": {
      "image/png": {
       "height": 54,
       "width": 167
      }
     },
     "output_type": "display_data"
    }
   ],
   "source": [
    "dag_the_collider = CausalGraphicalModel(\n",
    "    nodes=[\"X\", \"Y\", \"Z\"],\n",
    "    edges=[(\"X\", \"Z\"), (\"Y\", \"Z\")])\n",
    "\n",
    "pgm = daft.PGM()\n",
    "coordinates = {\"X\": (0, 0), \"Y\" : (2,0), \"Z\": (1, 0)}\n",
    "for node in dag_the_collider.dag.nodes:\n",
    "    pgm.add_node(node, node, *coordinates[node])\n",
    "for edge in dag_the_collider.dag.edges:\n",
    "    pgm.add_edge(*edge)\n",
    "pgm.render();"
   ]
  },
  {
   "cell_type": "markdown",
   "metadata": {},
   "source": [
    "Conditioning on collider i.e Z opens the path i.e info flows between X and Y"
   ]
  },
  {
   "cell_type": "markdown",
   "metadata": {},
   "source": [
    "**The Descendant**"
   ]
  },
  {
   "cell_type": "code",
   "execution_count": 57,
   "metadata": {},
   "outputs": [
    {
     "data": {
      "image/png": "[encoded data removed]",
      "text/plain": [
       "<Figure size 153.071x153.071 with 1 Axes>"
      ]
     },
     "metadata": {
      "image/png": {
       "height": 167,
       "width": 167
      }
     },
     "output_type": "display_data"
    }
   ],
   "source": [
    "dag_the_descendant = CausalGraphicalModel(\n",
    "    nodes=[\"X\", \"Y\", \"Z\", \"D\"],\n",
    "    edges=[(\"X\", \"Z\"), (\"Y\", \"Z\"), (\"Z\", \"D\")])\n",
    "\n",
    "pgm = daft.PGM()\n",
    "coordinates = {\"X\": (0, 1), \"Y\" : (2,1), \"Z\": (1, 0), \"D\" : (1,-1)}\n",
    "for node in dag_the_descendant.dag.nodes:\n",
    "    pgm.add_node(node, node, *coordinates[node])\n",
    "for edge in dag_the_descendant.dag.edges:\n",
    "    pgm.add_edge(*edge)\n",
    "pgm.render();"
   ]
  },
  {
   "cell_type": "markdown",
   "metadata": {},
   "source": [
    "Here is D is the descendant variable. if we condition on it then it will be similar to closig the pipe."
   ]
  },
  {
   "cell_type": "markdown",
   "metadata": {},
   "source": [
    "### 6.4.2 Two roads\n",
    "\n",
    "DAG shown below (Code 6.29) has U which is unobserved variable \n",
    "\n",
    "We are interested in X->Y but which observed covariates (A, B, C) do we need to add to the model ?"
   ]
  },
  {
   "cell_type": "markdown",
   "metadata": {},
   "source": [
    "##### Code 6.29"
   ]
  },
  {
   "cell_type": "code",
   "execution_count": 58,
   "metadata": {},
   "outputs": [
    {
     "data": {
      "image/png": "[encoded data removed]",
      "text/plain": [
       "<Figure size 153.071x209.764 with 1 Axes>"
      ]
     },
     "metadata": {
      "image/png": {
       "height": 224,
       "width": 167
      }
     },
     "output_type": "display_data"
    }
   ],
   "source": [
    "dag_6_1 = CausalGraphicalModel(\n",
    "    nodes=[\"X\", \"Y\", \"C\", \"U\", \"B\", \"A\"],\n",
    "    edges=[(\"X\", \"Y\"), (\"U\", \"X\"), (\"A\", \"U\"), (\"A\", \"C\"),\n",
    "           (\"C\", \"Y\"), (\"U\", \"B\"), (\"C\", \"B\")])\n",
    "\n",
    "\n",
    "# let's render the DAG as well (note - no code section for it in the book but is displayed)\n",
    "# so instead of copying the picture we are generating it\n",
    "pgm = daft.PGM()\n",
    "coordinates = {\"X\": (0, 3), \"Y\" : (2,3), \"U\": (0, 1), \"C\": (2, 1), \"A\": (1, 0), \"B\" : (1, 2)}\n",
    "for node in dag_6_1.dag.nodes:\n",
    "    pgm.add_node(node, node, *coordinates[node])\n",
    "for edge in dag_6_1.dag.edges:\n",
    "    pgm.add_edge(*edge)\n",
    "pgm.render();"
   ]
  },
  {
   "cell_type": "code",
   "execution_count": 59,
   "metadata": {},
   "outputs": [
    {
     "name": "stdout",
     "output_type": "stream",
     "text": [
      "frozenset({'A'})\n",
      "frozenset({'C'})\n"
     ]
    }
   ],
   "source": [
    "all_adjustment_sets = dag_6_1.get_all_backdoor_adjustment_sets(\"X\", \"Y\")\n",
    "for s in all_adjustment_sets:\n",
    "    if all(not t.issubset(s) for t in all_adjustment_sets if t != s):\n",
    "        if s != {\"U\"}:\n",
    "            print(s)"
   ]
  },
  {
   "cell_type": "markdown",
   "metadata": {},
   "source": [
    "Read above results as -\n",
    "\n",
    "Conditioning on either A or C would suffice"
   ]
  },
  {
   "cell_type": "markdown",
   "metadata": {},
   "source": [
    "### 6.4.3 Backdoor waffles\n",
    "\n",
    "\n",
    "Let's consider the Waffle House & Divorce rate correlation and with the help of graph we can find the covariates we should include in our model"
   ]
  },
  {
   "cell_type": "markdown",
   "metadata": {},
   "source": [
    "##### Code 6.30\n",
    "\n",
    "* S => Whether or not state is in southern USA\n",
    "* A => Median Age\n",
    "* M => Marriage Rate\n",
    "* W => Number of Waffle Houses\n",
    "* D => Divorce Rate\n"
   ]
  },
  {
   "cell_type": "code",
   "execution_count": 60,
   "metadata": {},
   "outputs": [
    {
     "data": {
      "image/png": "[encoded data removed]",
      "text/plain": [
       "<Figure size 153.071x153.071 with 1 Axes>"
      ]
     },
     "metadata": {
      "image/png": {
       "height": 167,
       "width": 167
      }
     },
     "output_type": "display_data"
    }
   ],
   "source": [
    "dag_6_2 = CausalGraphicalModel(\n",
    "    nodes=[\"S\", \"A\", \"D\", \"M\", \"W\"],\n",
    "    edges=[(\"S\", \"A\"), (\"A\", \"D\"),\n",
    "           (\"S\", \"M\"), (\"M\", \"D\"),\n",
    "           (\"S\", \"W\"), (\"W\", \"D\"),\n",
    "           (\"A\", \"M\")])\n",
    "\n",
    "# let's render the DAG as well (note - no code section for it in the book but is displayed)\n",
    "# so instead of copying the picture we are generating it\n",
    "\n",
    "pgm = daft.PGM()\n",
    "coordinates = {\"S\": (0, 0), \"W\" : (2,0), \"A\": (0, 2), \"D\": (2, 2), \"M\": (1, 1),}\n",
    "for node in dag_6_2.dag.nodes:\n",
    "    pgm.add_node(node, node, *coordinates[node])\n",
    "for edge in dag_6_2.dag.edges:\n",
    "    pgm.add_edge(*edge)\n",
    "pgm.render();"
   ]
  },
  {
   "cell_type": "code",
   "execution_count": 61,
   "metadata": {},
   "outputs": [
    {
     "name": "stdout",
     "output_type": "stream",
     "text": [
      "frozenset({'S'})\n",
      "frozenset({'M', 'A'})\n"
     ]
    }
   ],
   "source": [
    "all_adjustment_sets = dag_6_2.get_all_backdoor_adjustment_sets(\"W\", \"D\")\n",
    "for s in all_adjustment_sets:\n",
    "    if all(not t.issubset(s)for t in all_adjustment_sets if t != s):\n",
    "        print(s)"
   ]
  },
  {
   "cell_type": "markdown",
   "metadata": {},
   "source": [
    "This shows that we could control either for S alone or A and M"
   ]
  },
  {
   "cell_type": "markdown",
   "metadata": {},
   "source": [
    "##### Code 6.31\n",
    "\n",
    "Above DAG is not satisfactory as it assumes that there are **no** unobserved confounds.\n",
    "\n",
    "We can further test the graph by finding the **conditional independencies**"
   ]
  },
  {
   "cell_type": "code",
   "execution_count": 62,
   "metadata": {},
   "outputs": [
    {
     "name": "stdout",
     "output_type": "stream",
     "text": [
      "('D', 'S', {'W', 'M', 'A'})\n",
      "('W', 'M', {'S'})\n",
      "('W', 'A', {'S'})\n"
     ]
    }
   ],
   "source": [
    "all_independencies = dag_6_2.get_all_independence_relationships()\n",
    "for s in all_independencies:\n",
    "    if all(t[0] != s[0] or t[1] != s[1] or not t[2].issubset(s[2])\n",
    "           for t in all_independencies if t != s):\n",
    "        print(s)"
   ]
  },
  {
   "cell_type": "markdown",
   "metadata": {},
   "source": [
    "Read above result as :\n",
    "\n",
    "* Marriage Rate & Waffle Houses should be independent if conditioning on S\n",
    "* Median Age & Waffle Houses should be independent if conditioning on S\n",
    "* Being in south and Divorce Rate should be indpendent if condition on (W, M and A)"
   ]
  }
 ],
 "metadata": {
  "kernelspec": {
   "display_name": "Python 3 (ipykernel)",
   "language": "python",
   "name": "python3"
  },
  "language_info": {
   "codemirror_mode": {
    "name": "ipython",
    "version": 3
   },
   "file_extension": ".py",
   "mimetype": "text/x-python",
   "name": "python",
   "nbconvert_exporter": "python",
   "pygments_lexer": "ipython3",
   "version": "3.7.12"
  },
  "toc": {
   "base_numbering": 1,
   "nav_menu": {},
   "number_sections": true,
   "sideBar": true,
   "skip_h1_title": false,
   "title_cell": "Table of Contents",
   "title_sidebar": "Contents",
   "toc_cell": false,
   "toc_position": {},
   "toc_section_display": true,
   "toc_window_display": false
  }
 },
 "nbformat": 4,
 "nbformat_minor": 4
}

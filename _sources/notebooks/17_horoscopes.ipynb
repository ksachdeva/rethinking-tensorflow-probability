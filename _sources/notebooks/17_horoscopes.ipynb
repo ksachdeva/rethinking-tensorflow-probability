{
 "cells": [
  {
   "cell_type": "markdown",
   "metadata": {},
   "source": [
    "[![Open In Colab](https://colab.research.google.com/assets/colab-badge.svg)](https://colab.research.google.com/github/ksachdeva/rethinking-tensorflow-probability/blob/master/notebooks/17_horoscopes.ipynb)"
   ]
  },
  {
   "cell_type": "markdown",
   "metadata": {},
   "source": [
    "# Chapter 17 - Horoscopes"
   ]
  },
  {
   "cell_type": "markdown",
   "metadata": {},
   "source": [
    "There are no code snippets in this chapter."
   ]
  },
  {
   "cell_type": "markdown",
   "metadata": {},
   "source": [
    "Author talks about core issues in statistical inferences in this chapter. He compares statistical models to horoscopes on account of both of them appear to be mighty as well as vague.\n",
    "\n",
    "He then talks about how difficult it is reproduce the findings of the paper and also how errors (blunders) have been made throught scientific history."
   ]
  },
  {
   "cell_type": "markdown",
   "metadata": {},
   "source": [
    "I like this phrase specifically -\n",
    "\n",
    "Science is a population-level process of variation & selective retension. It does not operate on individual hypotheses, but rather on populations of hypotheses. "
   ]
  },
  {
   "cell_type": "markdown",
   "metadata": {},
   "source": [
    "He shares his list of some improvements (read the book for detail on these) -\n",
    "\n",
    "* Quality of theory and predictions\n",
    "* Dynamics of research funding\n",
    "* Quality of measurement\n",
    "* Quality of data analysis\n",
    "* Quality of peer review\n",
    "* Publication\n",
    "* Post publication peer review. Good point indeed ! After something is published there are many ways to do later peer criticism.\n",
    "* Replication & meta-analysis"
   ]
  },
  {
   "cell_type": "markdown",
   "metadata": {},
   "source": [
    "Author strongly emphasize on the openess of research."
   ]
  },
  {
   "cell_type": "markdown",
   "metadata": {},
   "source": [
    "Love this one -\n",
    "\n",
    "Statistics is to math as cooking is to chemistry"
   ]
  },
  {
   "cell_type": "code",
   "execution_count": null,
   "metadata": {},
   "outputs": [],
   "source": []
  }
 ],
 "metadata": {
  "kernelspec": {
   "display_name": "Python 3",
   "language": "python",
   "name": "python3"
  },
  "language_info": {
   "codemirror_mode": {
    "name": "ipython",
    "version": 3
   },
   "file_extension": ".py",
   "mimetype": "text/x-python",
   "name": "python",
   "nbconvert_exporter": "python",
   "pygments_lexer": "ipython3",
   "version": "3.7.4"
  },
  "toc": {
   "base_numbering": 1,
   "nav_menu": {},
   "number_sections": true,
   "sideBar": true,
   "skip_h1_title": false,
   "title_cell": "Table of Contents",
   "title_sidebar": "Contents",
   "toc_cell": false,
   "toc_position": {},
   "toc_section_display": true,
   "toc_window_display": false
  }
 },
 "nbformat": 4,
 "nbformat_minor": 4
}

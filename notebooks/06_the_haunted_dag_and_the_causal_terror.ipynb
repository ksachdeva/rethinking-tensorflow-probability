{
 "cells": [
  {
   "cell_type": "markdown",
   "metadata": {},
   "source": [
    "[![Open In Colab](https://colab.research.google.com/assets/colab-badge.svg)](https://colab.research.google.com/github/ksachdeva/rethinking-tensorflow-probability/blob/master/notebooks/06_the_haunted_dag_and_the_causal_terror.ipynb)"
   ]
  },
  {
   "cell_type": "markdown",
   "metadata": {},
   "source": [
    "# Chapter 6 - The Haunted DAG and The Causal Terror"
   ]
  },
  {
   "cell_type": "markdown",
   "metadata": {},
   "source": [
    "## Imports and utility functions"
   ]
  },
  {
   "cell_type": "code",
   "execution_count": 1,
   "metadata": {},
   "outputs": [],
   "source": [
    "# Install packages that are not installed in colab\n",
    "try:\n",
    "  import google.colab\n",
    "  IN_COLAB = True\n",
    "except:\n",
    "  IN_COLAB = False\n",
    "\n",
    "if IN_COLAB:\n",
    "    !pip install --upgrade -q daft\n",
    "    !pip install -q causalgraphicalmodels\n",
    "    !pip install -q watermark"
   ]
  },
  {
   "cell_type": "code",
   "execution_count": 2,
   "metadata": {},
   "outputs": [],
   "source": [
    "%load_ext watermark"
   ]
  },
  {
   "cell_type": "code",
   "execution_count": 3,
   "metadata": {},
   "outputs": [],
   "source": [
    "# Core\n",
    "import collections\n",
    "import numpy as np\n",
    "import arviz as az\n",
    "import pandas as pd\n",
    "import tensorflow as tf\n",
    "import tensorflow_probability as tfp\n",
    "from statsmodels.regression import linear_model\n",
    "\n",
    "# visualization \n",
    "import matplotlib.pyplot as plt\n",
    "\n",
    "import daft\n",
    "from causalgraphicalmodels import CausalGraphicalModel\n",
    "\n",
    "# aliases\n",
    "tfd = tfp.distributions\n",
    "tfb = tfp.bijectors\n",
    "Root = tfd.JointDistributionCoroutine.Root"
   ]
  },
  {
   "cell_type": "code",
   "execution_count": 4,
   "metadata": {},
   "outputs": [
    {
     "name": "stdout",
     "output_type": "stream",
     "text": [
      "numpy                 : 1.21.5\n",
      "tensorflow            : 2.7.0\n",
      "tensorflow_probability: 0.15.0\n",
      "arviz                 : 0.11.4\n",
      "scipy                 : 1.7.3\n",
      "pandas                : 1.3.5\n",
      "statsmodels           : 0.13.1\n",
      "daft                  : 0.1.2\n",
      "causalgraphicalmodels : 0.0.4\n",
      "\n"
     ]
    }
   ],
   "source": [
    "%watermark -p numpy,tensorflow,tensorflow_probability,arviz,scipy,pandas,statsmodels,daft,causalgraphicalmodels"
   ]
  },
  {
   "cell_type": "code",
   "execution_count": 5,
   "metadata": {},
   "outputs": [],
   "source": [
    "# config of various plotting libraries\n",
    "%config InlineBackend.figure_format = 'retina'"
   ]
  },
  {
   "cell_type": "markdown",
   "metadata": {},
   "source": [
    "### Tensorflow MCMC sampling helpers\n"
   ]
  },
  {
   "cell_type": "code",
   "execution_count": 6,
   "metadata": {},
   "outputs": [],
   "source": [
    "USE_XLA = False              #@param\n",
    "NUMBER_OF_CHAINS  = 2        #@param \n",
    "NUMBER_OF_BURNIN  = 500      #@param\n",
    "NUMBER_OF_SAMPLES = 500      #@param\n",
    "NUMBER_OF_LEAPFROG_STEPS = 4 #@param\n",
    "\n",
    "def _trace_to_arviz(trace=None,\n",
    "                   sample_stats=None,\n",
    "                   observed_data=None,\n",
    "                   prior_predictive=None,\n",
    "                   posterior_predictive=None,\n",
    "                   inplace=True):\n",
    "\n",
    "    if trace is not None and isinstance(trace, dict):\n",
    "        trace = {k: v.numpy()\n",
    "                 for k, v in trace.items()}\n",
    "    if sample_stats is not None and isinstance(sample_stats, dict):\n",
    "        sample_stats = {k: v.numpy().T for k, v in sample_stats.items()}\n",
    "    if prior_predictive is not None and isinstance(prior_predictive, dict):\n",
    "        prior_predictive = {k: v[np.newaxis]\n",
    "                            for k, v in prior_predictive.items()}\n",
    "    if posterior_predictive is not None and isinstance(posterior_predictive, dict):\n",
    "        if isinstance(trace, az.InferenceData) and inplace == True:\n",
    "            return trace + az.from_dict(posterior_predictive=posterior_predictive)\n",
    "        else:\n",
    "            trace = None\n",
    "\n",
    "    return az.from_dict(\n",
    "        posterior=trace,\n",
    "        sample_stats=sample_stats,\n",
    "        prior_predictive=prior_predictive,\n",
    "        posterior_predictive=posterior_predictive,\n",
    "        observed_data=observed_data,\n",
    "    )\n",
    "\n",
    "@tf.function(autograph=False, experimental_compile=USE_XLA)\n",
    "def run_hmc_chain(init_state,\n",
    "              bijectors, \n",
    "              step_size, \n",
    "              target_log_prob_fn, \n",
    "              num_leapfrog_steps=NUMBER_OF_LEAPFROG_STEPS,\n",
    "              num_samples=NUMBER_OF_SAMPLES,\n",
    "              burnin=NUMBER_OF_BURNIN,\n",
    "              ):    \n",
    "\n",
    "    def _trace_fn_transitioned(_, pkr):\n",
    "        return (\n",
    "            pkr.inner_results.inner_results.log_accept_ratio\n",
    "        )\n",
    "\n",
    "    hmc_kernel = tfp.mcmc.HamiltonianMonteCarlo(\n",
    "                    target_log_prob_fn,\n",
    "                    num_leapfrog_steps=num_leapfrog_steps,\n",
    "                    step_size=step_size)         \n",
    "\n",
    "    inner_kernel = tfp.mcmc.TransformedTransitionKernel(\n",
    "        inner_kernel=hmc_kernel,\n",
    "        bijector=bijectors)       \n",
    "\n",
    "    kernel = tfp.mcmc.SimpleStepSizeAdaptation(\n",
    "        inner_kernel=inner_kernel,\n",
    "        target_accept_prob=.8,\n",
    "        num_adaptation_steps=int(0.8*burnin),\n",
    "        log_accept_prob_getter_fn=lambda pkr: pkr.inner_results.log_accept_ratio\n",
    "    )    \n",
    "\n",
    "    results, sampler_stat = tfp.mcmc.sample_chain(\n",
    "        num_results=num_samples,\n",
    "        num_burnin_steps=burnin,\n",
    "        current_state=init_state,\n",
    "        kernel=kernel,\n",
    "        trace_fn=_trace_fn_transitioned)\n",
    "\n",
    "    return results, sampler_stat    \n",
    "\n",
    "def sample_posterior(jdc, \n",
    "              observed_data, \n",
    "              params, \n",
    "              init_state=None, \n",
    "              bijectors=None, \n",
    "              step_size = 0.1,\n",
    "              num_chains=NUMBER_OF_CHAINS,                  \n",
    "              num_samples=NUMBER_OF_SAMPLES, \n",
    "              burnin=NUMBER_OF_BURNIN):\n",
    "        \n",
    "    if init_state is None:\n",
    "        init_state = list(jdc.sample(num_chains)[:-1])\n",
    "\n",
    "    if bijectors is None:\n",
    "        bijectors = [tfb.Identity() for i in init_state]\n",
    "\n",
    "    target_log_prob_fn = lambda *x: jdc.log_prob(x + observed_data)  \n",
    "\n",
    "    results, sample_stats = run_hmc_chain(init_state,\n",
    "                                  bijectors,\n",
    "                                  step_size=step_size,\n",
    "                                  target_log_prob_fn=target_log_prob_fn,                                      \n",
    "                                  num_samples=num_samples, \n",
    "                                  burnin=burnin)\n",
    "\n",
    "    stat_names = ['mean_tree_accept']\n",
    "    sampler_stats = dict(zip(stat_names, [sample_stats]))      \n",
    "        \n",
    "    transposed_results = []\n",
    "    \n",
    "    for r in results:        \n",
    "        if len(r.shape) == 2:\n",
    "            transposed_shape = [1,0]\n",
    "        elif len(r.shape) == 3:\n",
    "            transposed_shape = [1,0,2] \n",
    "        else:\n",
    "            transposed_shape = [1,0,2,3] \n",
    "        \n",
    "        transposed_results.append(tf.transpose(r, transposed_shape))\n",
    "\n",
    "    posterior = dict(zip(params, transposed_results))        \n",
    "\n",
    "    az_trace = _trace_to_arviz(trace=posterior, \n",
    "                           sample_stats=sampler_stats)\n",
    "\n",
    "    return posterior, az_trace"
   ]
  },
  {
   "cell_type": "markdown",
   "metadata": {},
   "source": [
    "### DATASET URLS & Utils"
   ]
  },
  {
   "cell_type": "code",
   "execution_count": 7,
   "metadata": {},
   "outputs": [],
   "source": [
    "# You could change base url to local dir or a remoate raw github content\n",
    "_BASE_URL = \"https://raw.githubusercontent.com/rmcelreath/rethinking/master/data\"\n",
    "\n",
    "WAFFLE_DIVORCE_DATASET_PATH = f\"{_BASE_URL}/WaffleDivorce.csv\"\n",
    "MILK_DATASET_PATH = f\"{_BASE_URL}/milk.csv\"\n",
    "HOWELL_DATASET_PATH = f\"{_BASE_URL}/Howell1.csv\""
   ]
  },
  {
   "cell_type": "code",
   "execution_count": 8,
   "metadata": {},
   "outputs": [],
   "source": [
    "# A utility method to convert data (columns) from pandas dataframe\n",
    "# into tensors with appropriate type\n",
    "def df_to_tensors(name, df, columns, default_type=tf.float32):\n",
    "    \"\"\" name : Name of the dataset\n",
    "        df : pandas dataframe\n",
    "        colums : a list of names that have the same type or\n",
    "                 a dictionary where keys are the column names and values are the tensorflow type (e.g. tf.float32)\n",
    "    \"\"\"\n",
    "    if isinstance(columns,dict):\n",
    "        column_names = columns.keys()\n",
    "        fields = [tf.cast(df[k].values, dtype=v) for k,v in columns.items()]    \n",
    "    else:\n",
    "        column_names = columns        \n",
    "        fields = [tf.cast(df[k].values, dtype=default_type) for k in column_names]    \n",
    "        \n",
    "    # build the cls\n",
    "    tuple_cls = collections.namedtuple(name, column_names)    \n",
    "    # build the obj\n",
    "    return tuple_cls._make(fields) "
   ]
  },
  {
   "cell_type": "markdown",
   "metadata": {},
   "source": [
    "## Introduction\n",
    "\n",
    "**Berkson's paradox** - A *false* observation of a *negative* coorelation between 2 positive traits.\n",
    "\n",
    "Members of a population which have some positive trait tend to lack a second even though -:\n",
    "\n",
    "* The traits may be unrelated\n",
    "\n",
    "* Or, they may be even positively related.\n",
    "\n",
    "e.g Resturants at good location have bad food even though location & food have no correlation\n",
    "\n",
    "**Berkon's paradox** is also called **selection-distortion effect**.\n",
    "\n",
    "The gist of the idea here is that when a sample is selected on a combination of 2 (or more) variables, the relationship between those 2 variables is different after selection than it was before. \n",
    "\n",
    "Because of above, we should always be cautious of adding more predictor variables to our regression as it may introduce statistical selection with in the model. The phenomenon has a name and it is called **COLLIDER BIAS**.\n",
    "\n",
    "There are actually 3 types of hazards when we add more predictor variables -\n",
    "\n",
    "* Multicollinearity \n",
    "* Post treatment bias\n",
    "* Collider bias\n",
    "\n",
    "Collider - a beam in which two particles are made to collide (collision)\n",
    "\n"
   ]
  },
  {
   "cell_type": "markdown",
   "metadata": {},
   "source": [
    "### Overthinking : Simulated Science Distorion\n",
    "\n",
    "\n",
    "\n"
   ]
  },
  {
   "cell_type": "markdown",
   "metadata": {},
   "source": [
    "##### Code 6.1\n",
    "\n",
    "A simulated example to demonstrate selection-distortion effect. It has been observed that newsworthiness and trustworthiness of papers accepted by journal are factors in getting the funding.\n",
    "\n",
    "Below code shows how they correlated with each other."
   ]
  },
  {
   "cell_type": "code",
   "execution_count": 9,
   "metadata": {},
   "outputs": [
    {
     "name": "stderr",
     "output_type": "stream",
     "text": [
      "2022-01-17 14:05:30.660892: I tensorflow/core/platform/cpu_feature_guard.cc:151] This TensorFlow binary is optimized with oneAPI Deep Neural Network Library (oneDNN) to use the following CPU instructions in performance-critical operations:  AVX2 FMA\n",
      "To enable them in other operations, rebuild TensorFlow with the appropriate compiler flags.\n"
     ]
    },
    {
     "data": {
      "text/plain": [
       "-0.828225254885134"
      ]
     },
     "execution_count": 9,
     "metadata": {},
     "output_type": "execute_result"
    }
   ],
   "source": [
    "# A simulated example to demonstrate selection-disortion \n",
    "#\n",
    "# Here\n",
    "\n",
    "_SEED = 1914\n",
    "\n",
    "N = 200\n",
    "p = 0.1  # proportion to select\n",
    "\n",
    "# uncorrelated newsworthiness & trustworthiness\n",
    "seed = tfp.util.SeedStream(_SEED, salt=\"\")\n",
    "nw = tfd.Normal(loc=0., scale=1.).sample(N, seed=seed()).numpy()\n",
    "seed = tfp.util.SeedStream(_SEED, salt=\"\")\n",
    "tw = tfd.Normal(loc=0., scale=1.).sample(N, seed=seed()).numpy()\n",
    "\n",
    "# select top 10% of combined scores\n",
    "s = nw + tw  # total score\n",
    "q = np.quantile(s, 1 - p)  # top 10% threshold\n",
    "\n",
    "selected = np.where(s >= q, True, False)\n",
    "\n",
    "np.corrcoef(tw[selected], nw[selected])[0, 1]"
   ]
  },
  {
   "cell_type": "markdown",
   "metadata": {},
   "source": [
    "This shows that nw (newsworthiness) & tw (trustworthiness) are **heavily negivately correlated**."
   ]
  },
  {
   "cell_type": "markdown",
   "metadata": {},
   "source": [
    "## 6.1 Multicollinearity\n",
    "\n",
    "**Multicollinearity** happens when the predictor variables are stronly correlated.\n",
    "\n",
    "When this happens the posterior distribution will seem to suggest that none of the variables is reliably associated with the outcome. \n",
    "\n",
    "Model will still infer correct results but it would be difficult to understand it."
   ]
  },
  {
   "cell_type": "markdown",
   "metadata": {},
   "source": [
    "### 6.1.1 Multicollinear legs\n",
    "\n",
    "Here we create an artifical dataset about height & its relation to the length of the legs as predictor variables.\n",
    "\n",
    "The two legs are more or less of same length so they are correlated with each other. Including both of the legs as the predictors result in multicollinearity"
   ]
  },
  {
   "cell_type": "markdown",
   "metadata": {},
   "source": [
    "##### Code 6.2\n",
    "\n"
   ]
  },
  {
   "cell_type": "code",
   "execution_count": 10,
   "metadata": {},
   "outputs": [
    {
     "data": {
      "text/html": [
       "<div>\n",
       "<style scoped>\n",
       "    .dataframe tbody tr th:only-of-type {\n",
       "        vertical-align: middle;\n",
       "    }\n",
       "\n",
       "    .dataframe tbody tr th {\n",
       "        vertical-align: top;\n",
       "    }\n",
       "\n",
       "    .dataframe thead th {\n",
       "        text-align: right;\n",
       "    }\n",
       "</style>\n",
       "<table border=\"1\" class=\"dataframe\">\n",
       "  <thead>\n",
       "    <tr style=\"text-align: right;\">\n",
       "      <th></th>\n",
       "      <th>height</th>\n",
       "      <th>leg_left</th>\n",
       "      <th>leg_right</th>\n",
       "    </tr>\n",
       "  </thead>\n",
       "  <tbody>\n",
       "    <tr>\n",
       "      <th>count</th>\n",
       "      <td>100.000000</td>\n",
       "      <td>100.000000</td>\n",
       "      <td>100.000000</td>\n",
       "    </tr>\n",
       "    <tr>\n",
       "      <th>mean</th>\n",
       "      <td>10.244188</td>\n",
       "      <td>4.586804</td>\n",
       "      <td>4.589090</td>\n",
       "    </tr>\n",
       "    <tr>\n",
       "      <th>std</th>\n",
       "      <td>1.971723</td>\n",
       "      <td>0.856999</td>\n",
       "      <td>0.857432</td>\n",
       "    </tr>\n",
       "    <tr>\n",
       "      <th>min</th>\n",
       "      <td>6.569585</td>\n",
       "      <td>2.711091</td>\n",
       "      <td>2.734310</td>\n",
       "    </tr>\n",
       "    <tr>\n",
       "      <th>25%</th>\n",
       "      <td>8.705090</td>\n",
       "      <td>3.959075</td>\n",
       "      <td>3.970327</td>\n",
       "    </tr>\n",
       "    <tr>\n",
       "      <th>50%</th>\n",
       "      <td>10.478082</td>\n",
       "      <td>4.628943</td>\n",
       "      <td>4.644671</td>\n",
       "    </tr>\n",
       "    <tr>\n",
       "      <th>75%</th>\n",
       "      <td>11.372977</td>\n",
       "      <td>5.143220</td>\n",
       "      <td>5.147640</td>\n",
       "    </tr>\n",
       "    <tr>\n",
       "      <th>max</th>\n",
       "      <td>15.219750</td>\n",
       "      <td>7.189007</td>\n",
       "      <td>7.178730</td>\n",
       "    </tr>\n",
       "  </tbody>\n",
       "</table>\n",
       "</div>"
      ],
      "text/plain": [
       "           height    leg_left   leg_right\n",
       "count  100.000000  100.000000  100.000000\n",
       "mean    10.244188    4.586804    4.589090\n",
       "std      1.971723    0.856999    0.857432\n",
       "min      6.569585    2.711091    2.734310\n",
       "25%      8.705090    3.959075    3.970327\n",
       "50%     10.478082    4.628943    4.644671\n",
       "75%     11.372977    5.143220    5.147640\n",
       "max     15.219750    7.189007    7.178730"
      ]
     },
     "execution_count": 10,
     "metadata": {},
     "output_type": "execute_result"
    }
   ],
   "source": [
    "_SEED = 909\n",
    "\n",
    "N = 100\n",
    "\n",
    "def generate_height_leg_data():\n",
    "    seed = tfp.util.SeedStream(_SEED, salt=\"leg_exp\")\n",
    "    height = tfd.Normal(loc=10., scale=2.).sample(N, seed=seed()).numpy()\n",
    "    leg_prop = tfd.Uniform(low=0.4, high=0.5).sample(N, seed=seed()).numpy()\n",
    "\n",
    "    # left & right leg as proportion + error\n",
    "    leg_left = leg_prop * height + tfd.Normal(loc=0, scale=0.02).sample(N, seed=seed()).numpy()\n",
    "\n",
    "    leg_right = leg_prop * height + tfd.Normal(loc=0, scale=0.02).sample(N, seed=seed()).numpy()\n",
    "\n",
    "    # build a dataframe using above\n",
    "    d = pd.DataFrame({\n",
    "        \"height\" : height,\n",
    "        \"leg_left\" : leg_left,\n",
    "        \"leg_right\" : leg_right\n",
    "    })\n",
    "\n",
    "    return d\n",
    "\n",
    "d = generate_height_leg_data()\n",
    "\n",
    "d.describe()"
   ]
  },
  {
   "cell_type": "markdown",
   "metadata": {},
   "source": [
    "##### Code 6.3 \n",
    "\n",
    "Very vague and bad priors are used in the model here so that we can be sure that priors are not responsible for what we are about to observe"
   ]
  },
  {
   "cell_type": "code",
   "execution_count": 11,
   "metadata": {},
   "outputs": [],
   "source": [
    "tdf = df_to_tensors('SimulatedHeight', d, ['leg_left', 'leg_right', 'height'])\n",
    "\n",
    "def model_6_1(leg_left_data, leg_right_data):\n",
    "    def _generator():\n",
    "      alpha = yield Root(tfd.Sample(tfd.Normal(loc=10., scale=100., name=\"alpha\"), sample_shape=1))\n",
    "      betaL = yield Root(tfd.Sample(tfd.Normal(loc=2., scale=10., name=\"betaL\"), sample_shape=1))\n",
    "      betaR = yield Root(tfd.Sample(tfd.Normal(loc=2., scale=10., name=\"betaR\"), sample_shape=1))\n",
    "      sigma = yield Root(tfd.Sample(tfd.Exponential(rate=1., name=\"sigma\"), sample_shape=1))\n",
    "\n",
    "      mu = tf.squeeze(\n",
    "          alpha[...,tf.newaxis] + \\\n",
    "          betaL[...,tf.newaxis] * leg_left_data + \\\n",
    "          betaR[...,tf.newaxis] * leg_right_data\n",
    "      )\n",
    "        \n",
    "      scale = sigma[...,tf.newaxis]\n",
    "        \n",
    "      height = yield tfd.Independent(\n",
    "                      tfd.Normal(loc=mu, scale=scale, name=\"height\"), \n",
    "                      reinterpreted_batch_ndims=1)\n",
    "\n",
    "    return tfd.JointDistributionCoroutine(_generator, validate_args=False)    \n",
    "    \n",
    "jdc_6_1 = model_6_1(tdf.leg_left, tdf.leg_right)"
   ]
  },
  {
   "cell_type": "code",
   "execution_count": 12,
   "metadata": {},
   "outputs": [
    {
     "data": {
      "text/html": [
       "<div>\n",
       "<style scoped>\n",
       "    .dataframe tbody tr th:only-of-type {\n",
       "        vertical-align: middle;\n",
       "    }\n",
       "\n",
       "    .dataframe tbody tr th {\n",
       "        vertical-align: top;\n",
       "    }\n",
       "\n",
       "    .dataframe thead th {\n",
       "        text-align: right;\n",
       "    }\n",
       "</style>\n",
       "<table border=\"1\" class=\"dataframe\">\n",
       "  <thead>\n",
       "    <tr style=\"text-align: right;\">\n",
       "      <th></th>\n",
       "      <th>mean</th>\n",
       "      <th>sd</th>\n",
       "      <th>hdi_5.5%</th>\n",
       "      <th>hdi_94.5%</th>\n",
       "      <th>mcse_mean</th>\n",
       "      <th>mcse_sd</th>\n",
       "      <th>ess_bulk</th>\n",
       "      <th>ess_tail</th>\n",
       "      <th>r_hat</th>\n",
       "    </tr>\n",
       "  </thead>\n",
       "  <tbody>\n",
       "    <tr>\n",
       "      <th>alpha</th>\n",
       "      <td>0.374</td>\n",
       "      <td>0.414</td>\n",
       "      <td>-0.236</td>\n",
       "      <td>1.057</td>\n",
       "      <td>0.088</td>\n",
       "      <td>0.063</td>\n",
       "      <td>22.0</td>\n",
       "      <td>57.0</td>\n",
       "      <td>1.09</td>\n",
       "    </tr>\n",
       "    <tr>\n",
       "      <th>betaL</th>\n",
       "      <td>0.860</td>\n",
       "      <td>1.584</td>\n",
       "      <td>-1.545</td>\n",
       "      <td>2.976</td>\n",
       "      <td>1.034</td>\n",
       "      <td>0.849</td>\n",
       "      <td>3.0</td>\n",
       "      <td>11.0</td>\n",
       "      <td>1.97</td>\n",
       "    </tr>\n",
       "    <tr>\n",
       "      <th>betaR</th>\n",
       "      <td>1.292</td>\n",
       "      <td>1.580</td>\n",
       "      <td>-0.735</td>\n",
       "      <td>3.714</td>\n",
       "      <td>1.031</td>\n",
       "      <td>0.845</td>\n",
       "      <td>3.0</td>\n",
       "      <td>11.0</td>\n",
       "      <td>1.94</td>\n",
       "    </tr>\n",
       "    <tr>\n",
       "      <th>sigma</th>\n",
       "      <td>0.662</td>\n",
       "      <td>0.049</td>\n",
       "      <td>0.584</td>\n",
       "      <td>0.739</td>\n",
       "      <td>0.002</td>\n",
       "      <td>0.001</td>\n",
       "      <td>897.0</td>\n",
       "      <td>1057.0</td>\n",
       "      <td>1.00</td>\n",
       "    </tr>\n",
       "  </tbody>\n",
       "</table>\n",
       "</div>"
      ],
      "text/plain": [
       "        mean     sd  hdi_5.5%  hdi_94.5%  mcse_mean  mcse_sd  ess_bulk  \\\n",
       "alpha  0.374  0.414    -0.236      1.057      0.088    0.063      22.0   \n",
       "betaL  0.860  1.584    -1.545      2.976      1.034    0.849       3.0   \n",
       "betaR  1.292  1.580    -0.735      3.714      1.031    0.845       3.0   \n",
       "sigma  0.662  0.049     0.584      0.739      0.002    0.001     897.0   \n",
       "\n",
       "       ess_tail  r_hat  \n",
       "alpha      57.0   1.09  \n",
       "betaL      11.0   1.97  \n",
       "betaR      11.0   1.94  \n",
       "sigma    1057.0   1.00  "
      ]
     },
     "execution_count": 12,
     "metadata": {},
     "output_type": "execute_result"
    }
   ],
   "source": [
    "NUM_CHAINS_FOR_6_1 = 2\n",
    "\n",
    "# Note - \n",
    "# I got somewhat ok looking results with this init values\n",
    "init_state = [\n",
    "    tf.ones([NUM_CHAINS_FOR_6_1]),\n",
    "    tf.ones([NUM_CHAINS_FOR_6_1]),\n",
    "    tf.ones([NUM_CHAINS_FOR_6_1]),\n",
    "    tf.ones([NUM_CHAINS_FOR_6_1])    \n",
    "]\n",
    "\n",
    "bijectors = [\n",
    "    tfb.Identity(),\n",
    "    tfb.Identity(),\n",
    "    tfb.Identity(),\n",
    "    tfb.Exp()\n",
    "]\n",
    "\n",
    "observed_data = (tdf.height, )\n",
    "\n",
    "posterior_6_1, trace_6_1 = sample_posterior(\n",
    "                                jdc_6_1, \n",
    "                                observed_data=observed_data, \n",
    "                                num_chains=NUM_CHAINS_FOR_6_1,\n",
    "                                init_state = init_state,\n",
    "                                bijectors = bijectors,\n",
    "                                num_samples=4000,\n",
    "                                burnin=500,\n",
    "                                params=['alpha', 'betaL', 'betaR', 'sigma'])\n",
    "\n",
    "az.summary(trace_6_1, hdi_prob=0.89)"
   ]
  },
  {
   "cell_type": "markdown",
   "metadata": {},
   "source": [
    "Notice betaL and betaR values. How can they be so different ? Afterall we know that the legs are more or less of same lenght so their effects should be both equal. This is confusing indeed !"
   ]
  },
  {
   "cell_type": "code",
   "execution_count": 13,
   "metadata": {},
   "outputs": [
    {
     "data": {
      "image/png": "[encoded data removed]",
      "text/plain": [
       "<Figure size 432x532.8 with 1 Axes>"
      ]
     },
     "metadata": {
      "image/png": {
       "height": 455,
       "width": 398
      },
      "needs_background": "light"
     },
     "output_type": "display_data"
    }
   ],
   "source": [
    "az.plot_forest(trace_6_1, hdi_prob=0.89, combined=True);"
   ]
  },
  {
   "cell_type": "markdown",
   "metadata": {},
   "source": [
    "##### Code 6.5 \n",
    "\n",
    "Looking at the bivariate posterior distribution for betaR & betaL.\n",
    "\n",
    "Since both variables contain identical information, the posterior is a narrow ridge of negatively correlated values."
   ]
  },
  {
   "cell_type": "code",
   "execution_count": 14,
   "metadata": {},
   "outputs": [
    {
     "data": {
      "image/png": "[encoded data removed]",
      "text/plain": [
       "<Figure size 504x216 with 1 Axes>"
      ]
     },
     "metadata": {
      "image/png": {
       "height": 207,
       "width": 440
      },
      "needs_background": "light"
     },
     "output_type": "display_data"
    }
   ],
   "source": [
    "fig, ax = plt.subplots(1, 1, figsize=[7, 3])\n",
    "\n",
    "plt.scatter(posterior_6_1['betaR'], posterior_6_1['betaL'], alpha=0.05, s=20)\n",
    "ax.set_xlabel(\"br\")\n",
    "ax.set_ylabel(\"bl\");"
   ]
  },
  {
   "cell_type": "markdown",
   "metadata": {},
   "source": [
    "##### Code 6.6 \n",
    "\n",
    "Below plot shows that the posterior distribution of sum of the two parameters is centered on the proper association of either leg with height"
   ]
  },
  {
   "cell_type": "code",
   "execution_count": 16,
   "metadata": {},
   "outputs": [
    {
     "data": {
      "image/png": "[encoded data removed]",
      "text/plain": [
       "<Figure size 432x288 with 1 Axes>"
      ]
     },
     "metadata": {
      "image/png": {
       "height": 252,
       "width": 365
      },
      "needs_background": "light"
     },
     "output_type": "display_data"
    }
   ],
   "source": [
    "sum_blbr = posterior_6_1[\"betaL\"] + posterior_6_1[\"betaR\"]\n",
    "az.plot_kde(sum_blbr.numpy(), label=\"sum of bl and br\");"
   ]
  },
  {
   "cell_type": "markdown",
   "metadata": {},
   "source": [
    "##### Code 6.7\n",
    "\n",
    "We will now do the regression using only one leg and the posterior mean will be approximately the same.\n",
    "\n",
    "Building the model using only left leg."
   ]
  },
  {
   "cell_type": "code",
   "execution_count": 17,
   "metadata": {},
   "outputs": [],
   "source": [
    "def model_6_2(leg_left_data):\n",
    "    def _generator():\n",
    "      alpha = yield Root(tfd.Sample(tfd.Normal(loc=10., scale=100., name=\"alpha\"), sample_shape=1))\n",
    "      betaL = yield Root(tfd.Sample(tfd.Normal(loc=2., scale=10., name=\"betaL\"), sample_shape=1))\n",
    "      sigma = yield Root(tfd.Sample(tfd.Exponential(rate=1., name=\"sigma\"), sample_shape=1))\n",
    "\n",
    "      mu = tf.squeeze(\n",
    "          alpha[...,tf.newaxis] + \\\n",
    "          betaL[...,tf.newaxis] * leg_left_data\n",
    "      )\n",
    "        \n",
    "      scale = sigma[...,tf.newaxis]\n",
    "        \n",
    "      height = yield tfd.Independent(\n",
    "                      tfd.Normal(loc=mu, scale=scale, name=\"height\"), \n",
    "                      reinterpreted_batch_ndims=1)\n",
    "\n",
    "    return tfd.JointDistributionCoroutine(_generator, validate_args=False)    \n",
    "    \n",
    "jdc_6_2 = model_6_2(tdf.leg_left)"
   ]
  },
  {
   "cell_type": "code",
   "execution_count": 18,
   "metadata": {},
   "outputs": [
    {
     "data": {
      "text/html": [
       "<div>\n",
       "<style scoped>\n",
       "    .dataframe tbody tr th:only-of-type {\n",
       "        vertical-align: middle;\n",
       "    }\n",
       "\n",
       "    .dataframe tbody tr th {\n",
       "        vertical-align: top;\n",
       "    }\n",
       "\n",
       "    .dataframe thead th {\n",
       "        text-align: right;\n",
       "    }\n",
       "</style>\n",
       "<table border=\"1\" class=\"dataframe\">\n",
       "  <thead>\n",
       "    <tr style=\"text-align: right;\">\n",
       "      <th></th>\n",
       "      <th>mean</th>\n",
       "      <th>sd</th>\n",
       "      <th>hdi_5.5%</th>\n",
       "      <th>hdi_94.5%</th>\n",
       "      <th>mcse_mean</th>\n",
       "      <th>mcse_sd</th>\n",
       "      <th>ess_bulk</th>\n",
       "      <th>ess_tail</th>\n",
       "      <th>r_hat</th>\n",
       "    </tr>\n",
       "  </thead>\n",
       "  <tbody>\n",
       "    <tr>\n",
       "      <th>alpha</th>\n",
       "      <td>0.280</td>\n",
       "      <td>0.397</td>\n",
       "      <td>-0.410</td>\n",
       "      <td>0.873</td>\n",
       "      <td>0.040</td>\n",
       "      <td>0.029</td>\n",
       "      <td>97.0</td>\n",
       "      <td>207.0</td>\n",
       "      <td>1.0</td>\n",
       "    </tr>\n",
       "    <tr>\n",
       "      <th>betaL</th>\n",
       "      <td>2.172</td>\n",
       "      <td>0.086</td>\n",
       "      <td>2.034</td>\n",
       "      <td>2.308</td>\n",
       "      <td>0.009</td>\n",
       "      <td>0.006</td>\n",
       "      <td>98.0</td>\n",
       "      <td>196.0</td>\n",
       "      <td>1.0</td>\n",
       "    </tr>\n",
       "    <tr>\n",
       "      <th>sigma</th>\n",
       "      <td>0.663</td>\n",
       "      <td>0.047</td>\n",
       "      <td>0.587</td>\n",
       "      <td>0.733</td>\n",
       "      <td>0.001</td>\n",
       "      <td>0.001</td>\n",
       "      <td>2357.0</td>\n",
       "      <td>2052.0</td>\n",
       "      <td>1.0</td>\n",
       "    </tr>\n",
       "  </tbody>\n",
       "</table>\n",
       "</div>"
      ],
      "text/plain": [
       "        mean     sd  hdi_5.5%  hdi_94.5%  mcse_mean  mcse_sd  ess_bulk  \\\n",
       "alpha  0.280  0.397    -0.410      0.873      0.040    0.029      97.0   \n",
       "betaL  2.172  0.086     2.034      2.308      0.009    0.006      98.0   \n",
       "sigma  0.663  0.047     0.587      0.733      0.001    0.001    2357.0   \n",
       "\n",
       "       ess_tail  r_hat  \n",
       "alpha     207.0    1.0  \n",
       "betaL     196.0    1.0  \n",
       "sigma    2052.0    1.0  "
      ]
     },
     "execution_count": 18,
     "metadata": {},
     "output_type": "execute_result"
    }
   ],
   "source": [
    "NUM_CHAINS_FOR_6_2 = 2\n",
    "\n",
    "# Note - \n",
    "# I got somewhat ok looking results with this init values\n",
    "init_state = [\n",
    "    tf.ones([NUM_CHAINS_FOR_6_2]),\n",
    "    tf.ones([NUM_CHAINS_FOR_6_2]),\n",
    "    tf.ones([NUM_CHAINS_FOR_6_1])    \n",
    "]\n",
    "\n",
    "bijectors = [\n",
    "    tfb.Identity(),\n",
    "    tfb.Identity(),\n",
    "    tfb.Exp()\n",
    "]\n",
    "\n",
    "observed_data = (tdf.height, )\n",
    "\n",
    "posterior_6_2, trace_6_2 = sample_posterior(\n",
    "                                jdc_6_2, \n",
    "                                observed_data=observed_data, \n",
    "                                num_chains=NUM_CHAINS_FOR_6_2,\n",
    "                                init_state = init_state,\n",
    "                                bijectors = bijectors,\n",
    "                                num_samples=4000,\n",
    "                                burnin=500,\n",
    "                                params=['alpha', 'betaL','sigma'])\n",
    "\n",
    "az.summary(trace_6_2, hdi_prob=0.89)"
   ]
  },
  {
   "cell_type": "markdown",
   "metadata": {},
   "source": [
    "The value of `betaL` is now identical to `sum of betaL & betaL` (see the chart from Code 6.6) from previous models"
   ]
  },
  {
   "cell_type": "markdown",
   "metadata": {},
   "source": [
    "### 6.1.2 Multicollinear milk\n",
    "\n",
    "In real datasets, it may be difficult to identify the highly correlated predictors. This has the consequence of coming to a conclusion that none of the predictor is significant.\n",
    "\n",
    "Here the primate milk dataset is used as another example for multicollinearity challenge."
   ]
  },
  {
   "cell_type": "markdown",
   "metadata": {},
   "source": [
    "##### Code 6.8\n",
    "\n",
    "Loading the dataset and creating new standardized (centered) columns"
   ]
  },
  {
   "cell_type": "code",
   "execution_count": 19,
   "metadata": {},
   "outputs": [],
   "source": [
    "d = pd.read_csv(MILK_DATASET_PATH, sep=\";\")\n",
    "\n",
    "d[\"K\"] = d[\"kcal.per.g\"].pipe(lambda x: (x - x.mean()) / x.std())\n",
    "d[\"F\"] = d[\"perc.fat\"].pipe(lambda x: (x - x.mean()) / x.std())\n",
    "d[\"L\"] = d[\"perc.lactose\"].pipe(lambda x: (x - x.mean()) / x.std())"
   ]
  },
  {
   "cell_type": "code",
   "execution_count": 20,
   "metadata": {},
   "outputs": [],
   "source": [
    "tdf = df_to_tensors(\"Milk\", d, ['K', 'F', 'L'])"
   ]
  },
  {
   "cell_type": "markdown",
   "metadata": {},
   "source": [
    "##### Code 6.9\n",
    "\n",
    "We are building 2 models here.\n",
    "\n",
    "* KCal regressed on perc.fat\n",
    "* KCal regressed on perc.lactose"
   ]
  },
  {
   "cell_type": "code",
   "execution_count": 21,
   "metadata": {},
   "outputs": [],
   "source": [
    "# KCal is regressed on perc.fat\n",
    "\n",
    "\n",
    "\n",
    "def model_6_3(per_fat):\n",
    "    def _generator():\n",
    "      alpha = yield Root(tfd.Sample(tfd.Normal(loc=0., scale=0.2, name=\"alpha\"), sample_shape=1))\n",
    "      betaF = yield Root(tfd.Sample(tfd.Normal(loc=0., scale=0.5, name=\"betaF\"), sample_shape=1))      \n",
    "      sigma = yield Root(tfd.Sample(tfd.Exponential(rate=1., name=\"sigma\"), sample_shape=1))    \n",
    "\n",
    "      mu =  alpha[...,tf.newaxis] + betaF[...,tf.newaxis] * tf.transpose(per_fat[...,tf.newaxis])\n",
    "      scale = sigma[..., tf.newaxis]  \n",
    "        \n",
    "      K = yield tfd.Independent(tfd.Normal(loc=mu, scale=scale, name=\"K\"), reinterpreted_batch_ndims=1)\n",
    "\n",
    "    return tfd.JointDistributionCoroutine(_generator, validate_args=False)    \n",
    "    \n",
    "jdc_6_3 = model_6_3(tdf.F)"
   ]
  },
  {
   "cell_type": "code",
   "execution_count": 22,
   "metadata": {},
   "outputs": [],
   "source": [
    "NUM_CHAINS_FOR_6_3 = 2\n",
    "\n",
    "init_state = [\n",
    "    tf.zeros([NUM_CHAINS_FOR_6_3]),\n",
    "    tf.zeros([NUM_CHAINS_FOR_6_3]),\n",
    "    tf.ones([NUM_CHAINS_FOR_6_3]),    \n",
    "]\n",
    "\n",
    "bijectors = [\n",
    "    tfb.Identity(),\n",
    "    tfb.Identity(),    \n",
    "    tfb.Exp()\n",
    "]\n",
    "\n",
    "posterior_6_3, trace_6_3 = sample_posterior(\n",
    "                            jdc_6_3, \n",
    "                            observed_data=(tdf.K,),\n",
    "                            init_state = init_state,\n",
    "                            bijectors = bijectors,\n",
    "                            params=['alpha', 'betaF', 'sigma'])"
   ]
  },
  {
   "cell_type": "code",
   "execution_count": 23,
   "metadata": {},
   "outputs": [],
   "source": [
    "# KCal is regressed on perc.lactose\n",
    "\n",
    "def model_6_4(per_lac):\n",
    "    def _generator():\n",
    "      alpha = yield Root(tfd.Sample(tfd.Normal(loc=0., scale=0.2, name=\"alpha\"), sample_shape=1))\n",
    "      betaL = yield Root(tfd.Sample(tfd.Normal(loc=0., scale=0.5, name=\"betaL\"), sample_shape=1))      \n",
    "      sigma = yield Root(tfd.Sample(tfd.Exponential(rate=1., name=\"sigma\"), sample_shape=1))\n",
    "    \n",
    "      mu =  alpha[...,tf.newaxis] + betaL[...,tf.newaxis] * tf.transpose(per_lac[...,tf.newaxis])\n",
    "      scale = sigma[..., tf.newaxis]  \n",
    "        \n",
    "      K = yield tfd.Independent(tfd.Normal(loc=mu, scale=scale, name=\"K\"), reinterpreted_batch_ndims=1)\n",
    "\n",
    "    return tfd.JointDistributionCoroutine(_generator, validate_args=False)    \n",
    "    \n",
    "jdc_6_4 = model_6_4(tdf.L)"
   ]
  },
  {
   "cell_type": "code",
   "execution_count": 24,
   "metadata": {},
   "outputs": [],
   "source": [
    "NUM_CHAINS_FOR_6_4 = 2\n",
    "\n",
    "init_state = [\n",
    "    tf.zeros([NUM_CHAINS_FOR_6_4]),\n",
    "    tf.zeros([NUM_CHAINS_FOR_6_4]),\n",
    "    tf.ones([NUM_CHAINS_FOR_6_4]),    \n",
    "]\n",
    "\n",
    "bijectors = [\n",
    "    tfb.Identity(),\n",
    "    tfb.Identity(),    \n",
    "    tfb.Exp()\n",
    "]\n",
    "\n",
    "posterior_6_4, trace_6_4 = sample_posterior(\n",
    "                                jdc_6_4, \n",
    "                                observed_data=(tdf.K,),\n",
    "                                init_state = init_state,\n",
    "                                bijectors = bijectors,\n",
    "                                params=['alpha', 'betaL', 'sigma'])"
   ]
  },
  {
   "cell_type": "code",
   "execution_count": 25,
   "metadata": {},
   "outputs": [
    {
     "data": {
      "text/html": [
       "<div>\n",
       "<style scoped>\n",
       "    .dataframe tbody tr th:only-of-type {\n",
       "        vertical-align: middle;\n",
       "    }\n",
       "\n",
       "    .dataframe tbody tr th {\n",
       "        vertical-align: top;\n",
       "    }\n",
       "\n",
       "    .dataframe thead th {\n",
       "        text-align: right;\n",
       "    }\n",
       "</style>\n",
       "<table border=\"1\" class=\"dataframe\">\n",
       "  <thead>\n",
       "    <tr style=\"text-align: right;\">\n",
       "      <th></th>\n",
       "      <th>mean</th>\n",
       "      <th>sd</th>\n",
       "      <th>hdi_5.5%</th>\n",
       "      <th>hdi_94.5%</th>\n",
       "      <th>mcse_mean</th>\n",
       "      <th>mcse_sd</th>\n",
       "      <th>ess_bulk</th>\n",
       "      <th>ess_tail</th>\n",
       "      <th>r_hat</th>\n",
       "    </tr>\n",
       "  </thead>\n",
       "  <tbody>\n",
       "    <tr>\n",
       "      <th>alpha</th>\n",
       "      <td>0.007</td>\n",
       "      <td>0.085</td>\n",
       "      <td>-0.122</td>\n",
       "      <td>0.149</td>\n",
       "      <td>0.006</td>\n",
       "      <td>0.004</td>\n",
       "      <td>189.0</td>\n",
       "      <td>246.0</td>\n",
       "      <td>1.01</td>\n",
       "    </tr>\n",
       "    <tr>\n",
       "      <th>betaF</th>\n",
       "      <td>0.872</td>\n",
       "      <td>0.084</td>\n",
       "      <td>0.752</td>\n",
       "      <td>1.009</td>\n",
       "      <td>0.007</td>\n",
       "      <td>0.005</td>\n",
       "      <td>132.0</td>\n",
       "      <td>194.0</td>\n",
       "      <td>1.03</td>\n",
       "    </tr>\n",
       "    <tr>\n",
       "      <th>sigma</th>\n",
       "      <td>0.488</td>\n",
       "      <td>0.064</td>\n",
       "      <td>0.389</td>\n",
       "      <td>0.566</td>\n",
       "      <td>0.004</td>\n",
       "      <td>0.003</td>\n",
       "      <td>312.0</td>\n",
       "      <td>156.0</td>\n",
       "      <td>1.01</td>\n",
       "    </tr>\n",
       "  </tbody>\n",
       "</table>\n",
       "</div>"
      ],
      "text/plain": [
       "        mean     sd  hdi_5.5%  hdi_94.5%  mcse_mean  mcse_sd  ess_bulk  \\\n",
       "alpha  0.007  0.085    -0.122      0.149      0.006    0.004     189.0   \n",
       "betaF  0.872  0.084     0.752      1.009      0.007    0.005     132.0   \n",
       "sigma  0.488  0.064     0.389      0.566      0.004    0.003     312.0   \n",
       "\n",
       "       ess_tail  r_hat  \n",
       "alpha     246.0   1.01  \n",
       "betaF     194.0   1.03  \n",
       "sigma     156.0   1.01  "
      ]
     },
     "execution_count": 25,
     "metadata": {},
     "output_type": "execute_result"
    }
   ],
   "source": [
    "az.summary(trace_6_3, hdi_prob=0.89)"
   ]
  },
  {
   "cell_type": "code",
   "execution_count": 26,
   "metadata": {},
   "outputs": [
    {
     "data": {
      "text/html": [
       "<div>\n",
       "<style scoped>\n",
       "    .dataframe tbody tr th:only-of-type {\n",
       "        vertical-align: middle;\n",
       "    }\n",
       "\n",
       "    .dataframe tbody tr th {\n",
       "        vertical-align: top;\n",
       "    }\n",
       "\n",
       "    .dataframe thead th {\n",
       "        text-align: right;\n",
       "    }\n",
       "</style>\n",
       "<table border=\"1\" class=\"dataframe\">\n",
       "  <thead>\n",
       "    <tr style=\"text-align: right;\">\n",
       "      <th></th>\n",
       "      <th>mean</th>\n",
       "      <th>sd</th>\n",
       "      <th>hdi_5.5%</th>\n",
       "      <th>hdi_94.5%</th>\n",
       "      <th>mcse_mean</th>\n",
       "      <th>mcse_sd</th>\n",
       "      <th>ess_bulk</th>\n",
       "      <th>ess_tail</th>\n",
       "      <th>r_hat</th>\n",
       "    </tr>\n",
       "  </thead>\n",
       "  <tbody>\n",
       "    <tr>\n",
       "      <th>alpha</th>\n",
       "      <td>-0.012</td>\n",
       "      <td>0.073</td>\n",
       "      <td>-0.136</td>\n",
       "      <td>0.101</td>\n",
       "      <td>0.005</td>\n",
       "      <td>0.004</td>\n",
       "      <td>195.0</td>\n",
       "      <td>224.0</td>\n",
       "      <td>1.02</td>\n",
       "    </tr>\n",
       "    <tr>\n",
       "      <th>betaL</th>\n",
       "      <td>-0.882</td>\n",
       "      <td>0.082</td>\n",
       "      <td>-1.004</td>\n",
       "      <td>-0.751</td>\n",
       "      <td>0.008</td>\n",
       "      <td>0.006</td>\n",
       "      <td>108.0</td>\n",
       "      <td>184.0</td>\n",
       "      <td>1.02</td>\n",
       "    </tr>\n",
       "    <tr>\n",
       "      <th>sigma</th>\n",
       "      <td>0.416</td>\n",
       "      <td>0.067</td>\n",
       "      <td>0.306</td>\n",
       "      <td>0.504</td>\n",
       "      <td>0.003</td>\n",
       "      <td>0.002</td>\n",
       "      <td>518.0</td>\n",
       "      <td>167.0</td>\n",
       "      <td>1.01</td>\n",
       "    </tr>\n",
       "  </tbody>\n",
       "</table>\n",
       "</div>"
      ],
      "text/plain": [
       "        mean     sd  hdi_5.5%  hdi_94.5%  mcse_mean  mcse_sd  ess_bulk  \\\n",
       "alpha -0.012  0.073    -0.136      0.101      0.005    0.004     195.0   \n",
       "betaL -0.882  0.082    -1.004     -0.751      0.008    0.006     108.0   \n",
       "sigma  0.416  0.067     0.306      0.504      0.003    0.002     518.0   \n",
       "\n",
       "       ess_tail  r_hat  \n",
       "alpha     224.0   1.02  \n",
       "betaL     184.0   1.02  \n",
       "sigma     167.0   1.01  "
      ]
     },
     "execution_count": 26,
     "metadata": {},
     "output_type": "execute_result"
    }
   ],
   "source": [
    "az.summary(trace_6_4, hdi_prob=0.89)"
   ]
  },
  {
   "cell_type": "markdown",
   "metadata": {},
   "source": [
    "Posterior for betaF & betaL are mirror images of each other.\n",
    "\n",
    "This seems to imply that both predictors have strong association with the outcome. Notice the `sd` of both the predictors; they are quite low.\n",
    "\n",
    "In next section we will see what happens when we combine both of them in the regression model"
   ]
  },
  {
   "cell_type": "markdown",
   "metadata": {},
   "source": [
    "##### Code 6.10\n",
    "\n",
    "We build a model where we include both of the predictors (per_fat & per_lac)"
   ]
  },
  {
   "cell_type": "code",
   "execution_count": 27,
   "metadata": {},
   "outputs": [],
   "source": [
    "def model_6_5(per_fat, per_lac):\n",
    "    def _generator():\n",
    "      alpha = yield Root(tfd.Sample(tfd.Normal(loc=0., scale=0.2, name=\"alpha\"), sample_shape=1))\n",
    "      betaF = yield Root(tfd.Sample(tfd.Normal(loc=0., scale=0.5, name=\"betaF\"), sample_shape=1))      \n",
    "      betaL = yield Root(tfd.Sample(tfd.Normal(loc=0., scale=0.5, name=\"betaL\"), sample_shape=1))      \n",
    "      sigma = yield Root(tfd.Sample(tfd.Exponential(rate=1., name=\"sigma\"), sample_shape=1))\n",
    "    \n",
    "      mu =  alpha[...,tf.newaxis] + \\\n",
    "                    betaF[...,tf.newaxis] * tf.transpose(per_fat[...,tf.newaxis]) + \\\n",
    "                    betaL[...,tf.newaxis] * tf.transpose(per_lac[...,tf.newaxis])\n",
    "    \n",
    "      scale = sigma[..., tf.newaxis]  \n",
    "        \n",
    "      K = yield tfd.Independent(tfd.Normal(loc=mu, scale=scale, name=\"K\"), reinterpreted_batch_ndims=1)\n",
    "\n",
    "    return tfd.JointDistributionCoroutine(_generator, validate_args=False)    \n",
    "    \n",
    "jdc_6_5 = model_6_5(tdf.F, tdf.L)"
   ]
  },
  {
   "cell_type": "code",
   "execution_count": 28,
   "metadata": {},
   "outputs": [
    {
     "name": "stdout",
     "output_type": "stream",
     "text": [
      "WARNING:tensorflow:5 out of the last 5 calls to <function run_hmc_chain at 0x14d2eac20> triggered tf.function retracing. Tracing is expensive and the excessive number of tracings could be due to (1) creating @tf.function repeatedly in a loop, (2) passing tensors with different shapes, (3) passing Python objects instead of tensors. For (1), please define your @tf.function outside of the loop. For (2), @tf.function has experimental_relax_shapes=True option that relaxes argument shapes that can avoid unnecessary retracing. For (3), please refer to https://www.tensorflow.org/guide/function#controlling_retracing and https://www.tensorflow.org/api_docs/python/tf/function for  more details.\n"
     ]
    },
    {
     "data": {
      "text/html": [
       "<div>\n",
       "<style scoped>\n",
       "    .dataframe tbody tr th:only-of-type {\n",
       "        vertical-align: middle;\n",
       "    }\n",
       "\n",
       "    .dataframe tbody tr th {\n",
       "        vertical-align: top;\n",
       "    }\n",
       "\n",
       "    .dataframe thead th {\n",
       "        text-align: right;\n",
       "    }\n",
       "</style>\n",
       "<table border=\"1\" class=\"dataframe\">\n",
       "  <thead>\n",
       "    <tr style=\"text-align: right;\">\n",
       "      <th></th>\n",
       "      <th>mean</th>\n",
       "      <th>sd</th>\n",
       "      <th>hdi_5.5%</th>\n",
       "      <th>hdi_94.5%</th>\n",
       "      <th>mcse_mean</th>\n",
       "      <th>mcse_sd</th>\n",
       "      <th>ess_bulk</th>\n",
       "      <th>ess_tail</th>\n",
       "      <th>r_hat</th>\n",
       "    </tr>\n",
       "  </thead>\n",
       "  <tbody>\n",
       "    <tr>\n",
       "      <th>alpha</th>\n",
       "      <td>0.002</td>\n",
       "      <td>0.068</td>\n",
       "      <td>-0.106</td>\n",
       "      <td>0.104</td>\n",
       "      <td>0.003</td>\n",
       "      <td>0.002</td>\n",
       "      <td>374.0</td>\n",
       "      <td>460.0</td>\n",
       "      <td>1.00</td>\n",
       "    </tr>\n",
       "    <tr>\n",
       "      <th>betaF</th>\n",
       "      <td>0.246</td>\n",
       "      <td>0.187</td>\n",
       "      <td>-0.046</td>\n",
       "      <td>0.515</td>\n",
       "      <td>0.013</td>\n",
       "      <td>0.009</td>\n",
       "      <td>225.0</td>\n",
       "      <td>179.0</td>\n",
       "      <td>1.01</td>\n",
       "    </tr>\n",
       "    <tr>\n",
       "      <th>betaL</th>\n",
       "      <td>-0.674</td>\n",
       "      <td>0.181</td>\n",
       "      <td>-0.937</td>\n",
       "      <td>-0.395</td>\n",
       "      <td>0.013</td>\n",
       "      <td>0.010</td>\n",
       "      <td>203.0</td>\n",
       "      <td>181.0</td>\n",
       "      <td>1.01</td>\n",
       "    </tr>\n",
       "    <tr>\n",
       "      <th>sigma</th>\n",
       "      <td>0.414</td>\n",
       "      <td>0.059</td>\n",
       "      <td>0.325</td>\n",
       "      <td>0.495</td>\n",
       "      <td>0.002</td>\n",
       "      <td>0.002</td>\n",
       "      <td>903.0</td>\n",
       "      <td>373.0</td>\n",
       "      <td>1.00</td>\n",
       "    </tr>\n",
       "  </tbody>\n",
       "</table>\n",
       "</div>"
      ],
      "text/plain": [
       "        mean     sd  hdi_5.5%  hdi_94.5%  mcse_mean  mcse_sd  ess_bulk  \\\n",
       "alpha  0.002  0.068    -0.106      0.104      0.003    0.002     374.0   \n",
       "betaF  0.246  0.187    -0.046      0.515      0.013    0.009     225.0   \n",
       "betaL -0.674  0.181    -0.937     -0.395      0.013    0.010     203.0   \n",
       "sigma  0.414  0.059     0.325      0.495      0.002    0.002     903.0   \n",
       "\n",
       "       ess_tail  r_hat  \n",
       "alpha     460.0   1.00  \n",
       "betaF     179.0   1.01  \n",
       "betaL     181.0   1.01  \n",
       "sigma     373.0   1.00  "
      ]
     },
     "execution_count": 28,
     "metadata": {},
     "output_type": "execute_result"
    }
   ],
   "source": [
    "NUM_CHAINS_FOR_6_5 = 2\n",
    "\n",
    "init_state = [\n",
    "    tf.zeros([NUM_CHAINS_FOR_6_5]),\n",
    "    tf.zeros([NUM_CHAINS_FOR_6_5]),\n",
    "    tf.zeros([NUM_CHAINS_FOR_6_5]),\n",
    "    tf.ones([NUM_CHAINS_FOR_6_5])    \n",
    "]\n",
    "\n",
    "bijectors = [\n",
    "    tfb.Identity(),\n",
    "    tfb.Identity(),\n",
    "    tfb.Identity(),\n",
    "    tfb.Exp()\n",
    "]\n",
    "\n",
    "posterior_6_5, trace_6_5 = sample_posterior(\n",
    "                    jdc_6_5, \n",
    "                    observed_data=(tdf.K,), \n",
    "                    num_chains=NUM_CHAINS_FOR_6_5,\n",
    "                    init_state=init_state,\n",
    "                    bijectors=bijectors,\n",
    "                    params=['alpha', 'betaF', 'betaL', 'sigma'])\n",
    "\n",
    "az.summary(trace_6_5, hdi_prob=0.89)"
   ]
  },
  {
   "cell_type": "markdown",
   "metadata": {},
   "source": [
    "Notice how the standard deviations of the posterior for betaF & betaL has jumped up significantly.\n",
    "\n",
    "per_fat & per_lac both contain much of the same information and can be substitued for each other. Therefore, the model has not choice but to describe a long ridge of combination of betaF & betaL that are equally plaussible."
   ]
  },
  {
   "cell_type": "markdown",
   "metadata": {},
   "source": [
    "##### Code 6.11\n",
    "\n",
    "We plot again like in the legs example to visualize the relationship"
   ]
  },
  {
   "cell_type": "code",
   "execution_count": 29,
   "metadata": {},
   "outputs": [
    {
     "data": {
      "image/png": "[encoded data removed]",
      "text/plain": [
       "<Figure size 993.6x662.4 with 3 Axes>"
      ]
     },
     "metadata": {
      "image/png": {
       "height": 554,
       "width": 827
      },
      "needs_background": "light"
     },
     "output_type": "display_data"
    }
   ],
   "source": [
    "az.plot_pair(d[[\"kcal.per.g\", \"perc.fat\", \"perc.lactose\"]].to_dict(\"list\"));"
   ]
  },
  {
   "cell_type": "markdown",
   "metadata": {},
   "source": [
    "* perc.fat is positively related to outcome\n",
    "\n",
    "* perc.lac is negatively related to outcome\n",
    "\n",
    "* perc.fat & perc.lac are negatively coorelated to each other\n",
    "\n",
    "Either of them helps in predicting KCal but neither helps much once we already know the other."
   ]
  },
  {
   "cell_type": "markdown",
   "metadata": {},
   "source": [
    "### Overthinking : Simulating collinearity\n",
    "\n",
    "Simulating collinearity using Milk dataset"
   ]
  },
  {
   "cell_type": "markdown",
   "metadata": {},
   "source": [
    "##### Code 6.12\n",
    "\n"
   ]
  },
  {
   "cell_type": "code",
   "execution_count": 30,
   "metadata": {},
   "outputs": [
    {
     "data": {
      "image/png": "[encoded data removed]",
      "text/plain": [
       "<Figure size 432x288 with 1 Axes>"
      ]
     },
     "metadata": {
      "image/png": {
       "height": 266,
       "width": 403
      },
      "needs_background": "light"
     },
     "output_type": "display_data"
    }
   ],
   "source": [
    "d = pd.read_csv(MILK_DATASET_PATH, sep=\";\")\n",
    "\n",
    "def simcoll(r = 0.9):\n",
    "    \n",
    "    mean = r * d[\"perc.fat\"].values\n",
    "    sd = np.sqrt((1 - r ** 2) * np.var(d[\"perc.fat\"].values))\n",
    "    \n",
    "    x = tfd.Normal(loc=mean, scale=sd).sample()\n",
    "    \n",
    "    X = np.column_stack((d['perc.fat'], x))\n",
    "    m = linear_model.OLS(d['kcal.per.g'], X).fit()\n",
    "    cov = m.cov_params()\n",
    "    return (np.diag(cov)[1])**0.5\n",
    "    \n",
    "def repsimcoll(r= 0.9, N = 100):\n",
    "    stddev = [simcoll(r) for _ in range(N)]\n",
    "    return np.mean(stddev)\n",
    "\n",
    "lista = []\n",
    "for i in np.arange(start = 0, stop = 0.99, step = 0.01):   \n",
    "    lista.append(repsimcoll (r= i, N = 100))\n",
    "\n",
    "plt.plot(np.arange(start = 0, stop = 0.99, step = 0.01), lista)\n",
    "plt.xlabel('correlation', fontsize=14)\n",
    "plt.ylabel('stddev', fontsize=14);"
   ]
  },
  {
   "cell_type": "markdown",
   "metadata": {},
   "source": [
    "## 6.2 Post-treatment bias\n",
    "\n",
    "**Omitted Variable bias** - Problems that arise because of **not** including predictior variables\n",
    "\n",
    "**Post-treatment bias** - Problems that arise becuase of including **improper** predictor variables"
   ]
  },
  {
   "cell_type": "markdown",
   "metadata": {},
   "source": [
    "##### Code 6.13\n",
    "\n",
    "Simulate data to see what goes wrong when we include a **post-treatment** variable"
   ]
  },
  {
   "cell_type": "code",
   "execution_count": 31,
   "metadata": {},
   "outputs": [
    {
     "data": {
      "text/html": [
       "<div>\n",
       "<style scoped>\n",
       "    .dataframe tbody tr th:only-of-type {\n",
       "        vertical-align: middle;\n",
       "    }\n",
       "\n",
       "    .dataframe tbody tr th {\n",
       "        vertical-align: top;\n",
       "    }\n",
       "\n",
       "    .dataframe thead th {\n",
       "        text-align: right;\n",
       "    }\n",
       "</style>\n",
       "<table border=\"1\" class=\"dataframe\">\n",
       "  <thead>\n",
       "    <tr style=\"text-align: right;\">\n",
       "      <th></th>\n",
       "      <th>mean</th>\n",
       "      <th>sd</th>\n",
       "      <th>hdi_5.5%</th>\n",
       "      <th>hdi_94.5%</th>\n",
       "    </tr>\n",
       "  </thead>\n",
       "  <tbody>\n",
       "    <tr>\n",
       "      <th>h0</th>\n",
       "      <td>9.894</td>\n",
       "      <td>2.143</td>\n",
       "      <td>6.421</td>\n",
       "      <td>12.93</td>\n",
       "    </tr>\n",
       "    <tr>\n",
       "      <th>h1</th>\n",
       "      <td>13.609</td>\n",
       "      <td>2.696</td>\n",
       "      <td>8.782</td>\n",
       "      <td>17.34</td>\n",
       "    </tr>\n",
       "    <tr>\n",
       "      <th>treatment</th>\n",
       "      <td>0.500</td>\n",
       "      <td>0.503</td>\n",
       "      <td>0.000</td>\n",
       "      <td>1.00</td>\n",
       "    </tr>\n",
       "    <tr>\n",
       "      <th>fungus</th>\n",
       "      <td>0.350</td>\n",
       "      <td>0.479</td>\n",
       "      <td>0.000</td>\n",
       "      <td>1.00</td>\n",
       "    </tr>\n",
       "  </tbody>\n",
       "</table>\n",
       "</div>"
      ],
      "text/plain": [
       "             mean     sd  hdi_5.5%  hdi_94.5%\n",
       "h0          9.894  2.143     6.421      12.93\n",
       "h1         13.609  2.696     8.782      17.34\n",
       "treatment   0.500  0.503     0.000       1.00\n",
       "fungus      0.350  0.479     0.000       1.00"
      ]
     },
     "execution_count": 31,
     "metadata": {},
     "output_type": "execute_result"
    }
   ],
   "source": [
    "_SEED = 71\n",
    "\n",
    "# Note - even after providing SeedStream and generated seeds\n",
    "# it still does not respect it\n",
    "def simulate():\n",
    "    seed = tfp.util.SeedStream(_SEED, salt=\"sim_heights\")\n",
    "\n",
    "    # number of plants\n",
    "    N = 100\n",
    "\n",
    "    # simulate initial heights\n",
    "    h0 = tfd.Normal(loc=10., scale=2.).sample(N, seed=seed())\n",
    "\n",
    "    # assign treatments and simulate fungus and growth\n",
    "    treatment = tf.repeat([0., 1.], repeats=N // 2)\n",
    "    \n",
    "    fungus = tfd.Binomial(total_count=1., probs=(0.5 - treatment * 0.4)).sample(seed=seed())\n",
    "    \n",
    "    h1 = h0 + tfd.Normal(loc=5. - 3. * fungus, scale=1.).sample(seed=seed())\n",
    "\n",
    "    # compose a clean data frame\n",
    "    d = {\"h0\":h0, \"h1\":h1, \"treatment\":treatment, \"fungus\":fungus}\n",
    "    \n",
    "    return d\n",
    "    \n",
    "d_dict = simulate()\n",
    "\n",
    "az.summary(d_dict, kind=\"stats\", hdi_prob=0.89)"
   ]
  },
  {
   "cell_type": "code",
   "execution_count": 32,
   "metadata": {},
   "outputs": [],
   "source": [
    "d = pd.DataFrame.from_dict(d_dict)"
   ]
  },
  {
   "cell_type": "code",
   "execution_count": 33,
   "metadata": {},
   "outputs": [],
   "source": [
    "tdf = df_to_tensors('SimulatedTreatment', d, ['h0', 'h1', 'treatment', 'fungus'])"
   ]
  },
  {
   "cell_type": "markdown",
   "metadata": {},
   "source": [
    "### 6.2.1 A prior is born\n",
    "\n",
    "We will use a prior (see Code 6.14) that expects anything from 40% shrinkage up to 50% growth"
   ]
  },
  {
   "cell_type": "markdown",
   "metadata": {},
   "source": [
    "##### Code 6.14"
   ]
  },
  {
   "cell_type": "code",
   "execution_count": 34,
   "metadata": {},
   "outputs": [
    {
     "data": {
      "text/html": [
       "<div>\n",
       "<style scoped>\n",
       "    .dataframe tbody tr th:only-of-type {\n",
       "        vertical-align: middle;\n",
       "    }\n",
       "\n",
       "    .dataframe tbody tr th {\n",
       "        vertical-align: top;\n",
       "    }\n",
       "\n",
       "    .dataframe thead th {\n",
       "        text-align: right;\n",
       "    }\n",
       "</style>\n",
       "<table border=\"1\" class=\"dataframe\">\n",
       "  <thead>\n",
       "    <tr style=\"text-align: right;\">\n",
       "      <th></th>\n",
       "      <th>mean</th>\n",
       "      <th>sd</th>\n",
       "      <th>hdi_5.5%</th>\n",
       "      <th>hdi_94.5%</th>\n",
       "    </tr>\n",
       "  </thead>\n",
       "  <tbody>\n",
       "    <tr>\n",
       "      <th>sim_p</th>\n",
       "      <td>1.031</td>\n",
       "      <td>0.262</td>\n",
       "      <td>0.635</td>\n",
       "      <td>1.425</td>\n",
       "    </tr>\n",
       "  </tbody>\n",
       "</table>\n",
       "</div>"
      ],
      "text/plain": [
       "        mean     sd  hdi_5.5%  hdi_94.5%\n",
       "sim_p  1.031  0.262     0.635      1.425"
      ]
     },
     "execution_count": 34,
     "metadata": {},
     "output_type": "execute_result"
    }
   ],
   "source": [
    "sim_p = tfd.LogNormal(loc=0., scale=0.25).sample((int(1e4),))\n",
    "az.summary({\"sim_p\" : sim_p}, kind=\"stats\", hdi_prob=0.89)"
   ]
  },
  {
   "cell_type": "markdown",
   "metadata": {},
   "source": [
    "##### Code 6.15\n",
    "\n",
    "In this model only height (h0) as the predictor is included"
   ]
  },
  {
   "cell_type": "code",
   "execution_count": 35,
   "metadata": {},
   "outputs": [],
   "source": [
    "def model_6_6(h0):\n",
    "    def _generator():\n",
    "      p = yield Root(tfd.Sample(tfd.LogNormal(loc=0., scale=0.25, name=\"p\"), sample_shape=1))      \n",
    "      sigma = yield Root(tfd.Sample(tfd.Exponential(rate=1., name=\"sigma\"), sample_shape=1))\n",
    "        \n",
    "      mu = tf.squeeze(h0[tf.newaxis,...] * p[...,tf.newaxis])\n",
    "      scale = sigma[..., tf.newaxis]  \n",
    "        \n",
    "      h1 = yield tfd.Independent(tfd.Normal(loc=mu, scale=scale, name=\"h1\"), reinterpreted_batch_ndims=1)\n",
    "\n",
    "    return tfd.JointDistributionCoroutine(_generator, validate_args=False)    \n",
    "    \n",
    "jdc_6_6 = model_6_6(tdf.h0)"
   ]
  },
  {
   "cell_type": "code",
   "execution_count": 36,
   "metadata": {},
   "outputs": [
    {
     "name": "stdout",
     "output_type": "stream",
     "text": [
      "WARNING:tensorflow:6 out of the last 6 calls to <function run_hmc_chain at 0x14d2eac20> triggered tf.function retracing. Tracing is expensive and the excessive number of tracings could be due to (1) creating @tf.function repeatedly in a loop, (2) passing tensors with different shapes, (3) passing Python objects instead of tensors. For (1), please define your @tf.function outside of the loop. For (2), @tf.function has experimental_relax_shapes=True option that relaxes argument shapes that can avoid unnecessary retracing. For (3), please refer to https://www.tensorflow.org/guide/function#controlling_retracing and https://www.tensorflow.org/api_docs/python/tf/function for  more details.\n"
     ]
    },
    {
     "data": {
      "text/html": [
       "<div>\n",
       "<style scoped>\n",
       "    .dataframe tbody tr th:only-of-type {\n",
       "        vertical-align: middle;\n",
       "    }\n",
       "\n",
       "    .dataframe tbody tr th {\n",
       "        vertical-align: top;\n",
       "    }\n",
       "\n",
       "    .dataframe thead th {\n",
       "        text-align: right;\n",
       "    }\n",
       "</style>\n",
       "<table border=\"1\" class=\"dataframe\">\n",
       "  <thead>\n",
       "    <tr style=\"text-align: right;\">\n",
       "      <th></th>\n",
       "      <th>mean</th>\n",
       "      <th>sd</th>\n",
       "      <th>hdi_5.5%</th>\n",
       "      <th>hdi_94.5%</th>\n",
       "      <th>mcse_mean</th>\n",
       "      <th>mcse_sd</th>\n",
       "      <th>ess_bulk</th>\n",
       "      <th>ess_tail</th>\n",
       "      <th>r_hat</th>\n",
       "    </tr>\n",
       "  </thead>\n",
       "  <tbody>\n",
       "    <tr>\n",
       "      <th>p</th>\n",
       "      <td>1.356</td>\n",
       "      <td>0.019</td>\n",
       "      <td>1.325</td>\n",
       "      <td>1.385</td>\n",
       "      <td>0.000</td>\n",
       "      <td>0.000</td>\n",
       "      <td>2362.0</td>\n",
       "      <td>1291.0</td>\n",
       "      <td>1.0</td>\n",
       "    </tr>\n",
       "    <tr>\n",
       "      <th>sigma</th>\n",
       "      <td>1.901</td>\n",
       "      <td>0.132</td>\n",
       "      <td>1.682</td>\n",
       "      <td>2.096</td>\n",
       "      <td>0.004</td>\n",
       "      <td>0.003</td>\n",
       "      <td>1138.0</td>\n",
       "      <td>1087.0</td>\n",
       "      <td>1.0</td>\n",
       "    </tr>\n",
       "  </tbody>\n",
       "</table>\n",
       "</div>"
      ],
      "text/plain": [
       "        mean     sd  hdi_5.5%  hdi_94.5%  mcse_mean  mcse_sd  ess_bulk  \\\n",
       "p      1.356  0.019     1.325      1.385      0.000    0.000    2362.0   \n",
       "sigma  1.901  0.132     1.682      2.096      0.004    0.003    1138.0   \n",
       "\n",
       "       ess_tail  r_hat  \n",
       "p        1291.0    1.0  \n",
       "sigma    1087.0    1.0  "
      ]
     },
     "execution_count": 36,
     "metadata": {},
     "output_type": "execute_result"
    }
   ],
   "source": [
    "NUM_CHAINS_FOR_6_6 = 2\n",
    "\n",
    "init_state = [\n",
    "    tf.ones([NUM_CHAINS_FOR_6_6]),\n",
    "    tf.ones([NUM_CHAINS_FOR_6_6])    \n",
    "]\n",
    "\n",
    "bijectors = [\n",
    "    tfb.Exp(),\n",
    "    tfb.Exp()\n",
    "]\n",
    "\n",
    "posterior_6_6, trace_6_6 = sample_posterior(\n",
    "                    jdc_6_6, \n",
    "                    observed_data=(tdf.h1,), \n",
    "                    num_chains=NUM_CHAINS_FOR_6_6,\n",
    "                    init_state=init_state,\n",
    "                    bijectors=bijectors,\n",
    "                    num_samples=2000, \n",
    "                    burnin=1000,\n",
    "                    params=['p', 'sigma'])\n",
    "\n",
    "az.summary(trace_6_6, hdi_prob=0.89)"
   ]
  },
  {
   "cell_type": "markdown",
   "metadata": {},
   "source": [
    "The result shows that with height as the only predictor variable in the model there is about 40% growth on average."
   ]
  },
  {
   "cell_type": "markdown",
   "metadata": {},
   "source": [
    "##### Code 6.16\n",
    "\n",
    "In this model we include treatment & fungus variables as well"
   ]
  },
  {
   "cell_type": "code",
   "execution_count": 37,
   "metadata": {},
   "outputs": [],
   "source": [
    "def model_6_7(h0, treatment, fungus):\n",
    "    def _generator():\n",
    "      a = yield Root(tfd.Sample(tfd.LogNormal(loc=0., scale=0.2, name=\"a\"), sample_shape=1))      \n",
    "      bt = yield Root(tfd.Sample(tfd.Normal(loc=0., scale=0.5, name=\"bt\"), sample_shape=1))    \n",
    "      bf = yield Root(tfd.Sample(tfd.Normal(loc=0., scale=0.5, name=\"bf\"), sample_shape=1))    \n",
    "      sigma = yield Root(tfd.Sample(tfd.Exponential(rate=1., name=\"sigma\"), sample_shape=1))\n",
    "        \n",
    "      p = a[...,tf.newaxis] + bt[...,tf.newaxis] * treatment + bf[...,tf.newaxis] * fungus\n",
    "        \n",
    "      mu = h0 * p\n",
    "      scale = sigma[..., tf.newaxis]  \n",
    "        \n",
    "      h1 = yield tfd.Independent(tfd.Normal(loc=mu, scale=scale, name=\"h1\"), reinterpreted_batch_ndims=1)\n",
    "\n",
    "    return tfd.JointDistributionCoroutine(_generator, validate_args=False)    \n",
    "    \n",
    "jdc_6_7 = model_6_7(tdf.h0, tdf.treatment, tdf.fungus)"
   ]
  },
  {
   "cell_type": "code",
   "execution_count": 38,
   "metadata": {},
   "outputs": [
    {
     "data": {
      "text/html": [
       "<div>\n",
       "<style scoped>\n",
       "    .dataframe tbody tr th:only-of-type {\n",
       "        vertical-align: middle;\n",
       "    }\n",
       "\n",
       "    .dataframe tbody tr th {\n",
       "        vertical-align: top;\n",
       "    }\n",
       "\n",
       "    .dataframe thead th {\n",
       "        text-align: right;\n",
       "    }\n",
       "</style>\n",
       "<table border=\"1\" class=\"dataframe\">\n",
       "  <thead>\n",
       "    <tr style=\"text-align: right;\">\n",
       "      <th></th>\n",
       "      <th>mean</th>\n",
       "      <th>sd</th>\n",
       "      <th>hdi_5.5%</th>\n",
       "      <th>hdi_94.5%</th>\n",
       "      <th>mcse_mean</th>\n",
       "      <th>mcse_sd</th>\n",
       "      <th>ess_bulk</th>\n",
       "      <th>ess_tail</th>\n",
       "      <th>r_hat</th>\n",
       "    </tr>\n",
       "  </thead>\n",
       "  <tbody>\n",
       "    <tr>\n",
       "      <th>a</th>\n",
       "      <td>1.454</td>\n",
       "      <td>0.029</td>\n",
       "      <td>1.406</td>\n",
       "      <td>1.496</td>\n",
       "      <td>0.001</td>\n",
       "      <td>0.001</td>\n",
       "      <td>1245.0</td>\n",
       "      <td>1111.0</td>\n",
       "      <td>1.00</td>\n",
       "    </tr>\n",
       "    <tr>\n",
       "      <th>bt</th>\n",
       "      <td>-0.010</td>\n",
       "      <td>0.033</td>\n",
       "      <td>-0.065</td>\n",
       "      <td>0.040</td>\n",
       "      <td>0.001</td>\n",
       "      <td>0.001</td>\n",
       "      <td>1491.0</td>\n",
       "      <td>1216.0</td>\n",
       "      <td>1.00</td>\n",
       "    </tr>\n",
       "    <tr>\n",
       "      <th>bf</th>\n",
       "      <td>-0.275</td>\n",
       "      <td>0.035</td>\n",
       "      <td>-0.331</td>\n",
       "      <td>-0.218</td>\n",
       "      <td>0.001</td>\n",
       "      <td>0.001</td>\n",
       "      <td>1411.0</td>\n",
       "      <td>1303.0</td>\n",
       "      <td>1.00</td>\n",
       "    </tr>\n",
       "    <tr>\n",
       "      <th>sigma</th>\n",
       "      <td>1.396</td>\n",
       "      <td>0.104</td>\n",
       "      <td>1.234</td>\n",
       "      <td>1.557</td>\n",
       "      <td>0.007</td>\n",
       "      <td>0.005</td>\n",
       "      <td>240.0</td>\n",
       "      <td>640.0</td>\n",
       "      <td>1.01</td>\n",
       "    </tr>\n",
       "  </tbody>\n",
       "</table>\n",
       "</div>"
      ],
      "text/plain": [
       "        mean     sd  hdi_5.5%  hdi_94.5%  mcse_mean  mcse_sd  ess_bulk  \\\n",
       "a      1.454  0.029     1.406      1.496      0.001    0.001    1245.0   \n",
       "bt    -0.010  0.033    -0.065      0.040      0.001    0.001    1491.0   \n",
       "bf    -0.275  0.035    -0.331     -0.218      0.001    0.001    1411.0   \n",
       "sigma  1.396  0.104     1.234      1.557      0.007    0.005     240.0   \n",
       "\n",
       "       ess_tail  r_hat  \n",
       "a        1111.0   1.00  \n",
       "bt       1216.0   1.00  \n",
       "bf       1303.0   1.00  \n",
       "sigma     640.0   1.01  "
      ]
     },
     "execution_count": 38,
     "metadata": {},
     "output_type": "execute_result"
    }
   ],
   "source": [
    "NUM_CHAINS_FOR_6_7 = 2\n",
    "\n",
    "init_state = [\n",
    "    tf.ones([NUM_CHAINS_FOR_6_7]),\n",
    "    tf.zeros([NUM_CHAINS_FOR_6_7]),\n",
    "    tf.zeros([NUM_CHAINS_FOR_6_7]),\n",
    "    tf.ones([NUM_CHAINS_FOR_6_7])    \n",
    "]\n",
    "\n",
    "bijectors = [\n",
    "    tfb.Exp(),\n",
    "    tfb.Identity(),\n",
    "    tfb.Identity(),\n",
    "    tfb.Exp()\n",
    "]\n",
    "\n",
    "posterior_6_7, trace_6_7 = sample_posterior(\n",
    "                    jdc_6_7, \n",
    "                    observed_data=(tdf.h1,), \n",
    "                    num_chains=NUM_CHAINS_FOR_6_7,\n",
    "                    init_state=init_state,\n",
    "                    bijectors=bijectors,\n",
    "                    num_samples=2000, \n",
    "                    burnin=1000,\n",
    "                    params=['a', 'bt', 'bf', 'sigma'])\n",
    "\n",
    "az.summary(trace_6_7, hdi_prob=0.89)"
   ]
  },
  {
   "cell_type": "markdown",
   "metadata": {},
   "source": [
    "Note that `a` is same as `p` in the previous model i.e. about 40% growth on average\n",
    "\n",
    "Marginal posterior for `bt` (effect of treatment) is about 0 with a tight interval. This implies treatment is not associated with the growth.\n",
    "\n",
    "Fungus (`bf`) seems to actually hurt the growth. \n",
    "\n",
    "Clearly this does not makes us happy because we know that the treatment does matter. Next section tries to find the answers."
   ]
  },
  {
   "cell_type": "markdown",
   "metadata": {},
   "source": [
    "### 6.2.2 Blocked by consequence\n",
    "\n",
    "Fungus is a consequence of treatment i.e. fungus is a **post-treatment** variable.\n",
    "\n",
    "When we include Fungus variable, the model tries to find whether a plat developed fungus or not. However, what we really want to understand is the impact of treatment on growth. \n",
    "\n",
    "This can be done by omitting the post-treatment variable *fungus*"
   ]
  },
  {
   "cell_type": "markdown",
   "metadata": {},
   "source": [
    "##### Code 6.17\n",
    "\n",
    "In this model, fungus predictor is not included"
   ]
  },
  {
   "cell_type": "code",
   "execution_count": 39,
   "metadata": {},
   "outputs": [],
   "source": [
    "def model_6_8(h0, treatment):\n",
    "    def _generator():\n",
    "      a = yield Root(tfd.Sample(tfd.LogNormal(loc=0., scale=0.2, name=\"a\"), sample_shape=1))      \n",
    "      bt = yield Root(tfd.Sample(tfd.Normal(loc=0., scale=0.5, name=\"bt\"), sample_shape=1))    \n",
    "      sigma = yield Root(tfd.Sample(tfd.Exponential(rate=1., name=\"sigma\"), sample_shape=1))\n",
    "        \n",
    "      p = a[...,tf.newaxis] + bt[...,tf.newaxis] * treatment \n",
    "        \n",
    "      mu = h0 * p\n",
    "      scale = sigma[..., tf.newaxis]  \n",
    "        \n",
    "      h1 = yield tfd.Independent(tfd.Normal(loc=mu, scale=scale, name=\"h1\"), reinterpreted_batch_ndims=1)\n",
    "\n",
    "    return tfd.JointDistributionCoroutine(_generator, validate_args=False)    \n",
    "    \n",
    "jdc_6_8 = model_6_8(tdf.h0, tdf.treatment)"
   ]
  },
  {
   "cell_type": "code",
   "execution_count": 40,
   "metadata": {},
   "outputs": [
    {
     "data": {
      "text/html": [
       "<div>\n",
       "<style scoped>\n",
       "    .dataframe tbody tr th:only-of-type {\n",
       "        vertical-align: middle;\n",
       "    }\n",
       "\n",
       "    .dataframe tbody tr th {\n",
       "        vertical-align: top;\n",
       "    }\n",
       "\n",
       "    .dataframe thead th {\n",
       "        text-align: right;\n",
       "    }\n",
       "</style>\n",
       "<table border=\"1\" class=\"dataframe\">\n",
       "  <thead>\n",
       "    <tr style=\"text-align: right;\">\n",
       "      <th></th>\n",
       "      <th>mean</th>\n",
       "      <th>sd</th>\n",
       "      <th>hdi_5.5%</th>\n",
       "      <th>hdi_94.5%</th>\n",
       "      <th>mcse_mean</th>\n",
       "      <th>mcse_sd</th>\n",
       "      <th>ess_bulk</th>\n",
       "      <th>ess_tail</th>\n",
       "      <th>r_hat</th>\n",
       "    </tr>\n",
       "  </thead>\n",
       "  <tbody>\n",
       "    <tr>\n",
       "      <th>a</th>\n",
       "      <td>1.287</td>\n",
       "      <td>0.026</td>\n",
       "      <td>1.244</td>\n",
       "      <td>1.327</td>\n",
       "      <td>0.001</td>\n",
       "      <td>0.000</td>\n",
       "      <td>2296.0</td>\n",
       "      <td>1558.0</td>\n",
       "      <td>1.0</td>\n",
       "    </tr>\n",
       "    <tr>\n",
       "      <th>bt</th>\n",
       "      <td>0.133</td>\n",
       "      <td>0.035</td>\n",
       "      <td>0.078</td>\n",
       "      <td>0.187</td>\n",
       "      <td>0.001</td>\n",
       "      <td>0.000</td>\n",
       "      <td>3537.0</td>\n",
       "      <td>1708.0</td>\n",
       "      <td>1.0</td>\n",
       "    </tr>\n",
       "    <tr>\n",
       "      <th>sigma</th>\n",
       "      <td>1.789</td>\n",
       "      <td>0.126</td>\n",
       "      <td>1.570</td>\n",
       "      <td>1.969</td>\n",
       "      <td>0.004</td>\n",
       "      <td>0.003</td>\n",
       "      <td>1093.0</td>\n",
       "      <td>1631.0</td>\n",
       "      <td>1.0</td>\n",
       "    </tr>\n",
       "  </tbody>\n",
       "</table>\n",
       "</div>"
      ],
      "text/plain": [
       "        mean     sd  hdi_5.5%  hdi_94.5%  mcse_mean  mcse_sd  ess_bulk  \\\n",
       "a      1.287  0.026     1.244      1.327      0.001    0.000    2296.0   \n",
       "bt     0.133  0.035     0.078      0.187      0.001    0.000    3537.0   \n",
       "sigma  1.789  0.126     1.570      1.969      0.004    0.003    1093.0   \n",
       "\n",
       "       ess_tail  r_hat  \n",
       "a        1558.0    1.0  \n",
       "bt       1708.0    1.0  \n",
       "sigma    1631.0    1.0  "
      ]
     },
     "execution_count": 40,
     "metadata": {},
     "output_type": "execute_result"
    }
   ],
   "source": [
    "NUM_CHAINS_FOR_6_8 = 2\n",
    "\n",
    "init_state = [\n",
    "    tf.ones([NUM_CHAINS_FOR_6_8]),\n",
    "    tf.zeros([NUM_CHAINS_FOR_6_8]),\n",
    "    tf.ones([NUM_CHAINS_FOR_6_8])    \n",
    "]\n",
    "\n",
    "bijectors = [\n",
    "    tfb.Exp(),\n",
    "    tfb.Identity(),\n",
    "    tfb.Exp()\n",
    "]\n",
    "\n",
    "posterior_6_8, trace_6_8 = sample_posterior(\n",
    "                    jdc_6_8, \n",
    "                    observed_data=(tdf.h1,), \n",
    "                    num_chains=NUM_CHAINS_FOR_6_8,\n",
    "                    init_state=init_state,\n",
    "                    bijectors=bijectors,\n",
    "                    num_samples=2000, \n",
    "                    burnin=1000,\n",
    "                    params=['a', 'bt', 'sigma'])\n",
    "\n",
    "az.summary(trace_6_8, hdi_prob=0.89)"
   ]
  },
  {
   "cell_type": "markdown",
   "metadata": {},
   "source": [
    "We can now see that `bt` (effect of treatment) has a positive impact on the model."
   ]
  },
  {
   "cell_type": "markdown",
   "metadata": {},
   "source": [
    "### 6.2.3 Fungus and d-separation\n",
    "\n",
    "Above we built models by including and excluding various potential predictors. However, it helps to represent these relations graphically with the help of DAG."
   ]
  },
  {
   "cell_type": "markdown",
   "metadata": {},
   "source": [
    "##### Code 6.18\n",
    "\n",
    "Here we are using `causalgraphicalmodel` package"
   ]
  },
  {
   "cell_type": "code",
   "execution_count": 41,
   "metadata": {},
   "outputs": [
    {
     "data": {
      "image/png": "[encoded data removed]",
      "text/plain": [
       "<Figure size 266.457x39.685 with 1 Axes>"
      ]
     },
     "metadata": {
      "image/png": {
       "height": 54,
       "width": 280
      }
     },
     "output_type": "display_data"
    }
   ],
   "source": [
    "plant_dag = CausalGraphicalModel(\n",
    "    nodes=[\"H0\", \"H1\", \"F\", \"T\"],\n",
    "    edges=[(\"H0\", \"H1\"),\n",
    "           (\"F\", \"H1\"),\n",
    "           (\"T\", \"F\")])\n",
    "pgm = daft.PGM()\n",
    "coordinates = {\"H0\": (0, 0), \"T\": (4, 0), \"F\": (3, 0), \"H1\": (2, 0)}\n",
    "for node in plant_dag.dag.nodes:\n",
    "    pgm.add_node(node, node, *coordinates[node])\n",
    "for edge in plant_dag.dag.edges:\n",
    "    pgm.add_edge(*edge)\n",
    "pgm.render()\n",
    "plt.gca().invert_yaxis()"
   ]
  },
  {
   "cell_type": "markdown",
   "metadata": {},
   "source": [
    "The graph clearly shows how treatment's (T) impact on height (H1) is **blocked** by fungus (F)\n",
    "\n",
    "Another way to say above is - If we condition on F it induces **D-SEPARATION**. The \"d\" stands for *directional*\n",
    "\n",
    "H1 is conditionally independent of T if we include F (the blocker)\n"
   ]
  },
  {
   "cell_type": "markdown",
   "metadata": {},
   "source": [
    "##### Code 6.19"
   ]
  },
  {
   "cell_type": "code",
   "execution_count": 42,
   "metadata": {},
   "outputs": [
    {
     "name": "stdout",
     "output_type": "stream",
     "text": [
      "('F', 'H0', set())\n",
      "('H0', 'T', set())\n",
      "('H1', 'T', {'F'})\n"
     ]
    }
   ],
   "source": [
    "all_independencies = plant_dag.get_all_independence_relationships()\n",
    "for s in all_independencies:\n",
    "    if all(t[0] != s[0] or t[1] != s[1] or not t[2].issubset(s[2])\n",
    "           for t in all_independencies if t != s):\n",
    "        print(s)"
   ]
  },
  {
   "cell_type": "markdown",
   "metadata": {},
   "source": [
    "Here is how we want to read the above result -\n",
    "\n",
    "* H0 is conditionally independent on T  (note the empty set). In other words, original height H0 should not be associated with T\n",
    "\n",
    "* H0 is conditionally independent on F  (note the empty set). In other words, original height H0 should not be associated with F\n",
    "\n",
    "* H1 is conditionally independent on T if we include F"
   ]
  },
  {
   "cell_type": "markdown",
   "metadata": {},
   "source": [
    "##### Code 6.20\n",
    "\n",
    "A synthetic data generation to modifiy the plant growth simulation so that fungus has no influence on growth, but moisture M influences both H1 and F"
   ]
  },
  {
   "cell_type": "code",
   "execution_count": 43,
   "metadata": {},
   "outputs": [
    {
     "data": {
      "text/html": [
       "<div>\n",
       "<style scoped>\n",
       "    .dataframe tbody tr th:only-of-type {\n",
       "        vertical-align: middle;\n",
       "    }\n",
       "\n",
       "    .dataframe tbody tr th {\n",
       "        vertical-align: top;\n",
       "    }\n",
       "\n",
       "    .dataframe thead th {\n",
       "        text-align: right;\n",
       "    }\n",
       "</style>\n",
       "<table border=\"1\" class=\"dataframe\">\n",
       "  <thead>\n",
       "    <tr style=\"text-align: right;\">\n",
       "      <th></th>\n",
       "      <th>mean</th>\n",
       "      <th>sd</th>\n",
       "      <th>hdi_5.5%</th>\n",
       "      <th>hdi_94.5%</th>\n",
       "    </tr>\n",
       "  </thead>\n",
       "  <tbody>\n",
       "    <tr>\n",
       "      <th>h0</th>\n",
       "      <td>9.994</td>\n",
       "      <td>2.06</td>\n",
       "      <td>6.494</td>\n",
       "      <td>12.935</td>\n",
       "    </tr>\n",
       "    <tr>\n",
       "      <th>h1</th>\n",
       "      <td>16.544</td>\n",
       "      <td>2.80</td>\n",
       "      <td>12.268</td>\n",
       "      <td>20.809</td>\n",
       "    </tr>\n",
       "    <tr>\n",
       "      <th>treatment</th>\n",
       "      <td>0.500</td>\n",
       "      <td>0.50</td>\n",
       "      <td>0.000</td>\n",
       "      <td>1.000</td>\n",
       "    </tr>\n",
       "    <tr>\n",
       "      <th>fungus</th>\n",
       "      <td>0.491</td>\n",
       "      <td>0.50</td>\n",
       "      <td>0.000</td>\n",
       "      <td>1.000</td>\n",
       "    </tr>\n",
       "  </tbody>\n",
       "</table>\n",
       "</div>"
      ],
      "text/plain": [
       "             mean    sd  hdi_5.5%  hdi_94.5%\n",
       "h0          9.994  2.06     6.494     12.935\n",
       "h1         16.544  2.80    12.268     20.809\n",
       "treatment   0.500  0.50     0.000      1.000\n",
       "fungus      0.491  0.50     0.000      1.000"
      ]
     },
     "execution_count": 43,
     "metadata": {},
     "output_type": "execute_result"
    }
   ],
   "source": [
    "_SEED = 71\n",
    "\n",
    "# Note - even after providing SeedStream and generated seeds\n",
    "# it still does not respect it\n",
    "def simulate():\n",
    "    seed = tfp.util.SeedStream(_SEED, salt=\"sim_heights\")\n",
    "\n",
    "    # number of plants\n",
    "    N = 1000\n",
    "\n",
    "    # simulate initial heights\n",
    "    h0 = tfd.Normal(loc=10., scale=2.).sample(N, seed=seed())\n",
    "\n",
    "    # assign treatments and simulate fungus and growth\n",
    "    treatment = tf.repeat([0., 1.], repeats=N // 2)\n",
    "    \n",
    "    M = tf.cast(tfd.Bernoulli(probs=0.5).sample(N, seed=seed()), dtype=tf.float32)\n",
    "    \n",
    "    fungus = tfd.Binomial(total_count=1., probs=(0.5 - treatment * 0.4 + M * 0.4)).sample(seed=seed())\n",
    "    \n",
    "    h1 = h0 + tfd.Normal(loc=5. + 3. * M, scale=1.).sample(seed=seed())\n",
    "\n",
    "    # compose a clean data frame\n",
    "    d = {\"h0\":h0, \"h1\":h1, \"treatment\":treatment, \"fungus\":fungus}\n",
    "    \n",
    "    return d\n",
    "    \n",
    "d = simulate()\n",
    "\n",
    "az.summary(d, kind=\"stats\", hdi_prob=0.89)"
   ]
  },
  {
   "cell_type": "markdown",
   "metadata": {},
   "source": [
    "## 6.3 Collider bias"
   ]
  },
  {
   "cell_type": "markdown",
   "metadata": {},
   "source": [
    "### 6.3.1 Collider of false sorrow\n",
    "\n",
    "\n",
    "Question we consider in this section is how aging influences happiness ?\n",
    "\n",
    "We also know that happiness (H) & age (A) both cause marriage (M). This makes marriage (M) a **collider**\n",
    "\n",
    "H ----> M <----- A\n"
   ]
  },
  {
   "cell_type": "markdown",
   "metadata": {},
   "source": [
    "##### Code 6.21\n",
    "\n",
    "Simulating (synthetic data generation) happiness and its relationship with age & marriage\n",
    "\n",
    "* Each year, 20 people are born with uniformly distributed happiness values\n",
    "* Each year, each person ages one year. Happiness does not change.\n",
    "* At age 18, individuals can be married. The odds of marriage each year are proportional to an individual's happiness\n",
    "* Once married, an individual remains married\n",
    "* After age 65, individuals leave the sample. (They move to Spain)"
   ]
  },
  {
   "cell_type": "code",
   "execution_count": 44,
   "metadata": {},
   "outputs": [],
   "source": [
    "# Port of R code from here https://github.com/rmcelreath/rethinking/blob/master/R/sim_happiness.R\n",
    "def sim_happiness(seed=1977, N_years=1000, max_age=65, N_births=20, aom=18):\n",
    "    # age existing individuals & newborns\n",
    "    A = np.repeat(np.arange(1, N_years + 1), N_births)\n",
    "    # sim happiness trait - never changes\n",
    "    H = np.repeat(np.linspace(-2, 2, N_births)[None, :], N_years, 0).reshape(-1)\n",
    "    # not yet married\n",
    "    M = np.zeros(N_years * N_births, dtype=np.uint8)\n",
    "\n",
    "    def update_M(i, M):\n",
    "        # for each person over 17, chance get married\n",
    "        married = tfd.Bernoulli(logits=(H - 4.)).sample(seed=seed + i).numpy()\n",
    "        return np.where((A >= i) & (M == 0.), married, M)\n",
    "\n",
    "    def fori_loop(lower, upper, body_fun, init_val):\n",
    "        val = init_val\n",
    "        for i in range(lower, upper):\n",
    "            val = body_fun(i, val)\n",
    "        return val\n",
    "    \n",
    "    M = fori_loop(aom, max_age+1, update_M, M)    \n",
    "\n",
    "    # mortality\n",
    "    deaths = A > max_age\n",
    "    A = A[~deaths]\n",
    "    H = H[~deaths]\n",
    "    M = M[~deaths]\n",
    "\n",
    "    d = pd.DataFrame({\"age\": A, \"married\": M, \"happiness\": H})\n",
    "    return d\n",
    "\n",
    "d = sim_happiness(seed=1977, N_years=1000)"
   ]
  },
  {
   "cell_type": "code",
   "execution_count": 45,
   "metadata": {},
   "outputs": [
    {
     "data": {
      "text/html": [
       "<div>\n",
       "<style scoped>\n",
       "    .dataframe tbody tr th:only-of-type {\n",
       "        vertical-align: middle;\n",
       "    }\n",
       "\n",
       "    .dataframe tbody tr th {\n",
       "        vertical-align: top;\n",
       "    }\n",
       "\n",
       "    .dataframe thead th {\n",
       "        text-align: right;\n",
       "    }\n",
       "</style>\n",
       "<table border=\"1\" class=\"dataframe\">\n",
       "  <thead>\n",
       "    <tr style=\"text-align: right;\">\n",
       "      <th></th>\n",
       "      <th>age</th>\n",
       "      <th>married</th>\n",
       "      <th>happiness</th>\n",
       "    </tr>\n",
       "  </thead>\n",
       "  <tbody>\n",
       "    <tr>\n",
       "      <th>count</th>\n",
       "      <td>1300.000000</td>\n",
       "      <td>1300.000000</td>\n",
       "      <td>1.300000e+03</td>\n",
       "    </tr>\n",
       "    <tr>\n",
       "      <th>mean</th>\n",
       "      <td>33.000000</td>\n",
       "      <td>0.292308</td>\n",
       "      <td>-8.335213e-17</td>\n",
       "    </tr>\n",
       "    <tr>\n",
       "      <th>std</th>\n",
       "      <td>18.768883</td>\n",
       "      <td>0.454998</td>\n",
       "      <td>1.214421e+00</td>\n",
       "    </tr>\n",
       "    <tr>\n",
       "      <th>min</th>\n",
       "      <td>1.000000</td>\n",
       "      <td>0.000000</td>\n",
       "      <td>-2.000000e+00</td>\n",
       "    </tr>\n",
       "    <tr>\n",
       "      <th>25%</th>\n",
       "      <td>17.000000</td>\n",
       "      <td>0.000000</td>\n",
       "      <td>-1.000000e+00</td>\n",
       "    </tr>\n",
       "    <tr>\n",
       "      <th>50%</th>\n",
       "      <td>33.000000</td>\n",
       "      <td>0.000000</td>\n",
       "      <td>-1.110223e-16</td>\n",
       "    </tr>\n",
       "    <tr>\n",
       "      <th>75%</th>\n",
       "      <td>49.000000</td>\n",
       "      <td>1.000000</td>\n",
       "      <td>1.000000e+00</td>\n",
       "    </tr>\n",
       "    <tr>\n",
       "      <th>max</th>\n",
       "      <td>65.000000</td>\n",
       "      <td>1.000000</td>\n",
       "      <td>2.000000e+00</td>\n",
       "    </tr>\n",
       "  </tbody>\n",
       "</table>\n",
       "</div>"
      ],
      "text/plain": [
       "               age      married     happiness\n",
       "count  1300.000000  1300.000000  1.300000e+03\n",
       "mean     33.000000     0.292308 -8.335213e-17\n",
       "std      18.768883     0.454998  1.214421e+00\n",
       "min       1.000000     0.000000 -2.000000e+00\n",
       "25%      17.000000     0.000000 -1.000000e+00\n",
       "50%      33.000000     0.000000 -1.110223e-16\n",
       "75%      49.000000     1.000000  1.000000e+00\n",
       "max      65.000000     1.000000  2.000000e+00"
      ]
     },
     "execution_count": 45,
     "metadata": {},
     "output_type": "execute_result"
    }
   ],
   "source": [
    "d.describe()"
   ]
  },
  {
   "cell_type": "markdown",
   "metadata": {},
   "source": [
    "##### Code 6.22\n",
    "\n",
    "Rescaling age so that the range from 18 to 65 is one unit\n",
    "\n",
    "We are adding a new column called \"A\" that ranges from 0 to 1 where 0 is age 18 and 1 is age 65\n",
    "\n",
    "Happiness is on an arbitary scale from -2 to +2 "
   ]
  },
  {
   "cell_type": "code",
   "execution_count": 46,
   "metadata": {},
   "outputs": [],
   "source": [
    "d2 = d[d.age > 17].copy()  # only adults\n",
    "d2[\"A\"] = (d2.age - 18) / (65 - 18)"
   ]
  },
  {
   "cell_type": "markdown",
   "metadata": {},
   "source": [
    "##### Code 6.23\n",
    "\n",
    "Here we are doing multiple regression. The linear model is \n",
    "\n",
    "$\\mu_i$ = $\\alpha_{MID[i]}$ + $\\beta_A$ * $A_i$"
   ]
  },
  {
   "cell_type": "code",
   "execution_count": 47,
   "metadata": {},
   "outputs": [],
   "source": [
    "d2[\"mid\"] = d2.married\n",
    "\n",
    "tdf = df_to_tensors('SimulatedHappiness', d2, {\n",
    "    'mid' : tf.int32,\n",
    "    'A'   : tf.float32,\n",
    "    'happiness' : tf.float32\n",
    "})\n",
    "\n",
    "def model_6_9(mid, A):\n",
    "    def _generator():\n",
    "      a = yield Root(tfd.Sample(tfd.Normal(loc=0., scale=1., name=\"a\"), sample_shape=2))      \n",
    "      bA = yield Root(tfd.Sample(tfd.Normal(loc=0., scale=2., name=\"bA\"), sample_shape=1))    \n",
    "      sigma = yield Root(tfd.Sample(tfd.Exponential(rate=1., name=\"sigma\"), sample_shape=1))\n",
    "        \n",
    "      mu = tf.squeeze(tf.gather(a, mid, axis=-1)) + bA[...,tf.newaxis] * A        \n",
    "      scale = sigma[..., tf.newaxis]  \n",
    "        \n",
    "      h = yield tfd.Independent(tfd.Normal(loc=mu, scale=scale, name=\"h\"), reinterpreted_batch_ndims=1)\n",
    "\n",
    "    return tfd.JointDistributionCoroutine(_generator, validate_args=False)    \n",
    "    \n",
    "jdc_6_9 = model_6_9(mid=tdf.mid, A=tdf.A)"
   ]
  },
  {
   "cell_type": "code",
   "execution_count": 48,
   "metadata": {},
   "outputs": [
    {
     "data": {
      "text/html": [
       "<div>\n",
       "<style scoped>\n",
       "    .dataframe tbody tr th:only-of-type {\n",
       "        vertical-align: middle;\n",
       "    }\n",
       "\n",
       "    .dataframe tbody tr th {\n",
       "        vertical-align: top;\n",
       "    }\n",
       "\n",
       "    .dataframe thead th {\n",
       "        text-align: right;\n",
       "    }\n",
       "</style>\n",
       "<table border=\"1\" class=\"dataframe\">\n",
       "  <thead>\n",
       "    <tr style=\"text-align: right;\">\n",
       "      <th></th>\n",
       "      <th>mean</th>\n",
       "      <th>sd</th>\n",
       "      <th>hdi_5.5%</th>\n",
       "      <th>hdi_94.5%</th>\n",
       "      <th>mcse_mean</th>\n",
       "      <th>mcse_sd</th>\n",
       "      <th>ess_bulk</th>\n",
       "      <th>ess_tail</th>\n",
       "      <th>r_hat</th>\n",
       "    </tr>\n",
       "  </thead>\n",
       "  <tbody>\n",
       "    <tr>\n",
       "      <th>a[0]</th>\n",
       "      <td>-0.187</td>\n",
       "      <td>0.062</td>\n",
       "      <td>-0.300</td>\n",
       "      <td>-0.098</td>\n",
       "      <td>0.002</td>\n",
       "      <td>0.001</td>\n",
       "      <td>1171.0</td>\n",
       "      <td>2052.0</td>\n",
       "      <td>1.00</td>\n",
       "    </tr>\n",
       "    <tr>\n",
       "      <th>a[1]</th>\n",
       "      <td>1.342</td>\n",
       "      <td>0.087</td>\n",
       "      <td>1.211</td>\n",
       "      <td>1.489</td>\n",
       "      <td>0.002</td>\n",
       "      <td>0.002</td>\n",
       "      <td>1250.0</td>\n",
       "      <td>1815.0</td>\n",
       "      <td>1.00</td>\n",
       "    </tr>\n",
       "    <tr>\n",
       "      <th>bA</th>\n",
       "      <td>-0.838</td>\n",
       "      <td>0.116</td>\n",
       "      <td>-1.032</td>\n",
       "      <td>-0.665</td>\n",
       "      <td>0.003</td>\n",
       "      <td>0.002</td>\n",
       "      <td>1113.0</td>\n",
       "      <td>1769.0</td>\n",
       "      <td>1.00</td>\n",
       "    </tr>\n",
       "    <tr>\n",
       "      <th>sigma</th>\n",
       "      <td>0.989</td>\n",
       "      <td>0.022</td>\n",
       "      <td>0.953</td>\n",
       "      <td>1.021</td>\n",
       "      <td>0.000</td>\n",
       "      <td>0.000</td>\n",
       "      <td>8540.0</td>\n",
       "      <td>778.0</td>\n",
       "      <td>1.01</td>\n",
       "    </tr>\n",
       "  </tbody>\n",
       "</table>\n",
       "</div>"
      ],
      "text/plain": [
       "        mean     sd  hdi_5.5%  hdi_94.5%  mcse_mean  mcse_sd  ess_bulk  \\\n",
       "a[0]  -0.187  0.062    -0.300     -0.098      0.002    0.001    1171.0   \n",
       "a[1]   1.342  0.087     1.211      1.489      0.002    0.002    1250.0   \n",
       "bA    -0.838  0.116    -1.032     -0.665      0.003    0.002    1113.0   \n",
       "sigma  0.989  0.022     0.953      1.021      0.000    0.000    8540.0   \n",
       "\n",
       "       ess_tail  r_hat  \n",
       "a[0]     2052.0   1.00  \n",
       "a[1]     1815.0   1.00  \n",
       "bA       1769.0   1.00  \n",
       "sigma     778.0   1.01  "
      ]
     },
     "execution_count": 48,
     "metadata": {},
     "output_type": "execute_result"
    }
   ],
   "source": [
    "NUM_CHAINS_FOR_6_9 = 2\n",
    "\n",
    "init_state = [\n",
    "    tf.ones([NUM_CHAINS_FOR_6_9, 2]),\n",
    "    tf.zeros([NUM_CHAINS_FOR_6_9]),\n",
    "    tf.ones([NUM_CHAINS_FOR_6_9])    \n",
    "]\n",
    "\n",
    "bijectors = [\n",
    "    tfb.Identity(),\n",
    "    tfb.Identity(),\n",
    "    tfb.Exp()\n",
    "]\n",
    "\n",
    "observed_value = (tdf.happiness,)\n",
    "\n",
    "posterior_6_9, trace_6_9 = sample_posterior(\n",
    "                    jdc_6_9, \n",
    "                    observed_data=observed_value, \n",
    "                    num_chains=NUM_CHAINS_FOR_6_9,\n",
    "                    init_state=init_state,\n",
    "                    bijectors=bijectors,\n",
    "                    num_samples=2000, \n",
    "                    burnin=1000,\n",
    "                    params=['a', 'bA', 'sigma'])\n",
    "\n",
    "az.summary(trace_6_9, hdi_prob=0.89)"
   ]
  },
  {
   "cell_type": "markdown",
   "metadata": {},
   "source": [
    "The model here is quite sure that age is negatively associated with happiness."
   ]
  },
  {
   "cell_type": "markdown",
   "metadata": {},
   "source": [
    "##### Code 6.24\n",
    "\n",
    "What would happen if omit the marriage status ?\n",
    "\n",
    "Note - $a$ is not any more a vector; just a plain intercept"
   ]
  },
  {
   "cell_type": "code",
   "execution_count": 49,
   "metadata": {},
   "outputs": [],
   "source": [
    "def model_6_10(A):\n",
    "    def _generator():\n",
    "      a = yield Root(tfd.Sample(tfd.Normal(loc=0., scale=1., name=\"a\"), sample_shape=1))      \n",
    "      bA = yield Root(tfd.Sample(tfd.Normal(loc=0., scale=2., name=\"bA\"), sample_shape=1))    \n",
    "      sigma = yield Root(tfd.Sample(tfd.Exponential(rate=1., name=\"sigma\"), sample_shape=1))\n",
    "        \n",
    "      mu = a[...,tf.newaxis] + bA[...,tf.newaxis] * A        \n",
    "      scale = sigma[..., tf.newaxis]  \n",
    "        \n",
    "      h = yield tfd.Independent(tfd.Normal(loc=mu, scale=scale, name=\"h\"), reinterpreted_batch_ndims=1)\n",
    "\n",
    "    return tfd.JointDistributionCoroutine(_generator, validate_args=False)    \n",
    "    \n",
    "jdc_6_10 = model_6_10(A=tdf.A)"
   ]
  },
  {
   "cell_type": "code",
   "execution_count": 50,
   "metadata": {},
   "outputs": [
    {
     "data": {
      "text/html": [
       "<div>\n",
       "<style scoped>\n",
       "    .dataframe tbody tr th:only-of-type {\n",
       "        vertical-align: middle;\n",
       "    }\n",
       "\n",
       "    .dataframe tbody tr th {\n",
       "        vertical-align: top;\n",
       "    }\n",
       "\n",
       "    .dataframe thead th {\n",
       "        text-align: right;\n",
       "    }\n",
       "</style>\n",
       "<table border=\"1\" class=\"dataframe\">\n",
       "  <thead>\n",
       "    <tr style=\"text-align: right;\">\n",
       "      <th></th>\n",
       "      <th>mean</th>\n",
       "      <th>sd</th>\n",
       "      <th>hdi_5.5%</th>\n",
       "      <th>hdi_94.5%</th>\n",
       "      <th>mcse_mean</th>\n",
       "      <th>mcse_sd</th>\n",
       "      <th>ess_bulk</th>\n",
       "      <th>ess_tail</th>\n",
       "      <th>r_hat</th>\n",
       "    </tr>\n",
       "  </thead>\n",
       "  <tbody>\n",
       "    <tr>\n",
       "      <th>a</th>\n",
       "      <td>0.002</td>\n",
       "      <td>0.076</td>\n",
       "      <td>-0.126</td>\n",
       "      <td>0.114</td>\n",
       "      <td>0.003</td>\n",
       "      <td>0.002</td>\n",
       "      <td>614.0</td>\n",
       "      <td>1333.0</td>\n",
       "      <td>1.0</td>\n",
       "    </tr>\n",
       "    <tr>\n",
       "      <th>bA</th>\n",
       "      <td>-0.006</td>\n",
       "      <td>0.132</td>\n",
       "      <td>-0.225</td>\n",
       "      <td>0.190</td>\n",
       "      <td>0.006</td>\n",
       "      <td>0.004</td>\n",
       "      <td>535.0</td>\n",
       "      <td>1040.0</td>\n",
       "      <td>1.0</td>\n",
       "    </tr>\n",
       "    <tr>\n",
       "      <th>sigma</th>\n",
       "      <td>1.216</td>\n",
       "      <td>0.027</td>\n",
       "      <td>1.174</td>\n",
       "      <td>1.260</td>\n",
       "      <td>0.001</td>\n",
       "      <td>0.000</td>\n",
       "      <td>1958.0</td>\n",
       "      <td>1762.0</td>\n",
       "      <td>1.0</td>\n",
       "    </tr>\n",
       "  </tbody>\n",
       "</table>\n",
       "</div>"
      ],
      "text/plain": [
       "        mean     sd  hdi_5.5%  hdi_94.5%  mcse_mean  mcse_sd  ess_bulk  \\\n",
       "a      0.002  0.076    -0.126      0.114      0.003    0.002     614.0   \n",
       "bA    -0.006  0.132    -0.225      0.190      0.006    0.004     535.0   \n",
       "sigma  1.216  0.027     1.174      1.260      0.001    0.000    1958.0   \n",
       "\n",
       "       ess_tail  r_hat  \n",
       "a        1333.0    1.0  \n",
       "bA       1040.0    1.0  \n",
       "sigma    1762.0    1.0  "
      ]
     },
     "execution_count": 50,
     "metadata": {},
     "output_type": "execute_result"
    }
   ],
   "source": [
    "NUM_CHAINS_FOR_6_10 = 2\n",
    "\n",
    "init_state = [\n",
    "    tf.ones([NUM_CHAINS_FOR_6_10]),\n",
    "    tf.zeros([NUM_CHAINS_FOR_6_10]),\n",
    "    tf.ones([NUM_CHAINS_FOR_6_10])    \n",
    "]\n",
    "\n",
    "bijectors = [\n",
    "    tfb.Identity(),\n",
    "    tfb.Identity(),\n",
    "    tfb.Exp()\n",
    "]\n",
    "\n",
    "observed_value = (tdf.happiness,)\n",
    "\n",
    "posterior_6_10, trace_6_10 = sample_posterior(\n",
    "                    jdc_6_10, \n",
    "                    observed_data=observed_value, \n",
    "                    num_chains=NUM_CHAINS_FOR_6_10,\n",
    "                    init_state=init_state,\n",
    "                    bijectors=bijectors,\n",
    "                    num_samples=2000, \n",
    "                    burnin=1000,\n",
    "                    params=['a', 'bA', 'sigma'])\n",
    "\n",
    "az.summary(trace_6_10, hdi_prob=0.89)"
   ]
  },
  {
   "cell_type": "markdown",
   "metadata": {},
   "source": [
    "The value is $a$ is close to zero. This implies that the model finds no association between age and happiness.\n",
    "\n",
    "The pattern above is exactly what we should expect when condition on a **collider**. Here the **collider** is marriage status. It is a common consequence of age and happiness and therefore if we condition on it we are bound to induce a spurious association between the two causes"
   ]
  },
  {
   "cell_type": "markdown",
   "metadata": {},
   "source": [
    "### 6.3.2 The hanted DAG\n",
    "\n",
    "Collider may not be easily avoidable because they may be unmesasured causes. \"Unmeasured\" => Our DAG is haunted \n"
   ]
  },
  {
   "cell_type": "markdown",
   "metadata": {},
   "source": [
    "##### Code 6.25\n",
    "\n",
    "Here we will simulate another dataset using which we will try to infer the direct influene of both parents (P) and grandparents (G) on the educational achievement of childern (C)\n",
    "\n",
    "It should be obvious that G -> P, P->C and G->C "
   ]
  },
  {
   "cell_type": "code",
   "execution_count": 51,
   "metadata": {},
   "outputs": [],
   "source": [
    "N = 200  # number of grandparent-parent-child triads\n",
    "b_GP = 1.  # direct effect of G on P\n",
    "b_GC = 0.  # direct effect of G on C\n",
    "b_PC = 1.  # direct effect of P on C\n",
    "b_U = 2.  # direct effect of U on P and C"
   ]
  },
  {
   "cell_type": "markdown",
   "metadata": {},
   "source": [
    "##### Code 6.26\n",
    "\n",
    "Here is our \"functional\" (relationship) modeling\n",
    "\n",
    "* P is some function of G & U\n",
    "* C is some function of G, P & U\n",
    "* G & U are not functions of any other known variables"
   ]
  },
  {
   "cell_type": "code",
   "execution_count": 52,
   "metadata": {},
   "outputs": [
    {
     "data": {
      "text/html": [
       "<div>\n",
       "<style scoped>\n",
       "    .dataframe tbody tr th:only-of-type {\n",
       "        vertical-align: middle;\n",
       "    }\n",
       "\n",
       "    .dataframe tbody tr th {\n",
       "        vertical-align: top;\n",
       "    }\n",
       "\n",
       "    .dataframe thead th {\n",
       "        text-align: right;\n",
       "    }\n",
       "</style>\n",
       "<table border=\"1\" class=\"dataframe\">\n",
       "  <thead>\n",
       "    <tr style=\"text-align: right;\">\n",
       "      <th></th>\n",
       "      <th>C</th>\n",
       "      <th>P</th>\n",
       "      <th>G</th>\n",
       "      <th>U</th>\n",
       "    </tr>\n",
       "  </thead>\n",
       "  <tbody>\n",
       "    <tr>\n",
       "      <th>0</th>\n",
       "      <td>3.512862</td>\n",
       "      <td>1.650976</td>\n",
       "      <td>-1.042326</td>\n",
       "      <td>1</td>\n",
       "    </tr>\n",
       "    <tr>\n",
       "      <th>1</th>\n",
       "      <td>-4.590997</td>\n",
       "      <td>-1.555232</td>\n",
       "      <td>0.232263</td>\n",
       "      <td>-1</td>\n",
       "    </tr>\n",
       "    <tr>\n",
       "      <th>2</th>\n",
       "      <td>4.886199</td>\n",
       "      <td>3.082321</td>\n",
       "      <td>1.986989</td>\n",
       "      <td>1</td>\n",
       "    </tr>\n",
       "    <tr>\n",
       "      <th>3</th>\n",
       "      <td>1.636396</td>\n",
       "      <td>1.243976</td>\n",
       "      <td>-1.034003</td>\n",
       "      <td>1</td>\n",
       "    </tr>\n",
       "    <tr>\n",
       "      <th>4</th>\n",
       "      <td>-8.797684</td>\n",
       "      <td>-5.349887</td>\n",
       "      <td>-3.269576</td>\n",
       "      <td>-1</td>\n",
       "    </tr>\n",
       "    <tr>\n",
       "      <th>...</th>\n",
       "      <td>...</td>\n",
       "      <td>...</td>\n",
       "      <td>...</td>\n",
       "      <td>...</td>\n",
       "    </tr>\n",
       "    <tr>\n",
       "      <th>195</th>\n",
       "      <td>3.745021</td>\n",
       "      <td>0.391891</td>\n",
       "      <td>0.254253</td>\n",
       "      <td>1</td>\n",
       "    </tr>\n",
       "    <tr>\n",
       "      <th>196</th>\n",
       "      <td>-4.513893</td>\n",
       "      <td>-2.212740</td>\n",
       "      <td>-1.100699</td>\n",
       "      <td>-1</td>\n",
       "    </tr>\n",
       "    <tr>\n",
       "      <th>197</th>\n",
       "      <td>-3.206512</td>\n",
       "      <td>-0.455612</td>\n",
       "      <td>0.602985</td>\n",
       "      <td>-1</td>\n",
       "    </tr>\n",
       "    <tr>\n",
       "      <th>198</th>\n",
       "      <td>1.082468</td>\n",
       "      <td>-0.115803</td>\n",
       "      <td>0.106212</td>\n",
       "      <td>1</td>\n",
       "    </tr>\n",
       "    <tr>\n",
       "      <th>199</th>\n",
       "      <td>-2.545109</td>\n",
       "      <td>0.838045</td>\n",
       "      <td>2.178708</td>\n",
       "      <td>-1</td>\n",
       "    </tr>\n",
       "  </tbody>\n",
       "</table>\n",
       "<p>200 rows × 4 columns</p>\n",
       "</div>"
      ],
      "text/plain": [
       "            C         P         G  U\n",
       "0    3.512862  1.650976 -1.042326  1\n",
       "1   -4.590997 -1.555232  0.232263 -1\n",
       "2    4.886199  3.082321  1.986989  1\n",
       "3    1.636396  1.243976 -1.034003  1\n",
       "4   -8.797684 -5.349887 -3.269576 -1\n",
       "..        ...       ...       ... ..\n",
       "195  3.745021  0.391891  0.254253  1\n",
       "196 -4.513893 -2.212740 -1.100699 -1\n",
       "197 -3.206512 -0.455612  0.602985 -1\n",
       "198  1.082468 -0.115803  0.106212  1\n",
       "199 -2.545109  0.838045  2.178708 -1\n",
       "\n",
       "[200 rows x 4 columns]"
      ]
     },
     "execution_count": 52,
     "metadata": {},
     "output_type": "execute_result"
    }
   ],
   "source": [
    "def grand_parent_sim():\n",
    "    seed = tfp.util.SeedStream(1, salt=\"sim_grand_parent\")\n",
    "    U = 2 * tfd.Bernoulli(probs=0.5).sample(seed=seed(), sample_shape=N) - 1\n",
    "    G = tfd.Normal(loc=0.,scale=1.).sample(seed=seed(), sample_shape=N)    \n",
    "    temp = b_GP * G + b_U * tf.cast(U, dtype=tf.float32)    \n",
    "    P = tfd.Normal(loc=temp,scale=1.).sample(seed=seed())    \n",
    "    temp2 = b_PC * P + b_GC * G + b_U * tf.cast(U, dtype=tf.float32)  \n",
    "    C = tfd.Normal(loc=temp2,scale=1.).sample(seed=seed())\n",
    "\n",
    "    d = pd.DataFrame({\"C\": C.numpy(), \"P\": P.numpy(), \"G\": G.numpy(), \"U\": U.numpy()})\n",
    "    \n",
    "    return d\n",
    "\n",
    "d = grand_parent_sim()\n",
    "\n",
    "d"
   ]
  },
  {
   "cell_type": "code",
   "execution_count": 53,
   "metadata": {},
   "outputs": [],
   "source": [
    "tdf = df_to_tensors('SimulatedEducation', d, ['P', 'G', 'C', 'U'])"
   ]
  },
  {
   "cell_type": "markdown",
   "metadata": {},
   "source": [
    "##### Code 6.27\n",
    "\n",
    "Simple regression of C on P & G"
   ]
  },
  {
   "cell_type": "code",
   "execution_count": 54,
   "metadata": {},
   "outputs": [],
   "source": [
    "def model_6_11(P, G):\n",
    "    def _generator():\n",
    "      a = yield Root(tfd.Sample(tfd.Normal(loc=0., scale=1., name=\"a\"), sample_shape=1))      \n",
    "      b_PC = yield Root(tfd.Sample(tfd.Normal(loc=0., scale=1., name=\"b_PC\"), sample_shape=1))      \n",
    "      b_GC = yield Root(tfd.Sample(tfd.Normal(loc=0., scale=1., name=\"b_GC\"), sample_shape=1))      \n",
    "      sigma = yield Root(tfd.Sample(tfd.Exponential(rate=1., name=\"sigma\"), sample_shape=1))\n",
    "       \n",
    "      mu = a[...,tf.newaxis] + b_PC[...,tf.newaxis] * P + b_GC[...,tf.newaxis] * G    \n",
    "      scale = sigma[..., tf.newaxis]  \n",
    "        \n",
    "      h = yield tfd.Independent(tfd.Normal(loc=mu, scale=scale, name=\"h\"), reinterpreted_batch_ndims=1)\n",
    "\n",
    "    return tfd.JointDistributionCoroutine(_generator, validate_args=False)    \n",
    "    \n",
    "jdc_6_11 = model_6_11(P=tdf.P, G=tdf.G)"
   ]
  },
  {
   "cell_type": "code",
   "execution_count": 55,
   "metadata": {},
   "outputs": [
    {
     "data": {
      "text/html": [
       "<div>\n",
       "<style scoped>\n",
       "    .dataframe tbody tr th:only-of-type {\n",
       "        vertical-align: middle;\n",
       "    }\n",
       "\n",
       "    .dataframe tbody tr th {\n",
       "        vertical-align: top;\n",
       "    }\n",
       "\n",
       "    .dataframe thead th {\n",
       "        text-align: right;\n",
       "    }\n",
       "</style>\n",
       "<table border=\"1\" class=\"dataframe\">\n",
       "  <thead>\n",
       "    <tr style=\"text-align: right;\">\n",
       "      <th></th>\n",
       "      <th>mean</th>\n",
       "      <th>sd</th>\n",
       "      <th>hdi_5.5%</th>\n",
       "      <th>hdi_94.5%</th>\n",
       "      <th>mcse_mean</th>\n",
       "      <th>mcse_sd</th>\n",
       "      <th>ess_bulk</th>\n",
       "      <th>ess_tail</th>\n",
       "      <th>r_hat</th>\n",
       "    </tr>\n",
       "  </thead>\n",
       "  <tbody>\n",
       "    <tr>\n",
       "      <th>a</th>\n",
       "      <td>0.054</td>\n",
       "      <td>0.095</td>\n",
       "      <td>-0.083</td>\n",
       "      <td>0.224</td>\n",
       "      <td>0.001</td>\n",
       "      <td>0.002</td>\n",
       "      <td>9015.0</td>\n",
       "      <td>2351.0</td>\n",
       "      <td>1.01</td>\n",
       "    </tr>\n",
       "    <tr>\n",
       "      <th>bPC</th>\n",
       "      <td>1.817</td>\n",
       "      <td>0.045</td>\n",
       "      <td>1.745</td>\n",
       "      <td>1.885</td>\n",
       "      <td>0.001</td>\n",
       "      <td>0.001</td>\n",
       "      <td>3239.0</td>\n",
       "      <td>4036.0</td>\n",
       "      <td>1.00</td>\n",
       "    </tr>\n",
       "    <tr>\n",
       "      <th>bGC</th>\n",
       "      <td>-0.896</td>\n",
       "      <td>0.098</td>\n",
       "      <td>-1.064</td>\n",
       "      <td>-0.755</td>\n",
       "      <td>0.001</td>\n",
       "      <td>0.001</td>\n",
       "      <td>7854.0</td>\n",
       "      <td>2566.0</td>\n",
       "      <td>1.00</td>\n",
       "    </tr>\n",
       "    <tr>\n",
       "      <th>sigma</th>\n",
       "      <td>1.381</td>\n",
       "      <td>0.070</td>\n",
       "      <td>1.275</td>\n",
       "      <td>1.496</td>\n",
       "      <td>0.002</td>\n",
       "      <td>0.001</td>\n",
       "      <td>1869.0</td>\n",
       "      <td>2672.0</td>\n",
       "      <td>1.00</td>\n",
       "    </tr>\n",
       "  </tbody>\n",
       "</table>\n",
       "</div>"
      ],
      "text/plain": [
       "        mean     sd  hdi_5.5%  hdi_94.5%  mcse_mean  mcse_sd  ess_bulk  \\\n",
       "a      0.054  0.095    -0.083      0.224      0.001    0.002    9015.0   \n",
       "bPC    1.817  0.045     1.745      1.885      0.001    0.001    3239.0   \n",
       "bGC   -0.896  0.098    -1.064     -0.755      0.001    0.001    7854.0   \n",
       "sigma  1.381  0.070     1.275      1.496      0.002    0.001    1869.0   \n",
       "\n",
       "       ess_tail  r_hat  \n",
       "a        2351.0   1.01  \n",
       "bPC      4036.0   1.00  \n",
       "bGC      2566.0   1.00  \n",
       "sigma    2672.0   1.00  "
      ]
     },
     "execution_count": 55,
     "metadata": {},
     "output_type": "execute_result"
    }
   ],
   "source": [
    "NUM_CHAINS_FOR_6_11 = 2\n",
    "\n",
    "init_state = [\n",
    "    tf.zeros([NUM_CHAINS_FOR_6_11]),\n",
    "    tf.ones([NUM_CHAINS_FOR_6_11]),\n",
    "    tf.ones([NUM_CHAINS_FOR_6_11]),\n",
    "    tf.ones([NUM_CHAINS_FOR_6_11])    \n",
    "]\n",
    "\n",
    "bijectors = [\n",
    "    tfb.Identity(),\n",
    "    tfb.Identity(),\n",
    "    tfb.Identity(),\n",
    "    tfb.Exp()\n",
    "]\n",
    "\n",
    "observed_value = (tdf.C,)\n",
    "\n",
    "posterior_6_11, trace_6_11 = sample_posterior(\n",
    "                    jdc_6_11, \n",
    "                    observed_data=observed_value, \n",
    "                    num_chains=NUM_CHAINS_FOR_6_11,\n",
    "                    init_state=init_state,\n",
    "                    bijectors=bijectors,\n",
    "                    num_samples=4000, \n",
    "                    burnin=1000,\n",
    "                    params=['a', 'bPC', 'bGC', 'sigma'])\n",
    "\n",
    "az.summary(trace_6_11, hdi_prob=0.89)"
   ]
  },
  {
   "cell_type": "markdown",
   "metadata": {},
   "source": [
    "The inferred effect of parents looks too big, almost twice as large as it should be i.e. 1 vs 1.8\n",
    "\n",
    "Some correlation between P & C is due to U and that's a simple confound.\n",
    "\n",
    "Interestingly model is confident (bGC) that the direct effect of grandparents is to hurt their grandkids"
   ]
  },
  {
   "cell_type": "markdown",
   "metadata": {},
   "source": [
    "##### Code 6.28\n",
    "\n",
    "Regression that conditions on U as well"
   ]
  },
  {
   "cell_type": "code",
   "execution_count": 56,
   "metadata": {},
   "outputs": [],
   "source": [
    "def model_6_12(P, G, U):\n",
    "    def _generator():\n",
    "      a = yield Root(tfd.Sample(tfd.Normal(loc=0., scale=1., name=\"a\"), sample_shape=1))      \n",
    "      b_PC = yield Root(tfd.Sample(tfd.Normal(loc=0., scale=1., name=\"b_PC\"), sample_shape=1))      \n",
    "      b_GC = yield Root(tfd.Sample(tfd.Normal(loc=0., scale=1., name=\"b_GC\"), sample_shape=1))      \n",
    "      b_U = yield Root(tfd.Sample(tfd.Normal(loc=0., scale=1., name=\"b_U\"), sample_shape=1))      \n",
    "      sigma = yield Root(tfd.Sample(tfd.Exponential(rate=1., name=\"sigma\"), sample_shape=1))\n",
    "       \n",
    "      mu = a[...,tf.newaxis] + \\\n",
    "            b_PC[...,tf.newaxis] * P + \\\n",
    "            b_GC[...,tf.newaxis] * G + \\\n",
    "            b_U[...,tf.newaxis] * U\n",
    "    \n",
    "      scale = sigma[..., tf.newaxis]  \n",
    "        \n",
    "      h = yield tfd.Independent(tfd.Normal(loc=mu, scale=scale, name=\"h\"), reinterpreted_batch_ndims=1)\n",
    "\n",
    "    return tfd.JointDistributionCoroutine(_generator, validate_args=False)    \n",
    "    \n",
    "jdc_6_12 = model_6_12(P=tdf.P, G=tdf.G, U=tdf.U)"
   ]
  },
  {
   "cell_type": "code",
   "execution_count": 57,
   "metadata": {},
   "outputs": [
    {
     "data": {
      "text/html": [
       "<div>\n",
       "<style scoped>\n",
       "    .dataframe tbody tr th:only-of-type {\n",
       "        vertical-align: middle;\n",
       "    }\n",
       "\n",
       "    .dataframe tbody tr th {\n",
       "        vertical-align: top;\n",
       "    }\n",
       "\n",
       "    .dataframe thead th {\n",
       "        text-align: right;\n",
       "    }\n",
       "</style>\n",
       "<table border=\"1\" class=\"dataframe\">\n",
       "  <thead>\n",
       "    <tr style=\"text-align: right;\">\n",
       "      <th></th>\n",
       "      <th>mean</th>\n",
       "      <th>sd</th>\n",
       "      <th>hdi_5.5%</th>\n",
       "      <th>hdi_94.5%</th>\n",
       "      <th>mcse_mean</th>\n",
       "      <th>mcse_sd</th>\n",
       "      <th>ess_bulk</th>\n",
       "      <th>ess_tail</th>\n",
       "      <th>r_hat</th>\n",
       "    </tr>\n",
       "  </thead>\n",
       "  <tbody>\n",
       "    <tr>\n",
       "      <th>a</th>\n",
       "      <td>-0.058</td>\n",
       "      <td>0.071</td>\n",
       "      <td>-0.163</td>\n",
       "      <td>0.059</td>\n",
       "      <td>0.001</td>\n",
       "      <td>0.001</td>\n",
       "      <td>6726.0</td>\n",
       "      <td>1807.0</td>\n",
       "      <td>1.00</td>\n",
       "    </tr>\n",
       "    <tr>\n",
       "      <th>bPC</th>\n",
       "      <td>0.933</td>\n",
       "      <td>0.079</td>\n",
       "      <td>0.803</td>\n",
       "      <td>1.052</td>\n",
       "      <td>0.002</td>\n",
       "      <td>0.002</td>\n",
       "      <td>1036.0</td>\n",
       "      <td>1604.0</td>\n",
       "      <td>1.01</td>\n",
       "    </tr>\n",
       "    <tr>\n",
       "      <th>bGC</th>\n",
       "      <td>0.074</td>\n",
       "      <td>0.109</td>\n",
       "      <td>-0.096</td>\n",
       "      <td>0.248</td>\n",
       "      <td>0.003</td>\n",
       "      <td>0.002</td>\n",
       "      <td>1310.0</td>\n",
       "      <td>1879.0</td>\n",
       "      <td>1.00</td>\n",
       "    </tr>\n",
       "    <tr>\n",
       "      <th>bU</th>\n",
       "      <td>2.134</td>\n",
       "      <td>0.173</td>\n",
       "      <td>1.858</td>\n",
       "      <td>2.406</td>\n",
       "      <td>0.006</td>\n",
       "      <td>0.004</td>\n",
       "      <td>959.0</td>\n",
       "      <td>1562.0</td>\n",
       "      <td>1.01</td>\n",
       "    </tr>\n",
       "    <tr>\n",
       "      <th>sigma</th>\n",
       "      <td>1.030</td>\n",
       "      <td>0.052</td>\n",
       "      <td>0.954</td>\n",
       "      <td>1.119</td>\n",
       "      <td>0.001</td>\n",
       "      <td>0.000</td>\n",
       "      <td>6042.0</td>\n",
       "      <td>2102.0</td>\n",
       "      <td>1.00</td>\n",
       "    </tr>\n",
       "  </tbody>\n",
       "</table>\n",
       "</div>"
      ],
      "text/plain": [
       "        mean     sd  hdi_5.5%  hdi_94.5%  mcse_mean  mcse_sd  ess_bulk  \\\n",
       "a     -0.058  0.071    -0.163      0.059      0.001    0.001    6726.0   \n",
       "bPC    0.933  0.079     0.803      1.052      0.002    0.002    1036.0   \n",
       "bGC    0.074  0.109    -0.096      0.248      0.003    0.002    1310.0   \n",
       "bU     2.134  0.173     1.858      2.406      0.006    0.004     959.0   \n",
       "sigma  1.030  0.052     0.954      1.119      0.001    0.000    6042.0   \n",
       "\n",
       "       ess_tail  r_hat  \n",
       "a        1807.0   1.00  \n",
       "bPC      1604.0   1.01  \n",
       "bGC      1879.0   1.00  \n",
       "bU       1562.0   1.01  \n",
       "sigma    2102.0   1.00  "
      ]
     },
     "execution_count": 57,
     "metadata": {},
     "output_type": "execute_result"
    }
   ],
   "source": [
    "NUM_CHAINS_FOR_6_12 = 2\n",
    "\n",
    "init_state = [\n",
    "    tf.zeros([NUM_CHAINS_FOR_6_12]),\n",
    "    tf.zeros([NUM_CHAINS_FOR_6_12]),\n",
    "    tf.zeros([NUM_CHAINS_FOR_6_12]),\n",
    "    tf.ones([NUM_CHAINS_FOR_6_12]),  # <-- note 1 instead of zero here. Necessary !!\n",
    "    tf.ones([NUM_CHAINS_FOR_6_12])    \n",
    "]\n",
    "\n",
    "bijectors = [\n",
    "    tfb.Identity(),\n",
    "    tfb.Identity(),\n",
    "    tfb.Identity(),\n",
    "    tfb.Identity(),\n",
    "    tfb.Exp()\n",
    "]\n",
    "\n",
    "observed_value = (tdf.C,)\n",
    "\n",
    "posterior_6_12, trace_6_12 = sample_posterior(\n",
    "                    jdc_6_12, \n",
    "                    observed_data=observed_value, \n",
    "                    num_chains=NUM_CHAINS_FOR_6_12,\n",
    "                    init_state=init_state,\n",
    "                    bijectors=bijectors,\n",
    "                    num_samples=4000, \n",
    "                    burnin=1000,\n",
    "                    params=['a', 'bPC', 'bGC', 'bU', 'sigma'])\n",
    "\n",
    "az.summary(trace_6_12, hdi_prob=0.89)"
   ]
  },
  {
   "cell_type": "markdown",
   "metadata": {},
   "source": [
    "These are similar to the slopes we used to simulate (compare to the constants in Code 6.25)\n",
    "\n",
    "This is an example of **SIMPSON's PARADOX**. Usually Simpson's paradox is presented in cases where adding the new predictor helps use. But in this case it misleads us. "
   ]
  },
  {
   "cell_type": "markdown",
   "metadata": {},
   "source": [
    "## 6.4 Confronting confounding\n",
    "\n",
    "We have now seen that in multiple regression if we control for wrong variables they can ruin the inference "
   ]
  },
  {
   "cell_type": "markdown",
   "metadata": {},
   "source": [
    "### 6.4.1 Shutting the backdoor\n",
    "\n",
    "\n",
    "Blocking all confounding paths between some predictor X & some outcome Y is known as shutting the **BACKDOOR**\n",
    "\n",
    "In simple words, we do not want any spurrious corrleation sneaking in through a non-causal path\n"
   ]
  },
  {
   "cell_type": "markdown",
   "metadata": {},
   "source": [
    "We will create the graphs for 4 elemental confounds. \n",
    "\n",
    "**Note that there is no corresponding code section in the book for drawing and hence these section are not marked with Codde 6.X heading**"
   ]
  },
  {
   "cell_type": "markdown",
   "metadata": {},
   "source": [
    "**The Fork**  "
   ]
  },
  {
   "cell_type": "code",
   "execution_count": 58,
   "metadata": {},
   "outputs": [
    {
     "data": {
      "image/png": "[encoded data removed]",
      "text/plain": [
       "<Figure size 153.071x96.378 with 1 Axes>"
      ]
     },
     "metadata": {
      "image/png": {
       "height": 110,
       "width": 167
      }
     },
     "output_type": "display_data"
    }
   ],
   "source": [
    "dag_the_fork = CausalGraphicalModel(\n",
    "    nodes=[\"X\", \"Y\", \"Z\"],\n",
    "    edges=[(\"Z\", \"X\"), (\"Z\", \"Y\")])\n",
    "\n",
    "pgm = daft.PGM()\n",
    "coordinates = {\"X\": (0, 0), \"Y\" : (2,0), \"Z\": (1, 1)}\n",
    "for node in dag_the_fork.dag.nodes:\n",
    "    pgm.add_node(node, node, *coordinates[node])\n",
    "for edge in dag_the_fork.dag.edges:\n",
    "    pgm.add_edge(*edge)\n",
    "pgm.render();"
   ]
  },
  {
   "cell_type": "markdown",
   "metadata": {},
   "source": [
    "Fork is a classic confounder. Z is common cause of X & Y. Learning X tells us nothing about Y"
   ]
  },
  {
   "cell_type": "markdown",
   "metadata": {},
   "source": [
    "**The Pipe**"
   ]
  },
  {
   "cell_type": "code",
   "execution_count": 59,
   "metadata": {},
   "outputs": [
    {
     "data": {
      "image/png": "[encoded data removed]",
      "text/plain": [
       "<Figure size 153.071x39.685 with 1 Axes>"
      ]
     },
     "metadata": {
      "image/png": {
       "height": 54,
       "width": 167
      }
     },
     "output_type": "display_data"
    }
   ],
   "source": [
    "dag_the_pipe = CausalGraphicalModel(\n",
    "    nodes=[\"X\", \"Y\", \"Z\"],\n",
    "    edges=[(\"X\", \"Z\"), (\"Z\", \"Y\")])\n",
    "\n",
    "pgm = daft.PGM()\n",
    "coordinates = {\"X\": (0, 0), \"Y\" : (2,0), \"Z\": (1, 0)}\n",
    "for node in dag_the_pipe.dag.nodes:\n",
    "    pgm.add_node(node, node, *coordinates[node])\n",
    "for edge in dag_the_pipe.dag.edges:\n",
    "    pgm.add_edge(*edge)\n",
    "pgm.render();"
   ]
  },
  {
   "cell_type": "markdown",
   "metadata": {},
   "source": [
    "If we condition on Z we block the path from X to Y. Recall the treatment & fungus experiment"
   ]
  },
  {
   "cell_type": "markdown",
   "metadata": {},
   "source": [
    "**The Collider**"
   ]
  },
  {
   "cell_type": "code",
   "execution_count": 60,
   "metadata": {},
   "outputs": [
    {
     "data": {
      "image/png": "[encoded data removed]",
      "text/plain": [
       "<Figure size 153.071x39.685 with 1 Axes>"
      ]
     },
     "metadata": {
      "image/png": {
       "height": 54,
       "width": 167
      }
     },
     "output_type": "display_data"
    }
   ],
   "source": [
    "dag_the_collider = CausalGraphicalModel(\n",
    "    nodes=[\"X\", \"Y\", \"Z\"],\n",
    "    edges=[(\"X\", \"Z\"), (\"Y\", \"Z\")])\n",
    "\n",
    "pgm = daft.PGM()\n",
    "coordinates = {\"X\": (0, 0), \"Y\" : (2,0), \"Z\": (1, 0)}\n",
    "for node in dag_the_collider.dag.nodes:\n",
    "    pgm.add_node(node, node, *coordinates[node])\n",
    "for edge in dag_the_collider.dag.edges:\n",
    "    pgm.add_edge(*edge)\n",
    "pgm.render();"
   ]
  },
  {
   "cell_type": "markdown",
   "metadata": {},
   "source": [
    "Conditioning on collider i.e Z opens the path i.e info flows between X and Y"
   ]
  },
  {
   "cell_type": "markdown",
   "metadata": {},
   "source": [
    "**The Descendant**"
   ]
  },
  {
   "cell_type": "code",
   "execution_count": 61,
   "metadata": {},
   "outputs": [
    {
     "data": {
      "image/png": "[encoded data removed]",
      "text/plain": [
       "<Figure size 153.071x153.071 with 1 Axes>"
      ]
     },
     "metadata": {
      "image/png": {
       "height": 167,
       "width": 167
      }
     },
     "output_type": "display_data"
    }
   ],
   "source": [
    "dag_the_descendant = CausalGraphicalModel(\n",
    "    nodes=[\"X\", \"Y\", \"Z\", \"D\"],\n",
    "    edges=[(\"X\", \"Z\"), (\"Y\", \"Z\"), (\"Z\", \"D\")])\n",
    "\n",
    "pgm = daft.PGM()\n",
    "coordinates = {\"X\": (0, 1), \"Y\" : (2,1), \"Z\": (1, 0), \"D\" : (1,-1)}\n",
    "for node in dag_the_descendant.dag.nodes:\n",
    "    pgm.add_node(node, node, *coordinates[node])\n",
    "for edge in dag_the_descendant.dag.edges:\n",
    "    pgm.add_edge(*edge)\n",
    "pgm.render();"
   ]
  },
  {
   "cell_type": "markdown",
   "metadata": {},
   "source": [
    "Here is D is the descendant variable. if we condition on it then it will be similar to closig the pipe."
   ]
  },
  {
   "cell_type": "markdown",
   "metadata": {},
   "source": [
    "### 6.4.2 Two roads\n",
    "\n",
    "DAG shown below (Code 6.29) has U which is unobserved variable \n",
    "\n",
    "We are interested in X->Y but which observed covariates (A, B, C) do we need to add to the model ?"
   ]
  },
  {
   "cell_type": "markdown",
   "metadata": {},
   "source": [
    "##### Code 6.29"
   ]
  },
  {
   "cell_type": "code",
   "execution_count": 62,
   "metadata": {},
   "outputs": [
    {
     "data": {
      "image/png": "[encoded data removed]",
      "text/plain": [
       "<Figure size 153.071x209.764 with 1 Axes>"
      ]
     },
     "metadata": {
      "image/png": {
       "height": 224,
       "width": 167
      }
     },
     "output_type": "display_data"
    }
   ],
   "source": [
    "dag_6_1 = CausalGraphicalModel(\n",
    "    nodes=[\"X\", \"Y\", \"C\", \"U\", \"B\", \"A\"],\n",
    "    edges=[(\"X\", \"Y\"), (\"U\", \"X\"), (\"A\", \"U\"), (\"A\", \"C\"),\n",
    "           (\"C\", \"Y\"), (\"U\", \"B\"), (\"C\", \"B\")])\n",
    "\n",
    "\n",
    "# let's render the DAG as well (note - no code section for it in the book but is displayed)\n",
    "# so instead of copying the picture we are generating it\n",
    "pgm = daft.PGM()\n",
    "coordinates = {\"X\": (0, 3), \"Y\" : (2,3), \"U\": (0, 1), \"C\": (2, 1), \"A\": (1, 0), \"B\" : (1, 2)}\n",
    "for node in dag_6_1.dag.nodes:\n",
    "    pgm.add_node(node, node, *coordinates[node])\n",
    "for edge in dag_6_1.dag.edges:\n",
    "    pgm.add_edge(*edge)\n",
    "pgm.render();"
   ]
  },
  {
   "cell_type": "code",
   "execution_count": 63,
   "metadata": {},
   "outputs": [
    {
     "name": "stdout",
     "output_type": "stream",
     "text": [
      "frozenset({'C'})\n",
      "frozenset({'A'})\n"
     ]
    }
   ],
   "source": [
    "all_adjustment_sets = dag_6_1.get_all_backdoor_adjustment_sets(\"X\", \"Y\")\n",
    "for s in all_adjustment_sets:\n",
    "    if all(not t.issubset(s) for t in all_adjustment_sets if t != s):\n",
    "        if s != {\"U\"}:\n",
    "            print(s)"
   ]
  },
  {
   "cell_type": "markdown",
   "metadata": {},
   "source": [
    "Read above results as -\n",
    "\n",
    "Conditioning on either A or C would suffice"
   ]
  },
  {
   "cell_type": "markdown",
   "metadata": {},
   "source": [
    "### 6.4.3 Backdoor waffles\n",
    "\n",
    "\n",
    "Let's consider the Waffle House & Divorce rate correlation and with the help of graph we can find the covariates we should include in our model"
   ]
  },
  {
   "cell_type": "markdown",
   "metadata": {},
   "source": [
    "##### Code 6.30\n",
    "\n",
    "* S => Whether or not state is in southern USA\n",
    "* A => Median Age\n",
    "* M => Marriage Rate\n",
    "* W => Number of Waffle Houses\n",
    "* D => Divorce Rate\n"
   ]
  },
  {
   "cell_type": "code",
   "execution_count": 64,
   "metadata": {},
   "outputs": [
    {
     "data": {
      "image/png": "[encoded data removed]",
      "text/plain": [
       "<Figure size 153.071x153.071 with 1 Axes>"
      ]
     },
     "metadata": {
      "image/png": {
       "height": 167,
       "width": 167
      }
     },
     "output_type": "display_data"
    }
   ],
   "source": [
    "dag_6_2 = CausalGraphicalModel(\n",
    "    nodes=[\"S\", \"A\", \"D\", \"M\", \"W\"],\n",
    "    edges=[(\"S\", \"A\"), (\"A\", \"D\"),\n",
    "           (\"S\", \"M\"), (\"M\", \"D\"),\n",
    "           (\"S\", \"W\"), (\"W\", \"D\"),\n",
    "           (\"A\", \"M\")])\n",
    "\n",
    "# let's render the DAG as well (note - no code section for it in the book but is displayed)\n",
    "# so instead of copying the picture we are generating it\n",
    "\n",
    "pgm = daft.PGM()\n",
    "coordinates = {\"S\": (0, 0), \"W\" : (2,0), \"A\": (0, 2), \"D\": (2, 2), \"M\": (1, 1),}\n",
    "for node in dag_6_2.dag.nodes:\n",
    "    pgm.add_node(node, node, *coordinates[node])\n",
    "for edge in dag_6_2.dag.edges:\n",
    "    pgm.add_edge(*edge)\n",
    "pgm.render();"
   ]
  },
  {
   "cell_type": "code",
   "execution_count": 65,
   "metadata": {},
   "outputs": [
    {
     "name": "stdout",
     "output_type": "stream",
     "text": [
      "frozenset({'S'})\n",
      "frozenset({'A', 'M'})\n"
     ]
    }
   ],
   "source": [
    "all_adjustment_sets = dag_6_2.get_all_backdoor_adjustment_sets(\"W\", \"D\")\n",
    "for s in all_adjustment_sets:\n",
    "    if all(not t.issubset(s)for t in all_adjustment_sets if t != s):\n",
    "        print(s)"
   ]
  },
  {
   "cell_type": "markdown",
   "metadata": {},
   "source": [
    "This shows that we could control either for S alone or A and M"
   ]
  },
  {
   "cell_type": "markdown",
   "metadata": {},
   "source": [
    "##### Code 6.31\n",
    "\n",
    "Above DAG is not satisfactory as it assumes that there are **no** unobserved confounds.\n",
    "\n",
    "We can further test the graph by finding the **conditional independencies**"
   ]
  },
  {
   "cell_type": "code",
   "execution_count": 66,
   "metadata": {},
   "outputs": [
    {
     "name": "stdout",
     "output_type": "stream",
     "text": [
      "('M', 'W', {'S'})\n",
      "('S', 'D', {'A', 'M', 'W'})\n",
      "('A', 'W', {'S'})\n"
     ]
    }
   ],
   "source": [
    "all_independencies = dag_6_2.get_all_independence_relationships()\n",
    "for s in all_independencies:\n",
    "    if all(t[0] != s[0] or t[1] != s[1] or not t[2].issubset(s[2])\n",
    "           for t in all_independencies if t != s):\n",
    "        print(s)"
   ]
  },
  {
   "cell_type": "markdown",
   "metadata": {},
   "source": [
    "Read above result as :\n",
    "\n",
    "* Marriage Rate & Waffle Houses should be independent if conditioning on S\n",
    "* Median Age & Waffle Houses should be independent if conditioning on S\n",
    "* Being in south and Divorce Rate should be indpendent if condition on (W, M and A)"
   ]
  }
 ],
 "metadata": {
  "kernelspec": {
   "display_name": "Python 3 (ipykernel)",
   "language": "python",
   "name": "python3"
  },
  "language_info": {
   "codemirror_mode": {
    "name": "ipython",
    "version": 3
   },
   "file_extension": ".py",
   "mimetype": "text/x-python",
   "name": "python",
   "nbconvert_exporter": "python",
   "pygments_lexer": "ipython3",
   "version": "3.7.12"
  },
  "toc": {
   "base_numbering": 1,
   "nav_menu": {},
   "number_sections": true,
   "sideBar": true,
   "skip_h1_title": false,
   "title_cell": "Table of Contents",
   "title_sidebar": "Contents",
   "toc_cell": false,
   "toc_position": {},
   "toc_section_display": true,
   "toc_window_display": false
  }
 },
 "nbformat": 4,
 "nbformat_minor": 4
}
